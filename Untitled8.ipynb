{
  "nbformat": 4,
  "nbformat_minor": 0,
  "metadata": {
    "colab": {
      "name": "Untitled8.ipynb",
      "provenance": [],
      "collapsed_sections": [],
      "include_colab_link": true
    },
    "kernelspec": {
      "name": "python3",
      "display_name": "Python 3"
    },
    "language_info": {
      "name": "python"
    }
  },
  "cells": [
    {
      "cell_type": "markdown",
      "metadata": {
        "id": "view-in-github",
        "colab_type": "text"
      },
      "source": [
        "<a href=\"https://colab.research.google.com/github/guebis-art/Projeto_de_ciencias_de_dados/blob/main/Untitled8.ipynb\" target=\"_parent\"><img src=\"https://colab.research.google.com/assets/colab-badge.svg\" alt=\"Open In Colab\"/></a>"
      ]
    },
    {
      "cell_type": "markdown",
      "metadata": {
        "id": "41uJ9BASy_U0"
      },
      "source": [
        "Tecnologias utilizadas"
      ]
    },
    {
      "cell_type": "markdown",
      "metadata": {
        "id": "KNdfM7lDz0U3"
      },
      "source": [
        "**PANDAS**     é uma biblioteca de software livre escrita em Python para manipulação e análise de dados particularmente ele oferece estrutura de dados e operações para manipular dados numéricos em formato tabular e séries de temporais. \n",
        "\n",
        "**MATPLOTLIB**  -- A Python Matplotlib é uma biblioteca da linguagem de programação Python, utilizada para visualização de dados e plotagem gráfica. Ela é utilizada pela extensão de matemática numérica do Python, a NumPy, e pela biblioteca SciPy.\n",
        "\n",
        "\n",
        "\n",
        "**SEABORN** -- É uma biblioteca de visualização incrível para plotagem de gráficos estatísticos em Python. Ele fornece belos estilos padrão e paletas de cores para tornar os gráficos estatísticos mais atraentes. Essa biblioteca é mais voltada para a área estatística e análise de dados\n",
        "\n",
        "\n",
        "**O NUMPY**-- é uma poderosa biblioteca Python que é usada principalmente para realizar cálculos em Arrays Multidimensionais. O NumPy fornece um grande conjunto de funções e operações de biblioteca que ajudam os programadores a executar facilmente cálculos numéricos.\n",
        "\n",
        "\n",
        "O **SCIKIT-LEARN** --  é uma biblioteca da linguagem Python desenvolvida especificamente para aplicação prática de machine learning. Esta biblioteca dispõe de ferramentas simples e eficientes para análise preditiva de dados, é reutilizável em diferentes situações, possui código aberto, sendo acessível a todos e foi construída sobre os pacotes NumPy, SciPy e matplotilib.\n",
        "\n",
        "**STATSMODELS**  --   é um módulo Python que fornece classes e funções para a estimativa de muitos modelos estatísticos diferentes, bem como para a realização de testes estatísticos e exploração de dados estatísticos. Uma extensa lista de estatísticas de resultados está disponível para cada estimador.\n",
        "\n",
        "A biblioteca **SCIPY** disponibiliza muitas funcionalidades de computação científica implementadas de forma eficiente, incluindo integração numérica, interpolação, otimização, álgebra linear e Estatística.\n",
        "\n",
        "\n",
        "**MATH**-- Este módulo fornece acesso às funções matemáticas definidas pelo padrão C.\n",
        "\n",
        "**PLOTLY** -- É uma biblioteca de visualização de dados do Python, e que permite a criação e publicação de gráficos interativos, bonitos e de altíssima qualidade.\n",
        "\n",
        "\n",
        "**GOOGLE COLAB** -- Google Colab, ou Google Collaboratory, é um serviço de armazenamento em nuvem de notebooks voltados à criação e execução de códigos em Python, diretamente em um navegador, sem a necessidade de nenhum tipo de instalação de software em uma máquina.\n",
        "\n",
        "\n"
      ]
    },
    {
      "cell_type": "code",
      "metadata": {
        "id": "AOqKMcJ7zGap"
      },
      "source": [
        ""
      ],
      "execution_count": null,
      "outputs": []
    },
    {
      "cell_type": "code",
      "metadata": {
        "id": "4l5uRb7UzMsf"
      },
      "source": [
        ""
      ],
      "execution_count": null,
      "outputs": []
    },
    {
      "cell_type": "markdown",
      "metadata": {
        "id": "c7nH4P1hMlqZ"
      },
      "source": [
        "Importando as bibliotecas"
      ]
    },
    {
      "cell_type": "code",
      "metadata": {
        "id": "W3uuWcvAo1I9",
        "colab": {
          "base_uri": "https://localhost:8080/"
        },
        "outputId": "033e9714-04b8-4022-bc06-ca471ea7d73c"
      },
      "source": [
        "import pandas as pd\n",
        "import matplotlib.pyplot as plt\n",
        "import seaborn as sns\n",
        "import numpy as np\n",
        "from sklearn.linear_model import LinearRegression\n",
        "from sklearn.model_selection import train_test_split\n",
        "from sklearn.metrics import mean_absolute_error\n",
        "import statsmodels.api as sm\n",
        "from statsmodels.tools.eval_measures import mse, rmse\n",
        "pd.options.display.float_format = '{:.5f}'.format\n",
        "import warnings\n",
        "import math\n",
        "import scipy.stats as stats\n",
        "import scipy\n",
        "from sklearn.preprocessing import scale\n",
        "\n",
        "warnings.filterwarnings('ignore')\n",
        "import plotly.express as px\n",
        "\n"
      ],
      "execution_count": null,
      "outputs": [
        {
          "output_type": "stream",
          "name": "stderr",
          "text": [
            "/usr/local/lib/python3.7/dist-packages/statsmodels/tools/_testing.py:19: FutureWarning: pandas.util.testing is deprecated. Use the functions in the public API at pandas.testing instead.\n",
            "  import pandas.util.testing as tm\n"
          ]
        }
      ]
    },
    {
      "cell_type": "code",
      "metadata": {
        "id": "SpIg6MGKzvjH"
      },
      "source": [
        ""
      ],
      "execution_count": null,
      "outputs": []
    },
    {
      "cell_type": "markdown",
      "metadata": {
        "id": "K3M-16JyzwJX"
      },
      "source": [
        ""
      ]
    },
    {
      "cell_type": "code",
      "metadata": {
        "colab": {
          "base_uri": "https://localhost:8080/"
        },
        "id": "ba6M1L6mVomq",
        "outputId": "01d32057-fcf9-4e25-b2e4-3b7f69fdf332"
      },
      "source": [
        "pip install bar_chart_race"
      ],
      "execution_count": null,
      "outputs": [
        {
          "output_type": "stream",
          "name": "stdout",
          "text": [
            "Collecting bar_chart_race\n",
            "  Downloading bar_chart_race-0.1.0-py3-none-any.whl (156 kB)\n",
            "\u001b[?25l\r\u001b[K     |██                              | 10 kB 24.6 MB/s eta 0:00:01\r\u001b[K     |████▏                           | 20 kB 24.8 MB/s eta 0:00:01\r\u001b[K     |██████▎                         | 30 kB 12.0 MB/s eta 0:00:01\r\u001b[K     |████████▍                       | 40 kB 9.3 MB/s eta 0:00:01\r\u001b[K     |██████████▌                     | 51 kB 5.1 MB/s eta 0:00:01\r\u001b[K     |████████████▌                   | 61 kB 5.6 MB/s eta 0:00:01\r\u001b[K     |██████████████▋                 | 71 kB 5.5 MB/s eta 0:00:01\r\u001b[K     |████████████████▊               | 81 kB 6.0 MB/s eta 0:00:01\r\u001b[K     |██████████████████▉             | 92 kB 4.6 MB/s eta 0:00:01\r\u001b[K     |█████████████████████           | 102 kB 5.0 MB/s eta 0:00:01\r\u001b[K     |███████████████████████         | 112 kB 5.0 MB/s eta 0:00:01\r\u001b[K     |█████████████████████████       | 122 kB 5.0 MB/s eta 0:00:01\r\u001b[K     |███████████████████████████▏    | 133 kB 5.0 MB/s eta 0:00:01\r\u001b[K     |█████████████████████████████▎  | 143 kB 5.0 MB/s eta 0:00:01\r\u001b[K     |███████████████████████████████▍| 153 kB 5.0 MB/s eta 0:00:01\r\u001b[K     |████████████████████████████████| 156 kB 5.0 MB/s \n",
            "\u001b[?25hRequirement already satisfied: matplotlib>=3.1 in /usr/local/lib/python3.7/dist-packages (from bar_chart_race) (3.2.2)\n",
            "Requirement already satisfied: pandas>=0.24 in /usr/local/lib/python3.7/dist-packages (from bar_chart_race) (1.1.5)\n",
            "Requirement already satisfied: kiwisolver>=1.0.1 in /usr/local/lib/python3.7/dist-packages (from matplotlib>=3.1->bar_chart_race) (1.3.2)\n",
            "Requirement already satisfied: pyparsing!=2.0.4,!=2.1.2,!=2.1.6,>=2.0.1 in /usr/local/lib/python3.7/dist-packages (from matplotlib>=3.1->bar_chart_race) (2.4.7)\n",
            "Requirement already satisfied: numpy>=1.11 in /usr/local/lib/python3.7/dist-packages (from matplotlib>=3.1->bar_chart_race) (1.19.5)\n",
            "Requirement already satisfied: cycler>=0.10 in /usr/local/lib/python3.7/dist-packages (from matplotlib>=3.1->bar_chart_race) (0.10.0)\n",
            "Requirement already satisfied: python-dateutil>=2.1 in /usr/local/lib/python3.7/dist-packages (from matplotlib>=3.1->bar_chart_race) (2.8.2)\n",
            "Requirement already satisfied: six in /usr/local/lib/python3.7/dist-packages (from cycler>=0.10->matplotlib>=3.1->bar_chart_race) (1.15.0)\n",
            "Requirement already satisfied: pytz>=2017.2 in /usr/local/lib/python3.7/dist-packages (from pandas>=0.24->bar_chart_race) (2018.9)\n",
            "Installing collected packages: bar-chart-race\n",
            "Successfully installed bar-chart-race-0.1.0\n"
          ]
        }
      ]
    },
    {
      "cell_type": "code",
      "metadata": {
        "colab": {
          "base_uri": "https://localhost:8080/"
        },
        "id": "EkSSz3sBVRrU",
        "outputId": "26f8f6df-960d-45c0-bf0a-bd65184ac9ad"
      },
      "source": [
        "pip install pandas\n"
      ],
      "execution_count": null,
      "outputs": [
        {
          "output_type": "stream",
          "name": "stdout",
          "text": [
            "Requirement already satisfied: pandas in /usr/local/lib/python3.7/dist-packages (1.1.5)\n",
            "Requirement already satisfied: numpy>=1.15.4 in /usr/local/lib/python3.7/dist-packages (from pandas) (1.19.5)\n",
            "Requirement already satisfied: pytz>=2017.2 in /usr/local/lib/python3.7/dist-packages (from pandas) (2018.9)\n",
            "Requirement already satisfied: python-dateutil>=2.7.3 in /usr/local/lib/python3.7/dist-packages (from pandas) (2.8.2)\n",
            "Requirement already satisfied: six>=1.5 in /usr/local/lib/python3.7/dist-packages (from python-dateutil>=2.7.3->pandas) (1.15.0)\n"
          ]
        }
      ]
    },
    {
      "cell_type": "code",
      "metadata": {
        "id": "MOrEQg_jvTIB"
      },
      "source": [
        ""
      ],
      "execution_count": null,
      "outputs": []
    },
    {
      "cell_type": "markdown",
      "metadata": {
        "id": "FkiHPuNVoaVA"
      },
      "source": [
        "Importando o Dataset do CENIPA, nesse dataset está registrado todas as ocorrências que aconteceram entre os anos de 2010 até 2019."
      ]
    },
    {
      "cell_type": "code",
      "metadata": {
        "colab": {
          "base_uri": "https://localhost:8080/",
          "height": 400
        },
        "id": "WWrg1NjLoewt",
        "outputId": "98b5de9b-0b6d-4945-e879-8ba16d31f887"
      },
      "source": [
        "\n",
        "df_filtrador = pd.read_csv('/content/date.csv', sep=';')\n",
        "df_filtrador.head()\n"
      ],
      "execution_count": null,
      "outputs": [
        {
          "output_type": "execute_result",
          "data": {
            "text/html": [
              "<div>\n",
              "<style scoped>\n",
              "    .dataframe tbody tr th:only-of-type {\n",
              "        vertical-align: middle;\n",
              "    }\n",
              "\n",
              "    .dataframe tbody tr th {\n",
              "        vertical-align: top;\n",
              "    }\n",
              "\n",
              "    .dataframe thead th {\n",
              "        text-align: right;\n",
              "    }\n",
              "</style>\n",
              "<table border=\"1\" class=\"dataframe\">\n",
              "  <thead>\n",
              "    <tr style=\"text-align: right;\">\n",
              "      <th></th>\n",
              "      <th>codigo</th>\n",
              "      <th>tipo</th>\n",
              "      <th>descricao</th>\n",
              "      <th>cidade</th>\n",
              "      <th>estado</th>\n",
              "      <th>data</th>\n",
              "      <th>ano</th>\n",
              "      <th>hora</th>\n",
              "      <th>aeronave_liberada</th>\n",
              "      <th>status_investigacao</th>\n",
              "      <th>aeronaves_envolvidas</th>\n",
              "      <th>ocorrencia_saida_pista</th>\n",
              "      <th>aeronave_tipo</th>\n",
              "      <th>aeronave_fabricante</th>\n",
              "      <th>motor_tipo</th>\n",
              "      <th>aeronave_motor_quantidade</th>\n",
              "      <th>aeronave_assentos</th>\n",
              "      <th>aeronave_ano_fabricacao</th>\n",
              "      <th>aeronave_pais_fabricante</th>\n",
              "      <th>aeronave_fase_operacao</th>\n",
              "      <th>aeronave_nivel_dano</th>\n",
              "    </tr>\n",
              "  </thead>\n",
              "  <tbody>\n",
              "    <tr>\n",
              "      <th>0</th>\n",
              "      <td>40107</td>\n",
              "      <td>ACIDENTE</td>\n",
              "      <td>COLISÃO COM OBSTÁCULO DURANTE A DECOLAGEM E POUSO</td>\n",
              "      <td>GURUPÁ</td>\n",
              "      <td>PA</td>\n",
              "      <td>12/01/2010</td>\n",
              "      <td>2010</td>\n",
              "      <td>14:30:00</td>\n",
              "      <td>SIM</td>\n",
              "      <td>FINALIZADA</td>\n",
              "      <td>1</td>\n",
              "      <td>NÃO</td>\n",
              "      <td>AVIÃO</td>\n",
              "      <td>NEIVA INDUSTRIA AERONAUTICA</td>\n",
              "      <td>PISTÃO</td>\n",
              "      <td>MONOMOTOR</td>\n",
              "      <td>7</td>\n",
              "      <td>1977</td>\n",
              "      <td>BRASIL</td>\n",
              "      <td>POUSO</td>\n",
              "      <td>LEVE,</td>\n",
              "    </tr>\n",
              "    <tr>\n",
              "      <th>1</th>\n",
              "      <td>40147</td>\n",
              "      <td>ACIDENTE</td>\n",
              "      <td>FALHA OU MAU FUNCIONAMENTO DE SISTEMA / COMPON...</td>\n",
              "      <td>UNIÃO DA VITÓRIA</td>\n",
              "      <td>PR</td>\n",
              "      <td>08/04/2010</td>\n",
              "      <td>2010</td>\n",
              "      <td>14:20:00</td>\n",
              "      <td>SIM</td>\n",
              "      <td>FINALIZADA</td>\n",
              "      <td>1</td>\n",
              "      <td>SIM</td>\n",
              "      <td>AVIÃO</td>\n",
              "      <td>PIPER AIRCRAFT</td>\n",
              "      <td>PISTÃO</td>\n",
              "      <td>BIMOTOR</td>\n",
              "      <td>6</td>\n",
              "      <td>1997</td>\n",
              "      <td>BRASIL</td>\n",
              "      <td>POUSO</td>\n",
              "      <td>SUBSTANCIAL,</td>\n",
              "    </tr>\n",
              "    <tr>\n",
              "      <th>2</th>\n",
              "      <td>40148</td>\n",
              "      <td>ACIDENTE</td>\n",
              "      <td>PANE SECA</td>\n",
              "      <td>CAMPO GRANDE</td>\n",
              "      <td>MS</td>\n",
              "      <td>19/03/2010</td>\n",
              "      <td>2010</td>\n",
              "      <td>19:30:00</td>\n",
              "      <td>SIM</td>\n",
              "      <td>FINALIZADA</td>\n",
              "      <td>1</td>\n",
              "      <td>NÃO</td>\n",
              "      <td>AVIÃO</td>\n",
              "      <td>CESSNA AIRCRAFT</td>\n",
              "      <td>PISTÃO</td>\n",
              "      <td>MONOMOTOR</td>\n",
              "      <td>6</td>\n",
              "      <td>1962</td>\n",
              "      <td>BRASIL</td>\n",
              "      <td>APROXIMAÇÃO FINAL</td>\n",
              "      <td>SUBSTANCIAL,</td>\n",
              "    </tr>\n",
              "    <tr>\n",
              "      <th>3</th>\n",
              "      <td>40149</td>\n",
              "      <td>ACIDENTE</td>\n",
              "      <td>FALHA DO MOTOR EM VOO</td>\n",
              "      <td>LUZIÂNIA</td>\n",
              "      <td>GO</td>\n",
              "      <td>21/03/2010</td>\n",
              "      <td>2010</td>\n",
              "      <td>20:45:00</td>\n",
              "      <td>SIM</td>\n",
              "      <td>FINALIZADA</td>\n",
              "      <td>1</td>\n",
              "      <td>NÃO</td>\n",
              "      <td>AVIÃO</td>\n",
              "      <td>XAVANTE</td>\n",
              "      <td>PISTÃO</td>\n",
              "      <td>MONOMOTOR</td>\n",
              "      <td>2</td>\n",
              "      <td>1974</td>\n",
              "      <td>BRASIL</td>\n",
              "      <td>DECOLAGEM</td>\n",
              "      <td>DESTRUÍDA,</td>\n",
              "    </tr>\n",
              "    <tr>\n",
              "      <th>4</th>\n",
              "      <td>40150</td>\n",
              "      <td>INCIDENTE GRAVE</td>\n",
              "      <td>COM TREM DE POUSO</td>\n",
              "      <td>SANTA MARIA</td>\n",
              "      <td>RS</td>\n",
              "      <td>10/03/2010</td>\n",
              "      <td>2010</td>\n",
              "      <td>17:20:00</td>\n",
              "      <td>SIM</td>\n",
              "      <td>FINALIZADA</td>\n",
              "      <td>1</td>\n",
              "      <td>NÃO</td>\n",
              "      <td>AVIÃO</td>\n",
              "      <td>BEECH AIRCRAFT</td>\n",
              "      <td>PISTÃO</td>\n",
              "      <td>MONOMOTOR</td>\n",
              "      <td>6</td>\n",
              "      <td>1974</td>\n",
              "      <td>BRASIL</td>\n",
              "      <td>POUSO</td>\n",
              "      <td>LEVE,</td>\n",
              "    </tr>\n",
              "  </tbody>\n",
              "</table>\n",
              "</div>"
            ],
            "text/plain": [
              "   codigo             tipo  ... aeronave_fase_operacao aeronave_nivel_dano\n",
              "0   40107         ACIDENTE  ...                  POUSO               LEVE,\n",
              "1   40147         ACIDENTE  ...                  POUSO        SUBSTANCIAL,\n",
              "2   40148         ACIDENTE  ...      APROXIMAÇÃO FINAL        SUBSTANCIAL,\n",
              "3   40149         ACIDENTE  ...              DECOLAGEM          DESTRUÍDA,\n",
              "4   40150  INCIDENTE GRAVE  ...                  POUSO               LEVE,\n",
              "\n",
              "[5 rows x 21 columns]"
            ]
          },
          "metadata": {},
          "execution_count": 2
        }
      ]
    },
    {
      "cell_type": "markdown",
      "metadata": {
        "id": "4bTPitYrr_BZ"
      },
      "source": [
        " Acima podemos visualizar os dados do Dataset "
      ]
    },
    {
      "cell_type": "code",
      "metadata": {
        "colab": {
          "base_uri": "https://localhost:8080/"
        },
        "id": "TmO5jzCpsMIl",
        "outputId": "2f9137d5-fd8a-47ed-9c1d-a333f3806fc9"
      },
      "source": [
        "df_filtrador.dtypes"
      ],
      "execution_count": null,
      "outputs": [
        {
          "output_type": "execute_result",
          "data": {
            "text/plain": [
              "codigo                        int64\n",
              "tipo                         object\n",
              "descricao                    object\n",
              "cidade                       object\n",
              "estado                       object\n",
              "data                         object\n",
              "ano                           int64\n",
              "hora                         object\n",
              "aeronave_liberada            object\n",
              "status_investigacao          object\n",
              "aeronaves_envolvidas          int64\n",
              "ocorrencia_saida_pista       object\n",
              "aeronave_tipo                object\n",
              "aeronave_fabricante          object\n",
              "motor_tipo                   object\n",
              "aeronave_motor_quantidade    object\n",
              "aeronave_assentos             int64\n",
              "aeronave_ano_fabricacao       int64\n",
              "aeronave_pais_fabricante     object\n",
              "aeronave_fase_operacao       object\n",
              "aeronave_nivel_dano,         object\n",
              "dtype: object"
            ]
          },
          "metadata": {},
          "execution_count": 6
        }
      ]
    },
    {
      "cell_type": "markdown",
      "metadata": {
        "id": "23DS2LNlKnVN"
      },
      "source": [
        "Tamanho do Dataset"
      ]
    },
    {
      "cell_type": "code",
      "metadata": {
        "colab": {
          "base_uri": "https://localhost:8080/"
        },
        "id": "atSuQuKV063g",
        "outputId": "d0e94670-1cd2-4a04-eab4-cefe0549c427"
      },
      "source": [
        "df_filtrador.shape"
      ],
      "execution_count": null,
      "outputs": [
        {
          "output_type": "execute_result",
          "data": {
            "text/plain": [
              "(5242, 21)"
            ]
          },
          "metadata": {},
          "execution_count": 8
        }
      ]
    },
    {
      "cell_type": "markdown",
      "metadata": {
        "id": "ZO-GOTjNZh_b"
      },
      "source": [
        "O Dataset que será utilizado possui 5242 linhas com 21 colunas"
      ]
    },
    {
      "cell_type": "code",
      "metadata": {
        "id": "539gRHbbZjgm"
      },
      "source": [
        ""
      ],
      "execution_count": null,
      "outputs": []
    },
    {
      "cell_type": "markdown",
      "metadata": {
        "id": "sgHpxaxPuyVy"
      },
      "source": [
        "O que é o CENIPA?\n",
        "\n",
        "\n",
        "O Centro de Investigação e Prevenção de Acidentes Aeronáuticos (CENIPA) é uma unidade da Força Aérea Brasileira responsável por investigar acidentes e incidentes de aviação no Brasil. Sua sede está localizada em Brasília."
      ]
    },
    {
      "cell_type": "code",
      "metadata": {
        "id": "haI6QiLsZkZJ"
      },
      "source": [
        ""
      ],
      "execution_count": null,
      "outputs": []
    },
    {
      "cell_type": "markdown",
      "metadata": {
        "id": "dCWO4QryKTlq"
      },
      "source": [
        "Como tem sido a taxa de ocorrência desses últimos anos? Tiveram menos ocorrências ou mais?"
      ]
    },
    {
      "cell_type": "code",
      "metadata": {
        "colab": {
          "base_uri": "https://localhost:8080/",
          "height": 531
        },
        "id": "je12P3a41ANL",
        "outputId": "06b6077c-30fb-47b6-f2b2-7ef769bdc053"
      },
      "source": [
        "import matplotlib.pyplot as plt\n",
        "import seaborn as sns\n",
        "%matplotlib inline\n",
        "from plotly import __version__\n",
        "from plotly.offline import download_plotlyjs, init_notebook_mode, plot, iplot\n",
        "import cufflinks as cf\n",
        "cf.go_offline()\n",
        "# Para Notebooks\n",
        "init_notebook_mode(connected=True)\n",
        "\n",
        "from seaborn import countplot\n",
        "from matplotlib.pyplot import figure, show\n",
        "\n",
        "\n",
        "\n",
        "\n",
        "fig = plt.figure(figsize=(15,8))\n",
        "ax = countplot(data=df_filtrador,x='ano')\n",
        "\n",
        "for p in ax.patches:\n",
        "    b=p.get_bbox()\n",
        "    ax.annotate(\"{:.0f}\".format(b.y1 + b.y0), ((b.x0 + b.x1)/2 + 0.05, b.y1 + 6), va='baseline',ha='center',fontsize=14, color='black')\n",
        "\n",
        "\n",
        "\n",
        "\n",
        "plt.title(\"QUANTIDADE DE OCORRÊNCIA AO LONGOS DOS ANOS\")\n",
        "plt.xlabel('ANO DE REFERÊNCIA')\n",
        "plt.ylabel('QUANTIDADE DE OCORRÊNCIAS')\n"
      ],
      "execution_count": null,
      "outputs": [
        {
          "output_type": "display_data",
          "data": {
            "text/html": [
              "        <script type=\"text/javascript\">\n",
              "        window.PlotlyConfig = {MathJaxConfig: 'local'};\n",
              "        if (window.MathJax) {MathJax.Hub.Config({SVG: {font: \"STIX-Web\"}});}\n",
              "        if (typeof require !== 'undefined') {\n",
              "        require.undef(\"plotly\");\n",
              "        requirejs.config({\n",
              "            paths: {\n",
              "                'plotly': ['https://cdn.plot.ly/plotly-latest.min']\n",
              "            }\n",
              "        });\n",
              "        require(['plotly'], function(Plotly) {\n",
              "            window._Plotly = Plotly;\n",
              "        });\n",
              "        }\n",
              "        </script>\n",
              "        "
            ]
          },
          "metadata": {}
        },
        {
          "output_type": "display_data",
          "data": {
            "text/html": [
              "        <script type=\"text/javascript\">\n",
              "        window.PlotlyConfig = {MathJaxConfig: 'local'};\n",
              "        if (window.MathJax) {MathJax.Hub.Config({SVG: {font: \"STIX-Web\"}});}\n",
              "        if (typeof require !== 'undefined') {\n",
              "        require.undef(\"plotly\");\n",
              "        requirejs.config({\n",
              "            paths: {\n",
              "                'plotly': ['https://cdn.plot.ly/plotly-latest.min']\n",
              "            }\n",
              "        });\n",
              "        require(['plotly'], function(Plotly) {\n",
              "            window._Plotly = Plotly;\n",
              "        });\n",
              "        }\n",
              "        </script>\n",
              "        "
            ]
          },
          "metadata": {}
        },
        {
          "output_type": "execute_result",
          "data": {
            "text/plain": [
              "Text(0, 0.5, 'QUANTIDADE DE OCORRÊNCIAS')"
            ]
          },
          "metadata": {},
          "execution_count": 36
        },
        {
          "output_type": "display_data",
          "data": {
            "image/png": "[encoded data removed]",
            "text/plain": [
              "<Figure size 1080x576 with 1 Axes>"
            ]
          },
          "metadata": {
            "needs_background": "light"
          }
        }
      ]
    },
    {
      "cell_type": "markdown",
      "metadata": {
        "id": "-GLux5FM9D53"
      },
      "source": [
        "Média, moda, mediana e desvio padrão dos anos de referência"
      ]
    },
    {
      "cell_type": "code",
      "metadata": {
        "id": "iCZeeG5xKh57",
        "colab": {
          "base_uri": "https://localhost:8080/"
        },
        "outputId": "52d5b533-513f-4265-a2ed-c86bfdc87339"
      },
      "source": [
        "df_filtradorr['ano'].describe()"
      ],
      "execution_count": null,
      "outputs": [
        {
          "output_type": "execute_result",
          "data": {
            "text/plain": [
              "count   5242.00000\n",
              "mean    2014.18085\n",
              "std        2.84975\n",
              "min     2010.00000\n",
              "25%     2012.00000\n",
              "50%     2014.00000\n",
              "75%     2017.00000\n",
              "max     2019.00000\n",
              "Name: ano, dtype: float64"
            ]
          },
          "metadata": {},
          "execution_count": 14
        }
      ]
    },
    {
      "cell_type": "markdown",
      "metadata": {
        "id": "A3geG7GXHTrG"
      },
      "source": [
        "Pode-se perceber que foi no ano de 2013 em que se registrou o maior número de ocorrências com 653, percebe-se também que o segundo ano com mais ocorrências foi em 2012 com 647. De acordo com dados fornecidos pelo CENIPA, os índices de acidentes aéreos com fatalidades caíram 15% em 2013 por milhão de decolagens, assim como o número de acidentes que por sua vez, caíram 8,42%. Entretanto, foi em 2013 que ocorreram mais ocorrências em um modo geral."
      ]
    },
    {
      "cell_type": "code",
      "metadata": {
        "id": "e7ojkuzQMvCR"
      },
      "source": [
        ""
      ],
      "execution_count": null,
      "outputs": []
    },
    {
      "cell_type": "markdown",
      "metadata": {
        "id": "MRaAQ7bBK2vg"
      },
      "source": [
        "Quantidade de ocorrência por estado"
      ]
    },
    {
      "cell_type": "code",
      "metadata": {
        "colab": {
          "base_uri": "https://localhost:8080/",
          "height": 608
        },
        "id": "UIZ79JPOX0S_",
        "outputId": "02dcdcec-2c3f-4223-9eba-691b51016412"
      },
      "source": [
        "import pandas as pd\n",
        "\n",
        "df_filtrador= pd.read_csv('/content/date.csv', sep=';')\n",
        "\n",
        "\n",
        "\n",
        "ax = df_filtrador.groupby(['estado']).aeronave_fabricante.count().sort_values(ascending=False)[-27:].plot(kind='bar',\n",
        "figsize=(15,10), ylabel='NÚMERO DE OCORRÊNCIAS', xlabel='ESTADOS', color='blue', width=0.7, edgecolor = 'black',   fontsize=12)\n",
        "plt.xticks(rotation=0)\n",
        "\n",
        "for p in ax.patches:\n",
        "    b=p.get_bbox()\n",
        "    ax.annotate(\"{:.0f}\".format(b.y1 + b.y0), ((b.x0 + b.x1)/2 - 0.030, b.y1 + 15), va='baseline',ha='center',fontsize=14, color='black')"
      ],
      "execution_count": null,
      "outputs": [
        {
          "output_type": "display_data",
          "data": {
            "image/png": "[encoded data removed]",
            "text/plain": [
              "<Figure size 1080x720 with 1 Axes>"
            ]
          },
          "metadata": {
            "needs_background": "light"
          }
        }
      ]
    },
    {
      "cell_type": "markdown",
      "metadata": {
        "id": "8YUDfnrIgl0M"
      },
      "source": [
        "São Paulo é o estado que mais registrou ocorrências, esse fato pode ser explicado porque São Paulo é o estado com o maior número de aeroportos do pais, o estado conta atualmemte com 30 aeroportos. São Paulo é a cidade que tem a maior frota de Helicópteros do mundo, a frente de cidades como Nova York (EUA). Inclusive é nesse estado que se encontra o maior aeroporto da america do sul e o mais movimentado, o aeroporto Internacional de Cumbica localizado na cidade de Guarulhos. São Paulo também possui outros aeroportos muito movimentados como é o caso do aeroporto de Viracopos(Campinas) e do aeroporto de Congonhas(São Paulo) esse último considerado um dos mais perigosos do mundo."
      ]
    },
    {
      "cell_type": "markdown",
      "metadata": {
        "id": "5MLVMxXCR3bw"
      },
      "source": [
        "Média, Moda, Mediana e Desvio Padrão do estados"
      ]
    },
    {
      "cell_type": "code",
      "metadata": {
        "id": "8wjrSuhuDb0C",
        "colab": {
          "base_uri": "https://localhost:8080/",
          "height": 206
        },
        "outputId": "33fa905e-c2da-4de8-9669-501c5ca3edca"
      },
      "source": [
        "df_filtradorrr = pd.read_csv('/content/estado.csv', sep=';')\n",
        "df_filtradorrr.head()\n"
      ],
      "execution_count": null,
      "outputs": [
        {
          "output_type": "execute_result",
          "data": {
            "text/html": [
              "<div>\n",
              "<style scoped>\n",
              "    .dataframe tbody tr th:only-of-type {\n",
              "        vertical-align: middle;\n",
              "    }\n",
              "\n",
              "    .dataframe tbody tr th {\n",
              "        vertical-align: top;\n",
              "    }\n",
              "\n",
              "    .dataframe thead th {\n",
              "        text-align: right;\n",
              "    }\n",
              "</style>\n",
              "<table border=\"1\" class=\"dataframe\">\n",
              "  <thead>\n",
              "    <tr style=\"text-align: right;\">\n",
              "      <th></th>\n",
              "      <th>estado</th>\n",
              "      <th>Unnamed: 1</th>\n",
              "    </tr>\n",
              "  </thead>\n",
              "  <tbody>\n",
              "    <tr>\n",
              "      <th>0</th>\n",
              "      <td>1239</td>\n",
              "      <td>nan</td>\n",
              "    </tr>\n",
              "    <tr>\n",
              "      <th>1</th>\n",
              "      <td>482</td>\n",
              "      <td>nan</td>\n",
              "    </tr>\n",
              "    <tr>\n",
              "      <th>2</th>\n",
              "      <td>480</td>\n",
              "      <td>nan</td>\n",
              "    </tr>\n",
              "    <tr>\n",
              "      <th>3</th>\n",
              "      <td>441</td>\n",
              "      <td>nan</td>\n",
              "    </tr>\n",
              "    <tr>\n",
              "      <th>4</th>\n",
              "      <td>334</td>\n",
              "      <td>nan</td>\n",
              "    </tr>\n",
              "  </tbody>\n",
              "</table>\n",
              "</div>"
            ],
            "text/plain": [
              "   estado  Unnamed: 1\n",
              "0    1239         nan\n",
              "1     482         nan\n",
              "2     480         nan\n",
              "3     441         nan\n",
              "4     334         nan"
            ]
          },
          "metadata": {},
          "execution_count": 8
        }
      ]
    },
    {
      "cell_type": "markdown",
      "metadata": {
        "id": "jdE8XKUvTAml"
      },
      "source": [
        "Mediana dos estados"
      ]
    },
    {
      "cell_type": "code",
      "metadata": {
        "colab": {
          "base_uri": "https://localhost:8080/"
        },
        "id": "YbXdvMLHSS9y",
        "outputId": "fd223052-f092-40ef-eac2-cdf8ed6c3e93"
      },
      "source": [
        "df_filtradorrr['estado'].median()"
      ],
      "execution_count": null,
      "outputs": [
        {
          "output_type": "execute_result",
          "data": {
            "text/plain": [
              "90.0"
            ]
          },
          "metadata": {},
          "execution_count": 9
        }
      ]
    },
    {
      "cell_type": "markdown",
      "metadata": {
        "id": "w74tgG0XTRLq"
      },
      "source": [
        "Média dos estados"
      ]
    },
    {
      "cell_type": "code",
      "metadata": {
        "colab": {
          "base_uri": "https://localhost:8080/"
        },
        "id": "Hf_4pDBQS-J_",
        "outputId": "44b29771-d1f1-4948-98ff-08bb2e244219"
      },
      "source": [
        "df_filtradorrr['estado'].mean()"
      ],
      "execution_count": null,
      "outputs": [
        {
          "output_type": "execute_result",
          "data": {
            "text/plain": [
              "194.14814814814815"
            ]
          },
          "metadata": {},
          "execution_count": 10
        }
      ]
    },
    {
      "cell_type": "markdown",
      "metadata": {
        "id": "hm98hLshTaNN"
      },
      "source": [
        "Desvio Padrão da coluna estados"
      ]
    },
    {
      "cell_type": "code",
      "metadata": {
        "colab": {
          "base_uri": "https://localhost:8080/"
        },
        "id": "5VH4ny_lS_Md",
        "outputId": "f1a7010b-c309-47c9-a206-1c37a8834038"
      },
      "source": [
        "df_filtradorrr['estado'].std()"
      ],
      "execution_count": null,
      "outputs": [
        {
          "output_type": "execute_result",
          "data": {
            "text/plain": [
              "254.6748611470808"
            ]
          },
          "metadata": {},
          "execution_count": 11
        }
      ]
    },
    {
      "cell_type": "markdown",
      "metadata": {
        "id": "RX4nTjugTi_8"
      },
      "source": [
        "Moda de estados"
      ]
    },
    {
      "cell_type": "code",
      "metadata": {
        "colab": {
          "base_uri": "https://localhost:8080/"
        },
        "id": "_8wMYI-dTgFC",
        "outputId": "f892ab44-6808-4b33-d4ba-39a48d2b64a3"
      },
      "source": [
        "df_filtradorrr['estado'].mode()"
      ],
      "execution_count": null,
      "outputs": [
        {
          "output_type": "execute_result",
          "data": {
            "text/plain": [
              "0    30\n",
              "dtype: int64"
            ]
          },
          "metadata": {},
          "execution_count": 12
        }
      ]
    },
    {
      "cell_type": "code",
      "metadata": {
        "id": "QjPqzTGoTiT_"
      },
      "source": [
        ""
      ],
      "execution_count": null,
      "outputs": []
    },
    {
      "cell_type": "markdown",
      "metadata": {
        "id": "xnjaTFBQubkN"
      },
      "source": [
        "Quantidade de ocorrência por tipo"
      ]
    },
    {
      "cell_type": "code",
      "metadata": {
        "id": "ae2cbJq0bQIr"
      },
      "source": [
        ""
      ],
      "execution_count": null,
      "outputs": []
    },
    {
      "cell_type": "code",
      "metadata": {
        "colab": {
          "base_uri": "https://localhost:8080/",
          "height": 442
        },
        "id": "9ZsLqj9rvvSk",
        "outputId": "70def066-ca46-4be6-b7a7-68e9e0499b68"
      },
      "source": [
        "\n",
        "import pandas as pd\n",
        "\n",
        "df_filtradorr = pd.read_csv('/content/date.csv', sep=';')\n",
        "\n",
        "\n",
        "ax = df_filtradorr.groupby(['tipo']).tipo.count().sort_values()[-5:].plot(figsize=(15,7), ylabel='NÚMERO DE OCORRÊNCIAS', xlabel='TIPO', kind='bar', color='orange',  edgecolor = 'black')\n",
        "plt.xticks(rotation=0)\n",
        "\n",
        "for p in ax.patches:\n",
        "    b=p.get_bbox()\n",
        "    ax.annotate(\"{:.0f}\".format(b.y1 + b.y0), ((b.x0 + b.x1)/2 - 0.030, b.y1 + 30), va='baseline',ha='center',fontsize=14, color='black')"
      ],
      "execution_count": null,
      "outputs": [
        {
          "output_type": "display_data",
          "data": {
            "image/png": "[encoded data removed]",
            "text/plain": [
              "<Figure size 1080x504 with 1 Axes>"
            ]
          },
          "metadata": {
            "needs_background": "light"
          }
        }
      ]
    },
    {
      "cell_type": "markdown",
      "metadata": {
        "id": "nMJtIu5wfLv2"
      },
      "source": [
        "\n",
        "Incidentes, incidentes graves e acidentes. Embora esses conceitos sejam parecidos, os três possuem suas diferenças.\n",
        "\n",
        "\n",
        "O que pode se caracterizado como Incidente:\n",
        "\n",
        "Qualquer ocorrência onde haja intenção de voo. As aeronaves geralmente apresentam danos superficiais em suas estruturas ou danos reparáveis. Essas ocorrências geralmente acontecem em momentos de pouso, taxiamento, abastecimento etc. Lembrando que embora os incidentes sejam ocorrência de menor impacto, eles podem afetar a segurança dos voos e das operações.\n",
        "\n",
        "\n",
        "O que pode se caracterizado como Incidente grave:\n",
        "\n",
        "Qualquer ocorrência onde haja intenção de voo. Essas ocorrências acontecem em situações que acidentes quase ocorreram. \n",
        "\n",
        "- Fogo de origem desconhecida.\n",
        "- Fogo no porão.\n",
        "- Fogo na cabine.\n",
        "- Pousos de emergência em situação de perigo.\n",
        "- Aeronave passou da pista no momento do pouso.\n",
        "\n",
        "\n",
        "\n",
        "O que pode se caracterizado como Acidente:\n",
        "\n",
        "Qualquer ocorrência onde haja intenção de voo. \n",
        "- Lesão grave ou morte de qualquer pessoa.\n",
        "- Aeronave sofra danos ou falhas estruturais irreparáveis.\n",
        "- Aeronave seja considerada desaparecida ou em locais inacessíveis. \n",
        "\n",
        "\n",
        "\n",
        "O que pode se caracterizado como Ocorrência de solo:\n",
        "\n",
        "É toda ocorrência envolvendo aeronave no solo, do qual resulte dano, lesão ou morte desde que não haja intenção de realizar voo.  \n"
      ]
    },
    {
      "cell_type": "code",
      "metadata": {
        "id": "X8v9QutdWQDb"
      },
      "source": [
        ""
      ],
      "execution_count": null,
      "outputs": []
    },
    {
      "cell_type": "markdown",
      "metadata": {
        "id": "hVC_flwwT7eX"
      },
      "source": [
        "Média, Moda, Mediana e Desvio Padrão de Tipos"
      ]
    },
    {
      "cell_type": "code",
      "metadata": {
        "colab": {
          "base_uri": "https://localhost:8080/",
          "height": 143
        },
        "id": "qGqDW2f2U97O",
        "outputId": "6df25072-b702-4d4b-b1da-416ef243f5e0"
      },
      "source": [
        "df_filtradorrrr = pd.read_csv('/content/tipo.csv', sep=';')\n",
        "df_filtradorrrr.head()\n"
      ],
      "execution_count": null,
      "outputs": [
        {
          "output_type": "execute_result",
          "data": {
            "text/html": [
              "<div>\n",
              "<style scoped>\n",
              "    .dataframe tbody tr th:only-of-type {\n",
              "        vertical-align: middle;\n",
              "    }\n",
              "\n",
              "    .dataframe tbody tr th {\n",
              "        vertical-align: top;\n",
              "    }\n",
              "\n",
              "    .dataframe thead th {\n",
              "        text-align: right;\n",
              "    }\n",
              "</style>\n",
              "<table border=\"1\" class=\"dataframe\">\n",
              "  <thead>\n",
              "    <tr style=\"text-align: right;\">\n",
              "      <th></th>\n",
              "      <th>tipo</th>\n",
              "      <th>Unnamed: 1</th>\n",
              "    </tr>\n",
              "  </thead>\n",
              "  <tbody>\n",
              "    <tr>\n",
              "      <th>0</th>\n",
              "      <td>2887</td>\n",
              "      <td>nan</td>\n",
              "    </tr>\n",
              "    <tr>\n",
              "      <th>1</th>\n",
              "      <td>1694</td>\n",
              "      <td>nan</td>\n",
              "    </tr>\n",
              "    <tr>\n",
              "      <th>2</th>\n",
              "      <td>661</td>\n",
              "      <td>nan</td>\n",
              "    </tr>\n",
              "  </tbody>\n",
              "</table>\n",
              "</div>"
            ],
            "text/plain": [
              "   tipo  Unnamed: 1\n",
              "0  2887         nan\n",
              "1  1694         nan\n",
              "2   661         nan"
            ]
          },
          "metadata": {},
          "execution_count": 13
        }
      ]
    },
    {
      "cell_type": "markdown",
      "metadata": {
        "id": "2UNO78ZWWNmo"
      },
      "source": [
        "Moda da coluna Tipo"
      ]
    },
    {
      "cell_type": "code",
      "metadata": {
        "colab": {
          "base_uri": "https://localhost:8080/"
        },
        "id": "1uhVj2xcWJll",
        "outputId": "19f8a502-7b63-4486-fc98-8b905c549cee"
      },
      "source": [
        "df_filtradorrrr['tipo'].mode()"
      ],
      "execution_count": null,
      "outputs": [
        {
          "output_type": "execute_result",
          "data": {
            "text/plain": [
              "0     661\n",
              "1    1694\n",
              "2    2887\n",
              "dtype: int64"
            ]
          },
          "metadata": {},
          "execution_count": 24
        }
      ]
    },
    {
      "cell_type": "markdown",
      "metadata": {
        "id": "-p0zVUC_WoKu"
      },
      "source": [
        "Mediana da coluna Tipo"
      ]
    },
    {
      "cell_type": "code",
      "metadata": {
        "colab": {
          "base_uri": "https://localhost:8080/"
        },
        "id": "8WMb_SgaWMJk",
        "outputId": "df3d4f5c-273c-48ea-8d73-378edc21c851"
      },
      "source": [
        "df_filtradorrrr['tipo'].median()"
      ],
      "execution_count": null,
      "outputs": [
        {
          "output_type": "execute_result",
          "data": {
            "text/plain": [
              "1694.0"
            ]
          },
          "metadata": {},
          "execution_count": 27
        }
      ]
    },
    {
      "cell_type": "markdown",
      "metadata": {
        "id": "k3Gl_SojXB9G"
      },
      "source": [
        "Média da coluna Tipo"
      ]
    },
    {
      "cell_type": "code",
      "metadata": {
        "colab": {
          "base_uri": "https://localhost:8080/"
        },
        "id": "IASlFfVZWLYi",
        "outputId": "017ddc86-3eb9-4119-ad84-19764f65b483"
      },
      "source": [
        "df_filtradorrrr['tipo'].mean()"
      ],
      "execution_count": null,
      "outputs": [
        {
          "output_type": "execute_result",
          "data": {
            "text/plain": [
              "1747.3333333333333"
            ]
          },
          "metadata": {},
          "execution_count": 28
        }
      ]
    },
    {
      "cell_type": "markdown",
      "metadata": {
        "id": "TxdbRt8_Z-Ro"
      },
      "source": [
        "Desvio padrão da coluna Tipo"
      ]
    },
    {
      "cell_type": "code",
      "metadata": {
        "colab": {
          "base_uri": "https://localhost:8080/"
        },
        "id": "IynwVLwdWM3T",
        "outputId": "560033cc-1a01-4ea6-abbe-776b810db86f"
      },
      "source": [
        "df_filtradorrrr['tipo'].std()"
      ],
      "execution_count": null,
      "outputs": [
        {
          "output_type": "execute_result",
          "data": {
            "text/plain": [
              "1113.9579585124986"
            ]
          },
          "metadata": {},
          "execution_count": 29
        }
      ]
    },
    {
      "cell_type": "code",
      "metadata": {
        "id": "Rbn62W2qZ9PN"
      },
      "source": [
        ""
      ],
      "execution_count": null,
      "outputs": []
    },
    {
      "cell_type": "markdown",
      "metadata": {
        "id": "k6x4jyDrWRca"
      },
      "source": [
        "Quantidade de aeronaves envolvidas por ocorrências\n",
        "\n",
        "\n"
      ]
    },
    {
      "cell_type": "code",
      "metadata": {
        "colab": {
          "base_uri": "https://localhost:8080/",
          "height": 442
        },
        "id": "BLzGo-KrWAQR",
        "outputId": "3d29ddec-3c08-43be-cedb-5e54ab227ab5"
      },
      "source": [
        "import pandas as pd\n",
        "\n",
        "df_filtradorr = pd.read_csv('/content/date.csv', sep=';')\n",
        "\n",
        "\n",
        "ax = df_filtradorr.groupby(['aeronaves_envolvidas']).tipo.count().sort_values()[-5:].plot(figsize=(15,7), ylabel='NÚMERO DE OCORRÊNCIAS',xlabel='AERONAVES ENVOLVIDAS', kind='bar', color='orange',  edgecolor = 'black')\n",
        "plt.xticks(rotation=0)\n",
        "\n",
        "for p in ax.patches:\n",
        "    b=p.get_bbox()\n",
        "    ax.annotate(\"{:.0f}\".format(b.y1 + b.y0), ((b.x0 + b.x1)/2 - 0.030, b.y1 + 30), va='baseline',ha='center',fontsize=14, color='black')"
      ],
      "execution_count": null,
      "outputs": [
        {
          "output_type": "display_data",
          "data": {
            "image/png": "[encoded data removed]",
            "text/plain": [
              "<Figure size 1080x504 with 1 Axes>"
            ]
          },
          "metadata": {
            "needs_background": "light"
          }
        }
      ]
    },
    {
      "cell_type": "markdown",
      "metadata": {
        "id": "2gToGrzbHsr9"
      },
      "source": [
        "Ocorrências envolvendo mais de uma aeronave é muito raro, durante os anos de 2010 a 2019 aconteceram 58 ocorrências envolvendo duas aeronaves, contra 5182 ocorrências envolvendo uma aeronave, o último grande acidente envolvendo duas \n",
        "aeronaves foi o voo 1907 da GOL em 2006, onde um Boeing 737-800EH colidiu com \n",
        "um Embraer Legacy 600 em pleno voo."
      ]
    },
    {
      "cell_type": "code",
      "metadata": {
        "colab": {
          "base_uri": "https://localhost:8080/",
          "height": 143
        },
        "id": "INX7jBWEb9N6",
        "outputId": "5f3870c9-5f5c-4319-971e-24836d9e9300"
      },
      "source": [
        "df_filtradorrrrr = pd.read_csv('/content/aeronave_envolvida', sep=';')\n",
        "df_filtradorrrrr.head()"
      ],
      "execution_count": null,
      "outputs": [
        {
          "output_type": "execute_result",
          "data": {
            "text/html": [
              "<div>\n",
              "<style scoped>\n",
              "    .dataframe tbody tr th:only-of-type {\n",
              "        vertical-align: middle;\n",
              "    }\n",
              "\n",
              "    .dataframe tbody tr th {\n",
              "        vertical-align: top;\n",
              "    }\n",
              "\n",
              "    .dataframe thead th {\n",
              "        text-align: right;\n",
              "    }\n",
              "</style>\n",
              "<table border=\"1\" class=\"dataframe\">\n",
              "  <thead>\n",
              "    <tr style=\"text-align: right;\">\n",
              "      <th></th>\n",
              "      <th>aeronave_envolvida</th>\n",
              "      <th>Unnamed: 1</th>\n",
              "    </tr>\n",
              "  </thead>\n",
              "  <tbody>\n",
              "    <tr>\n",
              "      <th>0</th>\n",
              "      <td>5182</td>\n",
              "      <td>nan</td>\n",
              "    </tr>\n",
              "    <tr>\n",
              "      <th>1</th>\n",
              "      <td>58</td>\n",
              "      <td>nan</td>\n",
              "    </tr>\n",
              "    <tr>\n",
              "      <th>2</th>\n",
              "      <td>2</td>\n",
              "      <td>nan</td>\n",
              "    </tr>\n",
              "  </tbody>\n",
              "</table>\n",
              "</div>"
            ],
            "text/plain": [
              "   aeronave_envolvida  Unnamed: 1\n",
              "0                5182         nan\n",
              "1                  58         nan\n",
              "2                   2         nan"
            ]
          },
          "metadata": {},
          "execution_count": 30
        }
      ]
    },
    {
      "cell_type": "markdown",
      "metadata": {
        "id": "N3ptQ_sAeYxv"
      },
      "source": [
        "Mediana da coluna aeronave_envolvidas"
      ]
    },
    {
      "cell_type": "code",
      "metadata": {
        "colab": {
          "base_uri": "https://localhost:8080/"
        },
        "id": "MVQbXnQld3VI",
        "outputId": "c1181b53-d864-4246-f8b7-8ac9f3797f29"
      },
      "source": [
        "df_filtradorrrrr['aeronave_envolvida'].median()"
      ],
      "execution_count": null,
      "outputs": [
        {
          "output_type": "execute_result",
          "data": {
            "text/plain": [
              "58.0"
            ]
          },
          "metadata": {},
          "execution_count": 32
        }
      ]
    },
    {
      "cell_type": "markdown",
      "metadata": {
        "id": "m1dkHkryei8B"
      },
      "source": [
        "Média da coluna aeronave_envolvidas"
      ]
    },
    {
      "cell_type": "code",
      "metadata": {
        "colab": {
          "base_uri": "https://localhost:8080/"
        },
        "id": "JNrFEEfjeG7Q",
        "outputId": "1661f34a-2343-46b6-b87c-8708067a716b"
      },
      "source": [
        "df_filtradorrrrr['aeronave_envolvida'].mean()"
      ],
      "execution_count": null,
      "outputs": [
        {
          "output_type": "execute_result",
          "data": {
            "text/plain": [
              "1747.3333333333333"
            ]
          },
          "metadata": {},
          "execution_count": 33
        }
      ]
    },
    {
      "cell_type": "markdown",
      "metadata": {
        "id": "b5LIJSvSeoZ5"
      },
      "source": [
        "Moda da coluna aeronave_envolvidas"
      ]
    },
    {
      "cell_type": "code",
      "metadata": {
        "colab": {
          "base_uri": "https://localhost:8080/"
        },
        "id": "LCoFTeAqeHKS",
        "outputId": "5bbb1d02-3dde-468b-dc9d-36961a31aba0"
      },
      "source": [
        "df_filtradorrrrr['aeronave_envolvida'].mode()"
      ],
      "execution_count": null,
      "outputs": [
        {
          "output_type": "execute_result",
          "data": {
            "text/plain": [
              "0       2\n",
              "1      58\n",
              "2    5182\n",
              "dtype: int64"
            ]
          },
          "metadata": {},
          "execution_count": 34
        }
      ]
    },
    {
      "cell_type": "markdown",
      "metadata": {
        "id": "Och9v8leeuMz"
      },
      "source": [
        "Desvio Padrão da coluna aeronave_envolvidas"
      ]
    },
    {
      "cell_type": "code",
      "metadata": {
        "colab": {
          "base_uri": "https://localhost:8080/"
        },
        "id": "8EDzR5o4eHOY",
        "outputId": "e1071354-c0a5-4637-cc2c-799cf89e8335"
      },
      "source": [
        "df_filtradorrrrr['aeronave_envolvida'].std()"
      ],
      "execution_count": null,
      "outputs": [
        {
          "output_type": "execute_result",
          "data": {
            "text/plain": [
              "2974.640370420151"
            ]
          },
          "metadata": {},
          "execution_count": 36
        }
      ]
    },
    {
      "cell_type": "code",
      "metadata": {
        "id": "xOHSMBiDgh0X"
      },
      "source": [
        ""
      ],
      "execution_count": null,
      "outputs": []
    },
    {
      "cell_type": "markdown",
      "metadata": {
        "id": "GFlFmromHMmG"
      },
      "source": [
        "Quais os tipos de motores mais suscetível a problemas?"
      ]
    },
    {
      "cell_type": "code",
      "metadata": {
        "colab": {
          "base_uri": "https://localhost:8080/",
          "height": 610
        },
        "id": "0c28UiufG2ds",
        "outputId": "8fd54d23-80e0-493d-ae3e-34e335208fc9"
      },
      "source": [
        "df_plot = pd.DataFrame(df_filtrador['motor_tipo'].value_counts())\n",
        "explode = (0.1, 0, 0, 0, 0, 0)\n",
        "df_plot.head()\n",
        "colors = ('darkblue','green', 'silver', 'orange', 'red', 'yellow')\n",
        "\n",
        "plt.rcParams['figure.figsize']=[15,10]\n",
        "plt.pie(df_plot['motor_tipo'], labels=df_plot.index, explode=explode, shadow=False, colors=colors, startangle=180, autopct='%1.1f%%',)\n",
        "\n",
        "plt.axis('equal')\n",
        "plt.title('TIPOS DE MOTORES')\n",
        "plt.legend()\n"
      ],
      "execution_count": null,
      "outputs": [
        {
          "output_type": "execute_result",
          "data": {
            "text/plain": [
              "<matplotlib.legend.Legend at 0x7f4f9e508a50>"
            ]
          },
          "metadata": {},
          "execution_count": 16
        },
        {
          "output_type": "display_data",
          "data": {
            "image/png": "[encoded data removed]",
            "text/plain": [
              "<Figure size 1080x720 with 1 Axes>"
            ]
          },
          "metadata": {}
        }
      ]
    },
    {
      "cell_type": "markdown",
      "metadata": {
        "id": "2lsYwpl-Nr26"
      },
      "source": [
        "Aeronaves a pistão são as mais comuns no Brasil, de acordo com levantamento da Associação Brasileira de Aviação Geral – ABAG, atualmente o país conta com uma frota de mais de 10 mil aviões. Aeronaves com motorização a pistão são mais baratas, tem um custo de manutenção menor, são mais fáceis de manusear e pilotar.\n",
        "\n",
        "\n",
        "\n",
        "\n",
        "\n",
        "Embora o custo financeiro seja menor se comparado a uma aeronave turbo jato, esses aviões geralmente apresentam mais falhas e problemas. Problemas causados por falhas em a sua manutenção, baixo treinamento dos pilotos que a operam e condições pouco favoráveis em aeroportos e pistas que essas aeronaves utilizam para pousos e decolagens.\n",
        "\n",
        "\n",
        "\n",
        "\n",
        "Os aviões turbos jato aparecem na segundo colocação em números de ocorrências, aeronaves desse tipo não costumam se envolver facilmente em acidentes, isso é possível graças a boa manutenção feitas feita regularmente nas aeronaves, boa qualificação e treinamento de pilotos e etc. As ocorrências mais comuns que ocorrem nesse tipo de aeronave são incidentes.\n",
        "\n",
        "\n",
        "\n",
        "\n",
        "\n",
        "Os aviões turboélice compõe a segunda maior frota de aeronaves comerciais e civis do Brasil, essas aeronaves também estão presentes em empresas de linha aéreas regionais e nacionais, essas aeronaves conseguem operar em pistas irregulares, e são mais baratas se comparada a aeronaves turbo jato. Aeronaves desse tipo estão menos suscetíveis a acidentes, tendo em vistas que são operadas por bons aeroclubes e empresas aéreas.\n",
        "\n"
      ]
    },
    {
      "cell_type": "code",
      "metadata": {
        "id": "vt1VPzFKnpWa",
        "colab": {
          "base_uri": "https://localhost:8080/"
        },
        "outputId": "c2e3e2da-1b90-42b1-a5e8-9c5f078c7e1a"
      },
      "source": [
        "df_filtrador['motor_tipo'].value_counts().sort_values()[-10:]"
      ],
      "execution_count": null,
      "outputs": [
        {
          "output_type": "execute_result",
          "data": {
            "text/plain": [
              "SEM TRAÇÃO         15\n",
              "INDETERMINADO     132\n",
              "TURBOEIXO         501\n",
              "TURBOÉLICE        625\n",
              "JATO             1017\n",
              "PISTÃO           2952\n",
              "Name: motor_tipo, dtype: int64"
            ]
          },
          "metadata": {},
          "execution_count": 37
        }
      ]
    },
    {
      "cell_type": "code",
      "metadata": {
        "colab": {
          "base_uri": "https://localhost:8080/",
          "height": 206
        },
        "id": "oe9ghIdaiHze",
        "outputId": "e0477184-e1b1-41e4-a607-e4f1ee260653"
      },
      "source": [
        "df_filtradorrrrrr = pd.read_csv('/content/motor_tipo.csv', sep=';')\n",
        "df_filtradorrrrrr.head()\n"
      ],
      "execution_count": null,
      "outputs": [
        {
          "output_type": "execute_result",
          "data": {
            "text/html": [
              "<div>\n",
              "<style scoped>\n",
              "    .dataframe tbody tr th:only-of-type {\n",
              "        vertical-align: middle;\n",
              "    }\n",
              "\n",
              "    .dataframe tbody tr th {\n",
              "        vertical-align: top;\n",
              "    }\n",
              "\n",
              "    .dataframe thead th {\n",
              "        text-align: right;\n",
              "    }\n",
              "</style>\n",
              "<table border=\"1\" class=\"dataframe\">\n",
              "  <thead>\n",
              "    <tr style=\"text-align: right;\">\n",
              "      <th></th>\n",
              "      <th>motor_tipo</th>\n",
              "      <th>Unnamed: 1</th>\n",
              "    </tr>\n",
              "  </thead>\n",
              "  <tbody>\n",
              "    <tr>\n",
              "      <th>0</th>\n",
              "      <td>15</td>\n",
              "      <td>nan</td>\n",
              "    </tr>\n",
              "    <tr>\n",
              "      <th>1</th>\n",
              "      <td>132</td>\n",
              "      <td>nan</td>\n",
              "    </tr>\n",
              "    <tr>\n",
              "      <th>2</th>\n",
              "      <td>501</td>\n",
              "      <td>nan</td>\n",
              "    </tr>\n",
              "    <tr>\n",
              "      <th>3</th>\n",
              "      <td>625</td>\n",
              "      <td>nan</td>\n",
              "    </tr>\n",
              "    <tr>\n",
              "      <th>4</th>\n",
              "      <td>1017</td>\n",
              "      <td>nan</td>\n",
              "    </tr>\n",
              "  </tbody>\n",
              "</table>\n",
              "</div>"
            ],
            "text/plain": [
              "   motor_tipo  Unnamed: 1\n",
              "0          15         nan\n",
              "1         132         nan\n",
              "2         501         nan\n",
              "3         625         nan\n",
              "4        1017         nan"
            ]
          },
          "metadata": {},
          "execution_count": 38
        }
      ]
    },
    {
      "cell_type": "markdown",
      "metadata": {
        "id": "jfdILxM2jFGi"
      },
      "source": [
        "Média da coluna motor_tipo"
      ]
    },
    {
      "cell_type": "code",
      "metadata": {
        "colab": {
          "base_uri": "https://localhost:8080/"
        },
        "id": "hDFt2Te6iuFg",
        "outputId": "c57c901a-9774-4f68-b5f4-59e8d01d02a3"
      },
      "source": [
        "df_filtradorrrrrr['motor_tipo'].mean()"
      ],
      "execution_count": null,
      "outputs": [
        {
          "output_type": "execute_result",
          "data": {
            "text/plain": [
              "873.6666666666666"
            ]
          },
          "metadata": {},
          "execution_count": 39
        }
      ]
    },
    {
      "cell_type": "markdown",
      "metadata": {
        "id": "634w56iBjOP5"
      },
      "source": [
        "Mediana da coluna motor_tipo"
      ]
    },
    {
      "cell_type": "code",
      "metadata": {
        "colab": {
          "base_uri": "https://localhost:8080/"
        },
        "id": "MQc-lIehiuQL",
        "outputId": "4852692c-fe20-48fa-a3bc-b12881cc68ee"
      },
      "source": [
        "df_filtradorrrrrr['motor_tipo'].median()"
      ],
      "execution_count": null,
      "outputs": [
        {
          "output_type": "execute_result",
          "data": {
            "text/plain": [
              "563.0"
            ]
          },
          "metadata": {},
          "execution_count": 40
        }
      ]
    },
    {
      "cell_type": "markdown",
      "metadata": {
        "id": "g3AtuR-ojVx7"
      },
      "source": [
        "Moda da coluna motor_tipo"
      ]
    },
    {
      "cell_type": "code",
      "metadata": {
        "colab": {
          "base_uri": "https://localhost:8080/"
        },
        "id": "GnUh3MAOiuS8",
        "outputId": "2bdc4d8a-5691-407c-cd0e-6a4503aee9c8"
      },
      "source": [
        "df_filtradorrrrrr['motor_tipo'].mode()"
      ],
      "execution_count": null,
      "outputs": [
        {
          "output_type": "execute_result",
          "data": {
            "text/plain": [
              "0      15\n",
              "1     132\n",
              "2     501\n",
              "3     625\n",
              "4    1017\n",
              "5    2952\n",
              "dtype: int64"
            ]
          },
          "metadata": {},
          "execution_count": 41
        }
      ]
    },
    {
      "cell_type": "markdown",
      "metadata": {
        "id": "43uGR9BYje6K"
      },
      "source": [
        "Desvio padrão da coluna motor_tipo"
      ]
    },
    {
      "cell_type": "code",
      "metadata": {
        "colab": {
          "base_uri": "https://localhost:8080/"
        },
        "id": "iMCkBASFi-J-",
        "outputId": "d15fbb36-123f-4777-8e68-6b1e7b237081"
      },
      "source": [
        "df_filtradorrrrrr['motor_tipo'].std()"
      ],
      "execution_count": null,
      "outputs": [
        {
          "output_type": "execute_result",
          "data": {
            "text/plain": [
              "1079.6395077370348"
            ]
          },
          "metadata": {},
          "execution_count": 42
        }
      ]
    },
    {
      "cell_type": "code",
      "metadata": {
        "id": "OeLWpGOhiuW2"
      },
      "source": [
        ""
      ],
      "execution_count": null,
      "outputs": []
    },
    {
      "cell_type": "markdown",
      "metadata": {
        "id": "Xcd81SuyHz1U"
      },
      "source": [
        "As 20 fabricantes com mais acidentes no Brasil(2010-2019)"
      ]
    },
    {
      "cell_type": "code",
      "metadata": {
        "colab": {
          "base_uri": "https://localhost:8080/",
          "height": 541
        },
        "id": "ON8ScDTkHuxe",
        "outputId": "47f0ff04-c7ea-4b86-d835-9a25d39872ee"
      },
      "source": [
        "\n",
        "import pandas as pd\n",
        "\n",
        "df_filtradorr = pd.read_csv('/content/date.csv', sep=';')\n",
        "\n",
        "\n",
        "\n",
        "ax = df_filtradorr.groupby(['aeronave_fabricante']).aeronave_fabricante.count().sort_values()[-20:].plot(kind='barh',\n",
        "figsize=(14,9), ylabel='NÚMERO DE OCORRÊNCIAS', xlabel='EMPRESAS FABRICANTES', edgecolor = 'black', color='blue', fontsize=14, width=0.7)\n",
        "\n",
        "for p in ax.patches:\n",
        "    b=p.get_bbox()\n",
        "    ax.annotate(\"{:.0f}\".format(b.x1 + b.x0), (p.get_x() + p.get_width() + 2, p.get_y() + 0.24),fontsize=14, color='black')\n"
      ],
      "execution_count": null,
      "outputs": [
        {
          "output_type": "display_data",
          "data": {
            "image/png": "[encoded data removed]",
            "text/plain": [
              "<Figure size 1008x648 with 1 Axes>"
            ]
          },
          "metadata": {
            "needs_background": "light"
          }
        }
      ]
    },
    {
      "cell_type": "markdown",
      "metadata": {
        "id": "4CN2zHISwuq8"
      },
      "source": [
        "Nota-se que as aeronaves produzidas pela CESSNA, são mais suscetíveis a acidentes ou incidentes. \n",
        "De acordo com dados do CENIPA, entre 2008 e 2018 a aeronave modelo 210 da CESSNA foi o terceiro modelo de avião que mais se envolvei em acidentes. aviões como o CESSNA 210 não possuem caixa-preta, equipamento que registra conversas de tripulantes. Esse fato costuma dificultar a atuação de peritos na apuração das causas dos acidentes.\n",
        "O acidente do Cessa Citation prefixo PR-AFA ocorreu no dia 13 de agosto de 2014, esse acidente vitimou Eduardo Campos o então candidato à presidência da república nas eleições de 2014.\n",
        "A Embraer aparece na segundo posição, entre as fabricantes com mais ocorrências, é importante salientar que a empresa é uma fabricante brasileira e é a principal fornecedora de aviões para a Azul linha Aéreas, portando, seus aviões são populares nesse pais, o que explica o fato da mesma ser a segunda empresa com mais ocorrência.\n"
      ]
    },
    {
      "cell_type": "code",
      "metadata": {
        "id": "Rvq_p943NWoa",
        "colab": {
          "base_uri": "https://localhost:8080/",
          "height": 676
        },
        "outputId": "13a4c601-6354-4642-b11d-240f612420a8"
      },
      "source": [
        "df_fabricante = pd.read_csv('/content/aeronave_fabricante.csv', sep=';')\n",
        "df_fabricante.head(20)\n"
      ],
      "execution_count": null,
      "outputs": [
        {
          "output_type": "execute_result",
          "data": {
            "text/html": [
              "<div>\n",
              "<style scoped>\n",
              "    .dataframe tbody tr th:only-of-type {\n",
              "        vertical-align: middle;\n",
              "    }\n",
              "\n",
              "    .dataframe tbody tr th {\n",
              "        vertical-align: top;\n",
              "    }\n",
              "\n",
              "    .dataframe thead th {\n",
              "        text-align: right;\n",
              "    }\n",
              "</style>\n",
              "<table border=\"1\" class=\"dataframe\">\n",
              "  <thead>\n",
              "    <tr style=\"text-align: right;\">\n",
              "      <th></th>\n",
              "      <th>aeronave_fabricante</th>\n",
              "      <th>Unnamed: 1</th>\n",
              "    </tr>\n",
              "  </thead>\n",
              "  <tbody>\n",
              "    <tr>\n",
              "      <th>0</th>\n",
              "      <td>800</td>\n",
              "      <td>nan</td>\n",
              "    </tr>\n",
              "    <tr>\n",
              "      <th>1</th>\n",
              "      <td>589</td>\n",
              "      <td>nan</td>\n",
              "    </tr>\n",
              "    <tr>\n",
              "      <th>2</th>\n",
              "      <td>583</td>\n",
              "      <td>nan</td>\n",
              "    </tr>\n",
              "    <tr>\n",
              "      <th>3</th>\n",
              "      <td>373</td>\n",
              "      <td>nan</td>\n",
              "    </tr>\n",
              "    <tr>\n",
              "      <th>4</th>\n",
              "      <td>286</td>\n",
              "      <td>nan</td>\n",
              "    </tr>\n",
              "    <tr>\n",
              "      <th>5</th>\n",
              "      <td>273</td>\n",
              "      <td>nan</td>\n",
              "    </tr>\n",
              "    <tr>\n",
              "      <th>6</th>\n",
              "      <td>272</td>\n",
              "      <td>nan</td>\n",
              "    </tr>\n",
              "    <tr>\n",
              "      <th>7</th>\n",
              "      <td>267</td>\n",
              "      <td>nan</td>\n",
              "    </tr>\n",
              "    <tr>\n",
              "      <th>8</th>\n",
              "      <td>243</td>\n",
              "      <td>nan</td>\n",
              "    </tr>\n",
              "    <tr>\n",
              "      <th>9</th>\n",
              "      <td>179</td>\n",
              "      <td>nan</td>\n",
              "    </tr>\n",
              "    <tr>\n",
              "      <th>10</th>\n",
              "      <td>142</td>\n",
              "      <td>nan</td>\n",
              "    </tr>\n",
              "    <tr>\n",
              "      <th>11</th>\n",
              "      <td>134</td>\n",
              "      <td>nan</td>\n",
              "    </tr>\n",
              "    <tr>\n",
              "      <th>12</th>\n",
              "      <td>89</td>\n",
              "      <td>nan</td>\n",
              "    </tr>\n",
              "    <tr>\n",
              "      <th>13</th>\n",
              "      <td>85</td>\n",
              "      <td>nan</td>\n",
              "    </tr>\n",
              "    <tr>\n",
              "      <th>14</th>\n",
              "      <td>76</td>\n",
              "      <td>nan</td>\n",
              "    </tr>\n",
              "    <tr>\n",
              "      <th>15</th>\n",
              "      <td>63</td>\n",
              "      <td>nan</td>\n",
              "    </tr>\n",
              "    <tr>\n",
              "      <th>16</th>\n",
              "      <td>57</td>\n",
              "      <td>nan</td>\n",
              "    </tr>\n",
              "    <tr>\n",
              "      <th>17</th>\n",
              "      <td>55</td>\n",
              "      <td>nan</td>\n",
              "    </tr>\n",
              "    <tr>\n",
              "      <th>18</th>\n",
              "      <td>51</td>\n",
              "      <td>nan</td>\n",
              "    </tr>\n",
              "    <tr>\n",
              "      <th>19</th>\n",
              "      <td>47</td>\n",
              "      <td>nan</td>\n",
              "    </tr>\n",
              "  </tbody>\n",
              "</table>\n",
              "</div>"
            ],
            "text/plain": [
              "    aeronave_fabricante  Unnamed: 1\n",
              "0                   800         nan\n",
              "1                   589         nan\n",
              "2                   583         nan\n",
              "3                   373         nan\n",
              "4                   286         nan\n",
              "5                   273         nan\n",
              "6                   272         nan\n",
              "7                   267         nan\n",
              "8                   243         nan\n",
              "9                   179         nan\n",
              "10                  142         nan\n",
              "11                  134         nan\n",
              "12                   89         nan\n",
              "13                   85         nan\n",
              "14                   76         nan\n",
              "15                   63         nan\n",
              "16                   57         nan\n",
              "17                   55         nan\n",
              "18                   51         nan\n",
              "19                   47         nan"
            ]
          },
          "metadata": {},
          "execution_count": 45
        }
      ]
    },
    {
      "cell_type": "markdown",
      "metadata": {
        "id": "vV_ZDA4eldKv"
      },
      "source": [
        "Média da coluna aeronave_fabricante"
      ]
    },
    {
      "cell_type": "code",
      "metadata": {
        "colab": {
          "base_uri": "https://localhost:8080/"
        },
        "id": "WFw-7SeNk207",
        "outputId": "5f5e63b9-fcd3-4bcf-9031-a33f5b51af13"
      },
      "source": [
        "df_fabricante['aeronave_fabricante'].mean()"
      ],
      "execution_count": null,
      "outputs": [
        {
          "output_type": "execute_result",
          "data": {
            "text/plain": [
              "233.2"
            ]
          },
          "metadata": {},
          "execution_count": 47
        }
      ]
    },
    {
      "cell_type": "markdown",
      "metadata": {
        "id": "eTFfbEb0ljWT"
      },
      "source": [
        "Mediana da coluna aeronave_fabricante"
      ]
    },
    {
      "cell_type": "code",
      "metadata": {
        "colab": {
          "base_uri": "https://localhost:8080/"
        },
        "id": "NIv2U77Ak3KA",
        "outputId": "feb36e5f-ead7-4b24-d6dd-c37a469e3228"
      },
      "source": [
        "df_fabricante['aeronave_fabricante'].median()"
      ],
      "execution_count": null,
      "outputs": [
        {
          "output_type": "execute_result",
          "data": {
            "text/plain": [
              "160.5"
            ]
          },
          "metadata": {},
          "execution_count": 48
        }
      ]
    },
    {
      "cell_type": "markdown",
      "metadata": {
        "id": "n4QC0aiClq0f"
      },
      "source": [
        "Moda da coluna aeronave_fabricante"
      ]
    },
    {
      "cell_type": "code",
      "metadata": {
        "colab": {
          "base_uri": "https://localhost:8080/"
        },
        "id": "lHmW9GQok3M-",
        "outputId": "1d70590f-cd14-47ca-a8f3-ba201216765f"
      },
      "source": [
        "df_fabricante['aeronave_fabricante'].mode()"
      ],
      "execution_count": null,
      "outputs": [
        {
          "output_type": "execute_result",
          "data": {
            "text/plain": [
              "0      47\n",
              "1      51\n",
              "2      55\n",
              "3      57\n",
              "4      63\n",
              "5      76\n",
              "6      85\n",
              "7      89\n",
              "8     134\n",
              "9     142\n",
              "10    179\n",
              "11    243\n",
              "12    267\n",
              "13    272\n",
              "14    273\n",
              "15    286\n",
              "16    373\n",
              "17    583\n",
              "18    589\n",
              "19    800\n",
              "dtype: int64"
            ]
          },
          "metadata": {},
          "execution_count": 49
        }
      ]
    },
    {
      "cell_type": "markdown",
      "metadata": {
        "id": "e1HGMHKLnk-E"
      },
      "source": [
        "Desvio Padrão da coluna aeronave_fabricante"
      ]
    },
    {
      "cell_type": "code",
      "metadata": {
        "colab": {
          "base_uri": "https://localhost:8080/"
        },
        "id": "R5DnWlBAk3PV",
        "outputId": "81610978-963a-4295-9bb7-465aba98fbfa"
      },
      "source": [
        "df_fabricante['aeronave_fabricante'].std()"
      ],
      "execution_count": null,
      "outputs": [
        {
          "output_type": "execute_result",
          "data": {
            "text/plain": [
              "210.89748070667187"
            ]
          },
          "metadata": {},
          "execution_count": 50
        }
      ]
    },
    {
      "cell_type": "markdown",
      "metadata": {
        "id": "sv0AM92iJyeV"
      },
      "source": [
        "As 20 maiores causas de acidentes e incidentes"
      ]
    },
    {
      "cell_type": "code",
      "metadata": {
        "colab": {
          "base_uri": "https://localhost:8080/",
          "height": 778
        },
        "id": "bq9vmCBWI-m4",
        "outputId": "1d360e6d-9d11-4767-91ba-4350e1067fb8"
      },
      "source": [
        "import pandas as pd\n",
        "\n",
        "\n",
        "\n",
        "df_filtradorr = pd.read_csv('/content/date.csv', sep=';')\n",
        "\n",
        "\n",
        "\n",
        "\n",
        "ax = df_filtradorr.groupby(['descricao']).aeronave_fabricante.count().sort_values()[-20:].plot(kind='barh',\n",
        "figsize=(12,14), width=0.7, xlabel='DESCRIÇÃO DAS OCORRÊNCIAS', grid=False,fontsize=14, edgecolor = 'black', color='#00BFFF')\n",
        "\n",
        "for p in ax.patches:\n",
        "    b=p.get_bbox()\n",
        "    ax.annotate(\"{:.0f}\".format(b.x1 + b.x0), (p.get_x() + p.get_width() + 2, p.get_y() + 0.24), fontsize=14, color='black')\n",
        "\n",
        "\n",
        "\n",
        "plt.show()\n"
      ],
      "execution_count": null,
      "outputs": [
        {
          "output_type": "display_data",
          "data": {
            "image/png": "[encoded data removed]",
            "text/plain": [
              "<Figure size 864x1008 with 1 Axes>"
            ]
          },
          "metadata": {
            "needs_background": "light"
          }
        }
      ]
    },
    {
      "cell_type": "markdown",
      "metadata": {
        "id": "e9tfaMO5fn5f"
      },
      "source": [
        "\n",
        "As falhas em motores e a são as principais causa de ocorrências, é importante salientar que uma boa parte dos acidentes são causados por uma série de fatores, como problemas na fuselagem da aeronave e mau tempo.\n",
        "Aviões com motorização a pistão, que é o tipo de motorização com mais ocorrências, geralmente não passam por uma manutenção cuidadosa e rigorosa, o que acaba por acarretar falhas de funcionamento em voo e em solo.\n",
        "De acordo com os dados da Agência Nacional de Aviação Civil (Anac), 43% das aeronaves para transporte privado e táxi-aéreo estão impedidas de voar. As irregularidades presentes nas aeronaves vão além de falhas estruturais, questões relacionadas a inconsistência nas documentações, falta de licenças são bastante frequentes. \n"
      ]
    },
    {
      "cell_type": "code",
      "metadata": {
        "id": "qhAVUOT7Xyf6",
        "colab": {
          "base_uri": "https://localhost:8080/",
          "height": 206
        },
        "outputId": "11448c5a-b4c0-4160-b4c8-6759435b17fa"
      },
      "source": [
        "df_descricao = pd.read_csv('/descricao.csv', sep=';')\n",
        "df_descricao.head()\n"
      ],
      "execution_count": null,
      "outputs": [
        {
          "output_type": "execute_result",
          "data": {
            "text/html": [
              "<div>\n",
              "<style scoped>\n",
              "    .dataframe tbody tr th:only-of-type {\n",
              "        vertical-align: middle;\n",
              "    }\n",
              "\n",
              "    .dataframe tbody tr th {\n",
              "        vertical-align: top;\n",
              "    }\n",
              "\n",
              "    .dataframe thead th {\n",
              "        text-align: right;\n",
              "    }\n",
              "</style>\n",
              "<table border=\"1\" class=\"dataframe\">\n",
              "  <thead>\n",
              "    <tr style=\"text-align: right;\">\n",
              "      <th></th>\n",
              "      <th>descricao</th>\n",
              "      <th>Unnamed: 1</th>\n",
              "    </tr>\n",
              "  </thead>\n",
              "  <tbody>\n",
              "    <tr>\n",
              "      <th>0</th>\n",
              "      <td>632</td>\n",
              "      <td>nan</td>\n",
              "    </tr>\n",
              "    <tr>\n",
              "      <th>1</th>\n",
              "      <td>566</td>\n",
              "      <td>nan</td>\n",
              "    </tr>\n",
              "    <tr>\n",
              "      <th>2</th>\n",
              "      <td>540</td>\n",
              "      <td>nan</td>\n",
              "    </tr>\n",
              "    <tr>\n",
              "      <th>3</th>\n",
              "      <td>427</td>\n",
              "      <td>nan</td>\n",
              "    </tr>\n",
              "    <tr>\n",
              "      <th>4</th>\n",
              "      <td>333</td>\n",
              "      <td>nan</td>\n",
              "    </tr>\n",
              "  </tbody>\n",
              "</table>\n",
              "</div>"
            ],
            "text/plain": [
              "   descricao  Unnamed: 1\n",
              "0        632         nan\n",
              "1        566         nan\n",
              "2        540         nan\n",
              "3        427         nan\n",
              "4        333         nan"
            ]
          },
          "metadata": {},
          "execution_count": 51
        }
      ]
    },
    {
      "cell_type": "markdown",
      "metadata": {
        "id": "6aU8q_5Hregn"
      },
      "source": [
        "Média da coluna descricao"
      ]
    },
    {
      "cell_type": "code",
      "metadata": {
        "colab": {
          "base_uri": "https://localhost:8080/"
        },
        "id": "BvrOdmhhrHb5",
        "outputId": "7d2d7bf5-c34f-4531-f8fb-dd77b811f792"
      },
      "source": [
        "df_descricao['descricao'].mean()"
      ],
      "execution_count": null,
      "outputs": [
        {
          "output_type": "execute_result",
          "data": {
            "text/plain": [
              "226.05"
            ]
          },
          "metadata": {},
          "execution_count": 52
        }
      ]
    },
    {
      "cell_type": "markdown",
      "metadata": {
        "id": "jwUhGrYqrl7Y"
      },
      "source": [
        "Mediana da coluna descricao"
      ]
    },
    {
      "cell_type": "code",
      "metadata": {
        "colab": {
          "base_uri": "https://localhost:8080/"
        },
        "id": "lZr954QprHnq",
        "outputId": "d3cad7ca-a54a-45ad-c160-0a6937ff0544"
      },
      "source": [
        "df_descricao['descricao'].median()"
      ],
      "execution_count": null,
      "outputs": [
        {
          "output_type": "execute_result",
          "data": {
            "text/plain": [
              "112.0"
            ]
          },
          "metadata": {},
          "execution_count": 53
        }
      ]
    },
    {
      "cell_type": "markdown",
      "metadata": {
        "id": "5y_6K3hArq5I"
      },
      "source": [
        "Moda da coluna descricao"
      ]
    },
    {
      "cell_type": "code",
      "metadata": {
        "colab": {
          "base_uri": "https://localhost:8080/"
        },
        "id": "StX-twbDrHqk",
        "outputId": "cc907718-50f3-4188-e4b4-f738f7917363"
      },
      "source": [
        "df_descricao['descricao'].mode()"
      ],
      "execution_count": null,
      "outputs": [
        {
          "output_type": "execute_result",
          "data": {
            "text/plain": [
              "0    100\n",
              "dtype: int64"
            ]
          },
          "metadata": {},
          "execution_count": 54
        }
      ]
    },
    {
      "cell_type": "markdown",
      "metadata": {
        "id": "aEin2Uaur7aC"
      },
      "source": [
        "Desvio Padrão da coluna descricao"
      ]
    },
    {
      "cell_type": "code",
      "metadata": {
        "colab": {
          "base_uri": "https://localhost:8080/"
        },
        "id": "kbx7LVaTrHuO",
        "outputId": "8a511baf-2ecd-48e2-a306-db4c180295db"
      },
      "source": [
        "df_descricao['descricao'].std()"
      ],
      "execution_count": null,
      "outputs": [
        {
          "output_type": "execute_result",
          "data": {
            "text/plain": [
              "186.19980072350688"
            ]
          },
          "metadata": {},
          "execution_count": 55
        }
      ]
    },
    {
      "cell_type": "code",
      "metadata": {
        "id": "B5A5X3p6sDJO"
      },
      "source": [
        ""
      ],
      "execution_count": null,
      "outputs": []
    },
    {
      "cell_type": "markdown",
      "metadata": {
        "id": "tVzzwPq6PNWn"
      },
      "source": [
        "Total de aeronaves que saíram da pista de pouso"
      ]
    },
    {
      "cell_type": "code",
      "metadata": {
        "colab": {
          "base_uri": "https://localhost:8080/",
          "height": 542
        },
        "id": "1O2UffYmnzKm",
        "outputId": "9d821162-f2a2-4046-f0d3-3a79782b3382"
      },
      "source": [
        "total_marca = df_filtrador['ocorrencia_saida_pista'].value_counts()\n",
        "fig = px.bar(total_marca, x=total_marca.index, y=total_marca.values)\n",
        "\n",
        "fig = px.bar(total_marca, x=total_marca.index, y=total_marca.values, title= 'Total de aeronaves que saíram da pista',\n",
        "text=total_marca.values)\n",
        "\n",
        "fig.show()\n"
      ],
      "execution_count": null,
      "outputs": [
        {
          "output_type": "display_data",
          "data": {
            "text/html": [
              "<html>\n",
              "<head><meta charset=\"utf-8\" /></head>\n",
              "<body>\n",
              "    <div>\n",
              "            <script src=\"https://cdnjs.cloudflare.com/ajax/libs/mathjax/2.7.5/MathJax.js?config=TeX-AMS-MML_SVG\"></script><script type=\"text/javascript\">if (window.MathJax) {MathJax.Hub.Config({SVG: {font: \"STIX-Web\"}});}</script>\n",
              "                <script type=\"text/javascript\">window.PlotlyConfig = {MathJaxConfig: 'local'};</script>\n",
              "        <script src=\"https://cdn.plot.ly/plotly-latest.min.js\"></script>    \n",
              "            <div id=\"1e4b493a-a53a-47d5-ae72-ab75135bfffa\" class=\"plotly-graph-div\" style=\"height:525px; width:100%;\"></div>\n",
              "            <script type=\"text/javascript\">\n",
              "                \n",
              "                    window.PLOTLYENV=window.PLOTLYENV || {};\n",
              "                    \n",
              "                if (document.getElementById(\"1e4b493a-a53a-47d5-ae72-ab75135bfffa\")) {\n",
              "                    Plotly.newPlot(\n",
              "                        '1e4b493a-a53a-47d5-ae72-ab75135bfffa',\n",
              "                        [{\"alignmentgroup\": \"True\", \"hoverlabel\": {\"namelength\": 0}, \"hovertemplate\": \"x=%{x}<br>y=%{y}<br>text=%{text}\", \"legendgroup\": \"\", \"marker\": {\"color\": \"#636efa\"}, \"name\": \"\", \"offsetgroup\": \"\", \"orientation\": \"v\", \"showlegend\": false, \"text\": [4784.0, 458.0], \"textposition\": \"auto\", \"type\": \"bar\", \"x\": [\"N\\u00c3O\", \"SIM\"], \"xaxis\": \"x\", \"y\": [4784, 458], \"yaxis\": \"y\"}],\n",
              "                        {\"barmode\": \"relative\", \"legend\": {\"tracegroupgap\": 0}, \"template\": {\"data\": {\"bar\": [{\"error_x\": {\"color\": \"#2a3f5f\"}, \"error_y\": {\"color\": \"#2a3f5f\"}, \"marker\": {\"line\": {\"color\": \"#E5ECF6\", \"width\": 0.5}}, \"type\": \"bar\"}], \"barpolar\": [{\"marker\": {\"line\": {\"color\": \"#E5ECF6\", \"width\": 0.5}}, \"type\": \"barpolar\"}], \"carpet\": [{\"aaxis\": {\"endlinecolor\": \"#2a3f5f\", \"gridcolor\": \"white\", \"linecolor\": \"white\", \"minorgridcolor\": \"white\", \"startlinecolor\": \"#2a3f5f\"}, \"baxis\": {\"endlinecolor\": \"#2a3f5f\", \"gridcolor\": \"white\", \"linecolor\": \"white\", \"minorgridcolor\": \"white\", \"startlinecolor\": \"#2a3f5f\"}, \"type\": \"carpet\"}], \"choropleth\": [{\"colorbar\": {\"outlinewidth\": 0, \"ticks\": \"\"}, \"type\": \"choropleth\"}], \"contour\": [{\"colorbar\": {\"outlinewidth\": 0, \"ticks\": \"\"}, \"colorscale\": [[0.0, \"#0d0887\"], [0.1111111111111111, \"#46039f\"], [0.2222222222222222, \"#7201a8\"], [0.3333333333333333, \"#9c179e\"], [0.4444444444444444, \"#bd3786\"], [0.5555555555555556, \"#d8576b\"], [0.6666666666666666, \"#ed7953\"], [0.7777777777777778, \"#fb9f3a\"], [0.8888888888888888, \"#fdca26\"], [1.0, \"#f0f921\"]], \"type\": \"contour\"}], \"contourcarpet\": [{\"colorbar\": {\"outlinewidth\": 0, \"ticks\": \"\"}, \"type\": \"contourcarpet\"}], \"heatmap\": [{\"colorbar\": {\"outlinewidth\": 0, \"ticks\": \"\"}, \"colorscale\": [[0.0, \"#0d0887\"], [0.1111111111111111, \"#46039f\"], [0.2222222222222222, \"#7201a8\"], [0.3333333333333333, \"#9c179e\"], [0.4444444444444444, \"#bd3786\"], [0.5555555555555556, \"#d8576b\"], [0.6666666666666666, \"#ed7953\"], [0.7777777777777778, \"#fb9f3a\"], [0.8888888888888888, \"#fdca26\"], [1.0, \"#f0f921\"]], \"type\": \"heatmap\"}], \"heatmapgl\": [{\"colorbar\": {\"outlinewidth\": 0, \"ticks\": \"\"}, \"colorscale\": [[0.0, \"#0d0887\"], [0.1111111111111111, \"#46039f\"], [0.2222222222222222, \"#7201a8\"], [0.3333333333333333, \"#9c179e\"], [0.4444444444444444, \"#bd3786\"], [0.5555555555555556, \"#d8576b\"], [0.6666666666666666, \"#ed7953\"], [0.7777777777777778, \"#fb9f3a\"], [0.8888888888888888, \"#fdca26\"], [1.0, \"#f0f921\"]], \"type\": \"heatmapgl\"}], \"histogram\": [{\"marker\": {\"colorbar\": {\"outlinewidth\": 0, \"ticks\": \"\"}}, \"type\": \"histogram\"}], \"histogram2d\": [{\"colorbar\": {\"outlinewidth\": 0, \"ticks\": \"\"}, \"colorscale\": [[0.0, \"#0d0887\"], [0.1111111111111111, \"#46039f\"], [0.2222222222222222, \"#7201a8\"], [0.3333333333333333, \"#9c179e\"], [0.4444444444444444, \"#bd3786\"], [0.5555555555555556, \"#d8576b\"], [0.6666666666666666, \"#ed7953\"], [0.7777777777777778, \"#fb9f3a\"], [0.8888888888888888, \"#fdca26\"], [1.0, \"#f0f921\"]], \"type\": \"histogram2d\"}], \"histogram2dcontour\": [{\"colorbar\": {\"outlinewidth\": 0, \"ticks\": \"\"}, \"colorscale\": [[0.0, \"#0d0887\"], [0.1111111111111111, \"#46039f\"], [0.2222222222222222, \"#7201a8\"], [0.3333333333333333, \"#9c179e\"], [0.4444444444444444, \"#bd3786\"], [0.5555555555555556, \"#d8576b\"], [0.6666666666666666, \"#ed7953\"], [0.7777777777777778, \"#fb9f3a\"], [0.8888888888888888, \"#fdca26\"], [1.0, \"#f0f921\"]], \"type\": \"histogram2dcontour\"}], \"mesh3d\": [{\"colorbar\": {\"outlinewidth\": 0, \"ticks\": \"\"}, \"type\": \"mesh3d\"}], \"parcoords\": [{\"line\": {\"colorbar\": {\"outlinewidth\": 0, \"ticks\": \"\"}}, \"type\": \"parcoords\"}], \"pie\": [{\"automargin\": true, \"type\": \"pie\"}], \"scatter\": [{\"marker\": {\"colorbar\": {\"outlinewidth\": 0, \"ticks\": \"\"}}, \"type\": \"scatter\"}], \"scatter3d\": [{\"line\": {\"colorbar\": {\"outlinewidth\": 0, \"ticks\": \"\"}}, \"marker\": {\"colorbar\": {\"outlinewidth\": 0, \"ticks\": \"\"}}, \"type\": \"scatter3d\"}], \"scattercarpet\": [{\"marker\": {\"colorbar\": {\"outlinewidth\": 0, \"ticks\": \"\"}}, \"type\": \"scattercarpet\"}], \"scattergeo\": [{\"marker\": {\"colorbar\": {\"outlinewidth\": 0, \"ticks\": \"\"}}, \"type\": \"scattergeo\"}], \"scattergl\": [{\"marker\": {\"colorbar\": {\"outlinewidth\": 0, \"ticks\": \"\"}}, \"type\": \"scattergl\"}], \"scattermapbox\": [{\"marker\": {\"colorbar\": {\"outlinewidth\": 0, \"ticks\": \"\"}}, \"type\": \"scattermapbox\"}], \"scatterpolar\": [{\"marker\": {\"colorbar\": {\"outlinewidth\": 0, \"ticks\": \"\"}}, \"type\": \"scatterpolar\"}], \"scatterpolargl\": [{\"marker\": {\"colorbar\": {\"outlinewidth\": 0, \"ticks\": \"\"}}, \"type\": \"scatterpolargl\"}], \"scatterternary\": [{\"marker\": {\"colorbar\": {\"outlinewidth\": 0, \"ticks\": \"\"}}, \"type\": \"scatterternary\"}], \"surface\": [{\"colorbar\": {\"outlinewidth\": 0, \"ticks\": \"\"}, \"colorscale\": [[0.0, \"#0d0887\"], [0.1111111111111111, \"#46039f\"], [0.2222222222222222, \"#7201a8\"], [0.3333333333333333, \"#9c179e\"], [0.4444444444444444, \"#bd3786\"], [0.5555555555555556, \"#d8576b\"], [0.6666666666666666, \"#ed7953\"], [0.7777777777777778, \"#fb9f3a\"], [0.8888888888888888, \"#fdca26\"], [1.0, \"#f0f921\"]], \"type\": \"surface\"}], \"table\": [{\"cells\": {\"fill\": {\"color\": \"#EBF0F8\"}, \"line\": {\"color\": \"white\"}}, \"header\": {\"fill\": {\"color\": \"#C8D4E3\"}, \"line\": {\"color\": \"white\"}}, \"type\": \"table\"}]}, \"layout\": {\"annotationdefaults\": {\"arrowcolor\": \"#2a3f5f\", \"arrowhead\": 0, \"arrowwidth\": 1}, \"coloraxis\": {\"colorbar\": {\"outlinewidth\": 0, \"ticks\": \"\"}}, \"colorscale\": {\"diverging\": [[0, \"#8e0152\"], [0.1, \"#c51b7d\"], [0.2, \"#de77ae\"], [0.3, \"#f1b6da\"], [0.4, \"#fde0ef\"], [0.5, \"#f7f7f7\"], [0.6, \"#e6f5d0\"], [0.7, \"#b8e186\"], [0.8, \"#7fbc41\"], [0.9, \"#4d9221\"], [1, \"#276419\"]], \"sequential\": [[0.0, \"#0d0887\"], [0.1111111111111111, \"#46039f\"], [0.2222222222222222, \"#7201a8\"], [0.3333333333333333, \"#9c179e\"], [0.4444444444444444, \"#bd3786\"], [0.5555555555555556, \"#d8576b\"], [0.6666666666666666, \"#ed7953\"], [0.7777777777777778, \"#fb9f3a\"], [0.8888888888888888, \"#fdca26\"], [1.0, \"#f0f921\"]], \"sequentialminus\": [[0.0, \"#0d0887\"], [0.1111111111111111, \"#46039f\"], [0.2222222222222222, \"#7201a8\"], [0.3333333333333333, \"#9c179e\"], [0.4444444444444444, \"#bd3786\"], [0.5555555555555556, \"#d8576b\"], [0.6666666666666666, \"#ed7953\"], [0.7777777777777778, \"#fb9f3a\"], [0.8888888888888888, \"#fdca26\"], [1.0, \"#f0f921\"]]}, \"colorway\": [\"#636efa\", \"#EF553B\", \"#00cc96\", \"#ab63fa\", \"#FFA15A\", \"#19d3f3\", \"#FF6692\", \"#B6E880\", \"#FF97FF\", \"#FECB52\"], \"font\": {\"color\": \"#2a3f5f\"}, \"geo\": {\"bgcolor\": \"white\", \"lakecolor\": \"white\", \"landcolor\": \"#E5ECF6\", \"showlakes\": true, \"showland\": true, \"subunitcolor\": \"white\"}, \"hoverlabel\": {\"align\": \"left\"}, \"hovermode\": \"closest\", \"mapbox\": {\"style\": \"light\"}, \"paper_bgcolor\": \"white\", \"plot_bgcolor\": \"#E5ECF6\", \"polar\": {\"angularaxis\": {\"gridcolor\": \"white\", \"linecolor\": \"white\", \"ticks\": \"\"}, \"bgcolor\": \"#E5ECF6\", \"radialaxis\": {\"gridcolor\": \"white\", \"linecolor\": \"white\", \"ticks\": \"\"}}, \"scene\": {\"xaxis\": {\"backgroundcolor\": \"#E5ECF6\", \"gridcolor\": \"white\", \"gridwidth\": 2, \"linecolor\": \"white\", \"showbackground\": true, \"ticks\": \"\", \"zerolinecolor\": \"white\"}, \"yaxis\": {\"backgroundcolor\": \"#E5ECF6\", \"gridcolor\": \"white\", \"gridwidth\": 2, \"linecolor\": \"white\", \"showbackground\": true, \"ticks\": \"\", \"zerolinecolor\": \"white\"}, \"zaxis\": {\"backgroundcolor\": \"#E5ECF6\", \"gridcolor\": \"white\", \"gridwidth\": 2, \"linecolor\": \"white\", \"showbackground\": true, \"ticks\": \"\", \"zerolinecolor\": \"white\"}}, \"shapedefaults\": {\"line\": {\"color\": \"#2a3f5f\"}}, \"ternary\": {\"aaxis\": {\"gridcolor\": \"white\", \"linecolor\": \"white\", \"ticks\": \"\"}, \"baxis\": {\"gridcolor\": \"white\", \"linecolor\": \"white\", \"ticks\": \"\"}, \"bgcolor\": \"#E5ECF6\", \"caxis\": {\"gridcolor\": \"white\", \"linecolor\": \"white\", \"ticks\": \"\"}}, \"title\": {\"x\": 0.05}, \"xaxis\": {\"automargin\": true, \"gridcolor\": \"white\", \"linecolor\": \"white\", \"ticks\": \"\", \"title\": {\"standoff\": 15}, \"zerolinecolor\": \"white\", \"zerolinewidth\": 2}, \"yaxis\": {\"automargin\": true, \"gridcolor\": \"white\", \"linecolor\": \"white\", \"ticks\": \"\", \"title\": {\"standoff\": 15}, \"zerolinecolor\": \"white\", \"zerolinewidth\": 2}}}, \"title\": {\"text\": \"Total de aeronaves que sa\\u00edram da pista\"}, \"xaxis\": {\"anchor\": \"y\", \"domain\": [0.0, 1.0], \"title\": {\"text\": \"x\"}}, \"yaxis\": {\"anchor\": \"x\", \"domain\": [0.0, 1.0], \"title\": {\"text\": \"y\"}}},\n",
              "                        {\"responsive\": true}\n",
              "                    ).then(function(){\n",
              "                            \n",
              "var gd = document.getElementById('1e4b493a-a53a-47d5-ae72-ab75135bfffa');\n",
              "var x = new MutationObserver(function (mutations, observer) {{\n",
              "        var display = window.getComputedStyle(gd).display;\n",
              "        if (!display || display === 'none') {{\n",
              "            console.log([gd, 'removed!']);\n",
              "            Plotly.purge(gd);\n",
              "            observer.disconnect();\n",
              "        }}\n",
              "}});\n",
              "\n",
              "// Listen for the removal of the full notebook cells\n",
              "var notebookContainer = gd.closest('#notebook-container');\n",
              "if (notebookContainer) {{\n",
              "    x.observe(notebookContainer, {childList: true});\n",
              "}}\n",
              "\n",
              "// Listen for the clearing of the current output cell\n",
              "var outputEl = gd.closest('.output');\n",
              "if (outputEl) {{\n",
              "    x.observe(outputEl, {childList: true});\n",
              "}}\n",
              "\n",
              "                        })\n",
              "                };\n",
              "                \n",
              "            </script>\n",
              "        </div>\n",
              "</body>\n",
              "</html>"
            ]
          },
          "metadata": {}
        }
      ]
    },
    {
      "cell_type": "markdown",
      "metadata": {
        "id": "c8FQCBmKw2gb"
      },
      "source": [
        "Aeronaves podem sair da pista por diversos motivos, em aeroportos cujo tamanho da pista é reduzido como o Aeroporto de Congonhas, a quantidade de ocorrências tende a ser maior, como no caso do acidente com o VOO 3054 da TAM atual LATAM em 2007.\n",
        "Falhas no trem de pouso é outro fator que pode levar uma aeronave a ter problemas no momento do pouso. Vale lembrar que ocorrências desse tipo são classificadas como acidentes ou incidentes graves, pois podem acarretar em danos graves a estrutura das aeronaves ou até mesmo em óbitos.\n",
        "Problemas estruturais nas pistas e mau tempo também podem causar esses ocorridos. Aquaplanagem e mau tempo foram as causas que levaram um avião da empresa GOL a sair da pista no aeroporto de Navegantes em Santa Catarina em 2003, na ocasião não houve mortos ou feridos.\n"
      ]
    },
    {
      "cell_type": "code",
      "metadata": {
        "colab": {
          "base_uri": "https://localhost:8080/",
          "height": 112
        },
        "id": "Woakp0qktFK9",
        "outputId": "4874d2e7-6c13-4ec7-e9af-7077553ee3af"
      },
      "source": [
        "df_pista = pd.read_csv('/ocorrencia_saida_pista.csv', sep=';')\n",
        "df_pista.head()"
      ],
      "execution_count": null,
      "outputs": [
        {
          "output_type": "execute_result",
          "data": {
            "text/html": [
              "<div>\n",
              "<style scoped>\n",
              "    .dataframe tbody tr th:only-of-type {\n",
              "        vertical-align: middle;\n",
              "    }\n",
              "\n",
              "    .dataframe tbody tr th {\n",
              "        vertical-align: top;\n",
              "    }\n",
              "\n",
              "    .dataframe thead th {\n",
              "        text-align: right;\n",
              "    }\n",
              "</style>\n",
              "<table border=\"1\" class=\"dataframe\">\n",
              "  <thead>\n",
              "    <tr style=\"text-align: right;\">\n",
              "      <th></th>\n",
              "      <th>ocorrencia_saida_pista</th>\n",
              "      <th>Unnamed: 1</th>\n",
              "    </tr>\n",
              "  </thead>\n",
              "  <tbody>\n",
              "    <tr>\n",
              "      <th>0</th>\n",
              "      <td>4784</td>\n",
              "      <td>nan</td>\n",
              "    </tr>\n",
              "    <tr>\n",
              "      <th>1</th>\n",
              "      <td>458</td>\n",
              "      <td>nan</td>\n",
              "    </tr>\n",
              "  </tbody>\n",
              "</table>\n",
              "</div>"
            ],
            "text/plain": [
              "   ocorrencia_saida_pista  Unnamed: 1\n",
              "0                    4784         nan\n",
              "1                     458         nan"
            ]
          },
          "metadata": {},
          "execution_count": 57
        }
      ]
    },
    {
      "cell_type": "markdown",
      "metadata": {
        "id": "wIqzYr5Rtu2a"
      },
      "source": [
        "Média da coluna ocorrencia_saida_pista"
      ]
    },
    {
      "cell_type": "code",
      "metadata": {
        "colab": {
          "base_uri": "https://localhost:8080/"
        },
        "id": "BSDXhC3ZtJrJ",
        "outputId": "fa4f85f1-2603-482e-cf9f-c22613cb7ea4"
      },
      "source": [
        "df_pista['ocorrencia_saida_pista'].mean()"
      ],
      "execution_count": null,
      "outputs": [
        {
          "output_type": "execute_result",
          "data": {
            "text/plain": [
              "2621.0"
            ]
          },
          "metadata": {},
          "execution_count": 63
        }
      ]
    },
    {
      "cell_type": "markdown",
      "metadata": {
        "id": "KsfevijUuKN2"
      },
      "source": [
        "Mediana da coluna ocorrencia_saida_pista"
      ]
    },
    {
      "cell_type": "code",
      "metadata": {
        "colab": {
          "base_uri": "https://localhost:8080/"
        },
        "id": "-PQFrRU0tKPD",
        "outputId": "9dfab77d-23a1-4f1f-ad1c-ebb7b64c7bba"
      },
      "source": [
        "df_pista['ocorrencia_saida_pista'].median()"
      ],
      "execution_count": null,
      "outputs": [
        {
          "output_type": "execute_result",
          "data": {
            "text/plain": [
              "2621.0"
            ]
          },
          "metadata": {},
          "execution_count": 62
        }
      ]
    },
    {
      "cell_type": "markdown",
      "metadata": {
        "id": "rHZWwVtRuUad"
      },
      "source": [
        "Moda da coluna ocorrencia_saida_pista"
      ]
    },
    {
      "cell_type": "code",
      "metadata": {
        "colab": {
          "base_uri": "https://localhost:8080/"
        },
        "id": "RH7ZWWrjtKUb",
        "outputId": "8c2ab178-fc70-49b7-ebc2-1577eb69f016"
      },
      "source": [
        "df_pista['ocorrencia_saida_pista'].mode()"
      ],
      "execution_count": null,
      "outputs": [
        {
          "output_type": "execute_result",
          "data": {
            "text/plain": [
              "0     458\n",
              "1    4784\n",
              "dtype: int64"
            ]
          },
          "metadata": {},
          "execution_count": 64
        }
      ]
    },
    {
      "cell_type": "markdown",
      "metadata": {
        "id": "lOHen4a6uhgS"
      },
      "source": [
        "Desvio padrão da coluna ocorrencia_saida_pista"
      ]
    },
    {
      "cell_type": "code",
      "metadata": {
        "colab": {
          "base_uri": "https://localhost:8080/"
        },
        "id": "1-HcRRhhtKs9",
        "outputId": "1c0ba6e8-b1b0-452b-e2e1-f4fc204763da"
      },
      "source": [
        "df_pista['ocorrencia_saida_pista'].std()"
      ],
      "execution_count": null,
      "outputs": [
        {
          "output_type": "execute_result",
          "data": {
            "text/plain": [
              "3058.9439354130045"
            ]
          },
          "metadata": {},
          "execution_count": 65
        }
      ]
    },
    {
      "cell_type": "code",
      "metadata": {
        "id": "b9OTRYt-u704"
      },
      "source": [
        ""
      ],
      "execution_count": null,
      "outputs": []
    },
    {
      "cell_type": "markdown",
      "metadata": {
        "id": "F7xT3uZH7f3p"
      },
      "source": [
        "Como e quando ocorreram as ocorrências "
      ]
    },
    {
      "cell_type": "code",
      "metadata": {
        "id": "NafBsivUqUZd"
      },
      "source": [
        ""
      ],
      "execution_count": null,
      "outputs": []
    },
    {
      "cell_type": "code",
      "metadata": {
        "colab": {
          "base_uri": "https://localhost:8080/",
          "height": 967
        },
        "id": "oHw3W8SX7mnK",
        "outputId": "17d861af-995b-4a4b-9496-e7081d96a29a"
      },
      "source": [
        "import pandas as pd\n",
        "\n",
        "df_filtradorr = pd.read_csv('/content/date.csv', sep=';')\n",
        "\n",
        "\n",
        "\n",
        "ax = df_filtradorr.groupby(['aeronave_fase_operacao']).aeronave_fabricante.count().sort_values().plot(kind='barh',\n",
        "figsize=(15,17),width=0.7, ylabel='OCORRÊNCIAS', xlabel='FASE DO VOO EM QUE AS OCORRÊNCIAS ACONTECERAM', color='darkgreen', edgecolor = 'black', fontsize=12)\n",
        "\n",
        "\n",
        "for p in ax.patches:\n",
        "    b=p.get_bbox()\n",
        "    ax.annotate(\"{:.0f}\".format(b.x1 + b.x0), (p.get_x() + p.get_width() + 2, p.get_y() + 0.24), fontsize=14, color='black')\n",
        "\n",
        "plt.show()"
      ],
      "execution_count": null,
      "outputs": [
        {
          "output_type": "display_data",
          "data": {
            "image/png": "[encoded data removed]",
            "text/plain": [
              "<Figure size 1080x1224 with 1 Axes>"
            ]
          },
          "metadata": {
            "needs_background": "light"
          }
        }
      ]
    },
    {
      "cell_type": "markdown",
      "metadata": {
        "id": "3nb7CzV46QNf"
      },
      "source": [
        "De acordo com o gráfico acima percebe-se que as fases mais perigosas de um voo e no momento do pouso e da decolagem. Muitos acidentes e incidentes já ocorreram nessas duas fases, e nas fases de pouso e decolagem que o piloto executa mais procedimentos e delega maior atenção.\n",
        "A fase de CRUZEIRO e a terceira fase em que mais ocorrências acontecem, a fase de cruzeiro acontece quando a aeronave alcança a altitude e velocidade de cruzeiro, essa altitude e velocidade passam ser constantes até que o voo seja finalizado.\n",
        "Nessa fase, a aeronave está em alta velocidade e em uma elevada altitude qualquer dano, por menor que seja, pode fazer com que o avião perca sustentação e tenha problemas.\n",
        "Uma colisão com outra aeronave foi uma das causas que derrubaram o VOO 1907 da GOL em 2006. A aeronave estava em altitude e velocidade de cruzeiro no momento em que sofreu o impacto.\n"
      ]
    },
    {
      "cell_type": "code",
      "metadata": {
        "id": "0484ZPsy6TCV",
        "colab": {
          "base_uri": "https://localhost:8080/",
          "height": 206
        },
        "outputId": "b3158fe5-193a-40f4-ce35-cd66af8a9252"
      },
      "source": [
        "df_operacao = pd.read_csv('/aeronave_fase_operacao.csv', sep=';')\n",
        "df_operacao.head()"
      ],
      "execution_count": null,
      "outputs": [
        {
          "output_type": "execute_result",
          "data": {
            "text/html": [
              "<div>\n",
              "<style scoped>\n",
              "    .dataframe tbody tr th:only-of-type {\n",
              "        vertical-align: middle;\n",
              "    }\n",
              "\n",
              "    .dataframe tbody tr th {\n",
              "        vertical-align: top;\n",
              "    }\n",
              "\n",
              "    .dataframe thead th {\n",
              "        text-align: right;\n",
              "    }\n",
              "</style>\n",
              "<table border=\"1\" class=\"dataframe\">\n",
              "  <thead>\n",
              "    <tr style=\"text-align: right;\">\n",
              "      <th></th>\n",
              "      <th>aeronave_fase_operacao</th>\n",
              "      <th>Unnamed: 1</th>\n",
              "    </tr>\n",
              "  </thead>\n",
              "  <tbody>\n",
              "    <tr>\n",
              "      <th>0</th>\n",
              "      <td>910</td>\n",
              "      <td>nan</td>\n",
              "    </tr>\n",
              "    <tr>\n",
              "      <th>1</th>\n",
              "      <td>852</td>\n",
              "      <td>nan</td>\n",
              "    </tr>\n",
              "    <tr>\n",
              "      <th>2</th>\n",
              "      <td>744</td>\n",
              "      <td>nan</td>\n",
              "    </tr>\n",
              "    <tr>\n",
              "      <th>3</th>\n",
              "      <td>560</td>\n",
              "      <td>nan</td>\n",
              "    </tr>\n",
              "    <tr>\n",
              "      <th>4</th>\n",
              "      <td>402</td>\n",
              "      <td>nan</td>\n",
              "    </tr>\n",
              "  </tbody>\n",
              "</table>\n",
              "</div>"
            ],
            "text/plain": [
              "   aeronave_fase_operacao  Unnamed: 1\n",
              "0                     910         nan\n",
              "1                     852         nan\n",
              "2                     744         nan\n",
              "3                     560         nan\n",
              "4                     402         nan"
            ]
          },
          "metadata": {},
          "execution_count": 67
        }
      ]
    },
    {
      "cell_type": "markdown",
      "metadata": {
        "id": "kfCS5gJZ20Ad"
      },
      "source": [
        "Média da coluna aeronave_fase_operacao"
      ]
    },
    {
      "cell_type": "code",
      "metadata": {
        "colab": {
          "base_uri": "https://localhost:8080/"
        },
        "id": "r4RxUBwt1fGr",
        "outputId": "6e1017c1-a674-4d3f-cd65-a1945780db33"
      },
      "source": [
        "df_operacao['aeronave_fase_operacao'].mean()"
      ],
      "execution_count": null,
      "outputs": [
        {
          "output_type": "execute_result",
          "data": {
            "text/plain": [
              "167.74193548387098"
            ]
          },
          "metadata": {},
          "execution_count": 70
        }
      ]
    },
    {
      "cell_type": "markdown",
      "metadata": {
        "id": "3Ws2CKep2_Z7"
      },
      "source": [
        "Mediana da coluna aeronave_fase_operacao"
      ]
    },
    {
      "cell_type": "code",
      "metadata": {
        "colab": {
          "base_uri": "https://localhost:8080/"
        },
        "id": "THbHZtbJ1fYt",
        "outputId": "7864f96e-a084-40b2-f7e0-6fc08e624cac"
      },
      "source": [
        "df_operacao['aeronave_fase_operacao'].median()"
      ],
      "execution_count": null,
      "outputs": [
        {
          "output_type": "execute_result",
          "data": {
            "text/plain": [
              "31.0"
            ]
          },
          "metadata": {},
          "execution_count": 71
        }
      ]
    },
    {
      "cell_type": "markdown",
      "metadata": {
        "id": "Akyfrpnu3PAh"
      },
      "source": [
        "Moda da coluna aeronave_fase_operacao"
      ]
    },
    {
      "cell_type": "code",
      "metadata": {
        "colab": {
          "base_uri": "https://localhost:8080/"
        },
        "id": "I-IVfeFL1fbu",
        "outputId": "a9515ada-6693-4cb7-898e-9e5137d154c3"
      },
      "source": [
        "df_operacao['aeronave_fase_operacao'].mode()"
      ],
      "execution_count": null,
      "outputs": [
        {
          "output_type": "execute_result",
          "data": {
            "text/plain": [
              "0     1\n",
              "1     8\n",
              "2    11\n",
              "dtype: int64"
            ]
          },
          "metadata": {},
          "execution_count": 72
        }
      ]
    },
    {
      "cell_type": "markdown",
      "metadata": {
        "id": "dzFIhdA53sF7"
      },
      "source": [
        "Desvio Padrão da coluna aeronave_fase_operacao"
      ]
    },
    {
      "cell_type": "code",
      "metadata": {
        "colab": {
          "base_uri": "https://localhost:8080/"
        },
        "id": "kp66fKlN2bsh",
        "outputId": "48042c62-feb5-420f-c0ce-dcacd4563e6c"
      },
      "source": [
        "df_operacao['aeronave_fase_operacao'].std()"
      ],
      "execution_count": null,
      "outputs": [
        {
          "output_type": "execute_result",
          "data": {
            "text/plain": [
              "260.0746005465785"
            ]
          },
          "metadata": {},
          "execution_count": 73
        }
      ]
    },
    {
      "cell_type": "code",
      "metadata": {
        "id": "3DNckbm61frD"
      },
      "source": [
        ""
      ],
      "execution_count": null,
      "outputs": []
    },
    {
      "cell_type": "markdown",
      "metadata": {
        "id": "y-sOttkt8i2o"
      },
      "source": [
        "As 10 cidades com mais ocorrências "
      ]
    },
    {
      "cell_type": "code",
      "metadata": {
        "colab": {
          "base_uri": "https://localhost:8080/",
          "height": 502
        },
        "id": "jR3-z7KO8iQ3",
        "outputId": "507976a3-a432-4668-ebd4-c8950c66c546"
      },
      "source": [
        "import pandas as pd\n",
        "\n",
        "\n",
        "\n",
        "df_filtradorr = pd.read_csv('/content/date.csv', sep=';')\n",
        "\n",
        "\n",
        "\n",
        "ax = df_filtradorr.groupby(['cidade']).aeronave_fabricante.count().sort_values()[-10:].plot(kind='barh',\n",
        "figsize=(12,8), title='CIDADES BRASILEIRAS COM MAIORES OCORRÊNCIAS' ,  edgecolor = 'black', ylabel='Acidentes', grid=False, xlabel='CIDADES', color='red', fontsize=12)\n",
        "\n",
        "for p in ax.patches:\n",
        "    b=p.get_bbox()\n",
        "    ax.annotate(\"{:.0f}\".format(b.x1 + b.x0), (p.get_x() + p.get_width() + 2, p.get_y() + 0.24), fontsize=14, color='black')\n",
        "plt.show()"
      ],
      "execution_count": null,
      "outputs": [
        {
          "output_type": "display_data",
          "data": {
            "image/png": "[encoded data removed]",
            "text/plain": [
              "<Figure size 864x576 with 1 Axes>"
            ]
          },
          "metadata": {
            "needs_background": "light"
          }
        }
      ]
    },
    {
      "cell_type": "markdown",
      "metadata": {
        "id": "ov_iVlV4slKp"
      },
      "source": [
        "No período de 2010 a 2019 a cidade do Rio de Janeiro registrou 293 ocorrências, o que a coloca como a cidade que mais registrou ocorrências nesse período.\n",
        "A cidade do Rio de janeiro atualmente conta com dois grandes aeroportos, são eles:\n",
        " O Aeroporto Internacional Tom Jobim também conhecido como o Aeroporto do Galeão e o Aeroporto Santos Dumont que recebe voos domésticos, esses dois aeroportos estão entre os mais movimentados do brasil.\n",
        " \n",
        "O aeroporto de Londrina é o sétimo que mais registrou ocorrências, ficando à frente de aeroportos com maior movimentação como o aeroporto de Viracopos, então, percebe-se que por mais movimentado que seja o aeroporto ele não necessariamente terá mais ocorrências, mesmo porque o aeroporto de Viracopos e de porte internacional, ou seja, é um aeroporto que denota ter uma infraestrutura melhor, além de necessitar de maior investimento e qualidade.\n"
      ]
    },
    {
      "cell_type": "code",
      "metadata": {
        "id": "1PJeduAcssoh",
        "colab": {
          "base_uri": "https://localhost:8080/",
          "height": 206
        },
        "outputId": "144945ff-fc15-471c-d91f-5f58da0dc1cf"
      },
      "source": [
        "df_cidade = pd.read_csv('/content/cidade.csv', sep=';')\n",
        "df_cidade.head()"
      ],
      "execution_count": null,
      "outputs": [
        {
          "output_type": "execute_result",
          "data": {
            "text/html": [
              "<div>\n",
              "<style scoped>\n",
              "    .dataframe tbody tr th:only-of-type {\n",
              "        vertical-align: middle;\n",
              "    }\n",
              "\n",
              "    .dataframe tbody tr th {\n",
              "        vertical-align: top;\n",
              "    }\n",
              "\n",
              "    .dataframe thead th {\n",
              "        text-align: right;\n",
              "    }\n",
              "</style>\n",
              "<table border=\"1\" class=\"dataframe\">\n",
              "  <thead>\n",
              "    <tr style=\"text-align: right;\">\n",
              "      <th></th>\n",
              "      <th>cidade</th>\n",
              "      <th>Unnamed: 1</th>\n",
              "    </tr>\n",
              "  </thead>\n",
              "  <tbody>\n",
              "    <tr>\n",
              "      <th>0</th>\n",
              "      <td>293</td>\n",
              "      <td>nan</td>\n",
              "    </tr>\n",
              "    <tr>\n",
              "      <th>1</th>\n",
              "      <td>252</td>\n",
              "      <td>nan</td>\n",
              "    </tr>\n",
              "    <tr>\n",
              "      <th>2</th>\n",
              "      <td>174</td>\n",
              "      <td>nan</td>\n",
              "    </tr>\n",
              "    <tr>\n",
              "      <th>3</th>\n",
              "      <td>141</td>\n",
              "      <td>nan</td>\n",
              "    </tr>\n",
              "    <tr>\n",
              "      <th>4</th>\n",
              "      <td>132</td>\n",
              "      <td>nan</td>\n",
              "    </tr>\n",
              "  </tbody>\n",
              "</table>\n",
              "</div>"
            ],
            "text/plain": [
              "   cidade  Unnamed: 1\n",
              "0     293         nan\n",
              "1     252         nan\n",
              "2     174         nan\n",
              "3     141         nan\n",
              "4     132         nan"
            ]
          },
          "metadata": {},
          "execution_count": 77
        }
      ]
    },
    {
      "cell_type": "markdown",
      "metadata": {
        "id": "nbKBEB0Gbhcs"
      },
      "source": [
        "Média das 10 cidades com mais ocorrências"
      ]
    },
    {
      "cell_type": "code",
      "metadata": {
        "colab": {
          "base_uri": "https://localhost:8080/"
        },
        "id": "xHArRUS7VCTn",
        "outputId": "523f4223-e640-49a1-f8e7-297f6cd2796b"
      },
      "source": [
        "df_cidade['cidade'].mean()"
      ],
      "execution_count": null,
      "outputs": [
        {
          "output_type": "execute_result",
          "data": {
            "text/plain": [
              "155.9"
            ]
          },
          "metadata": {},
          "execution_count": 79
        }
      ]
    },
    {
      "cell_type": "markdown",
      "metadata": {
        "id": "D_2fvUINcLSZ"
      },
      "source": [
        "Mediana das 10 cidades com mais ocorrências"
      ]
    },
    {
      "cell_type": "code",
      "metadata": {
        "colab": {
          "base_uri": "https://localhost:8080/"
        },
        "id": "cGQQIRFIbCaD",
        "outputId": "94fe60cd-088a-44b0-9966-fb5c747c46e3"
      },
      "source": [
        "df_cidade['cidade'].median()"
      ],
      "execution_count": null,
      "outputs": [
        {
          "output_type": "execute_result",
          "data": {
            "text/plain": [
              "130.5"
            ]
          },
          "metadata": {},
          "execution_count": 80
        }
      ]
    },
    {
      "cell_type": "markdown",
      "metadata": {
        "id": "JjGaHCDrcQtL"
      },
      "source": [
        "Moda das 10 cidades com mais ocorrências"
      ]
    },
    {
      "cell_type": "code",
      "metadata": {
        "colab": {
          "base_uri": "https://localhost:8080/"
        },
        "id": "dY7tBDx6bCda",
        "outputId": "65fa92c6-13b7-4fee-bac3-c32ffc6bb6e5"
      },
      "source": [
        "df_cidade['cidade'].mode()"
      ],
      "execution_count": null,
      "outputs": [
        {
          "output_type": "execute_result",
          "data": {
            "text/plain": [
              "0     94\n",
              "1     95\n",
              "2    123\n",
              "3    126\n",
              "4    129\n",
              "5    132\n",
              "6    141\n",
              "7    174\n",
              "8    252\n",
              "9    293\n",
              "dtype: int64"
            ]
          },
          "metadata": {},
          "execution_count": 81
        }
      ]
    },
    {
      "cell_type": "markdown",
      "metadata": {
        "id": "Kybcxr3_cYu7"
      },
      "source": [
        "Desvio Padrão das 10 cidades com mais ocorrências"
      ]
    },
    {
      "cell_type": "code",
      "metadata": {
        "colab": {
          "base_uri": "https://localhost:8080/"
        },
        "id": "VZsU3U5ZbaLZ",
        "outputId": "efa349dd-b75d-440a-edc7-24af9263d105"
      },
      "source": [
        "df_cidade['cidade'].std()"
      ],
      "execution_count": null,
      "outputs": [
        {
          "output_type": "execute_result",
          "data": {
            "text/plain": [
              "66.15881565512558"
            ]
          },
          "metadata": {},
          "execution_count": 82
        }
      ]
    },
    {
      "cell_type": "code",
      "metadata": {
        "id": "7TBR6gqRbED0"
      },
      "source": [
        ""
      ],
      "execution_count": null,
      "outputs": []
    },
    {
      "cell_type": "markdown",
      "metadata": {
        "id": "lq9IMApsz9yV"
      },
      "source": [
        "País de origem das aeronaves "
      ]
    },
    {
      "cell_type": "code",
      "metadata": {
        "colab": {
          "base_uri": "https://localhost:8080/",
          "height": 542
        },
        "id": "-8wrQpyAHy1Z",
        "outputId": "865ba55e-7c8b-4fec-a5b3-ed2b0e7992d5"
      },
      "source": [
        "total_marca = df_filtrador['aeronave_pais_fabricante'].value_counts()\n",
        "fig = px.bar(total_marca, x=total_marca.index, y=total_marca.values)\n",
        "\n",
        "fig = px.bar(total_marca, x=total_marca.index, y=total_marca.values, title= 'País de origem das aeronaves',\n",
        "text=total_marca.values)\n",
        "\n",
        "fig.show()\n"
      ],
      "execution_count": null,
      "outputs": [
        {
          "output_type": "display_data",
          "data": {
            "text/html": [
              "<html>\n",
              "<head><meta charset=\"utf-8\" /></head>\n",
              "<body>\n",
              "    <div>\n",
              "            <script src=\"https://cdnjs.cloudflare.com/ajax/libs/mathjax/2.7.5/MathJax.js?config=TeX-AMS-MML_SVG\"></script><script type=\"text/javascript\">if (window.MathJax) {MathJax.Hub.Config({SVG: {font: \"STIX-Web\"}});}</script>\n",
              "                <script type=\"text/javascript\">window.PlotlyConfig = {MathJaxConfig: 'local'};</script>\n",
              "        <script src=\"https://cdn.plot.ly/plotly-latest.min.js\"></script>    \n",
              "            <div id=\"ab098ebf-a1a8-4b67-ad2b-a5d5e6e23e18\" class=\"plotly-graph-div\" style=\"height:525px; width:100%;\"></div>\n",
              "            <script type=\"text/javascript\">\n",
              "                \n",
              "                    window.PLOTLYENV=window.PLOTLYENV || {};\n",
              "                    \n",
              "                if (document.getElementById(\"ab098ebf-a1a8-4b67-ad2b-a5d5e6e23e18\")) {\n",
              "                    Plotly.newPlot(\n",
              "                        'ab098ebf-a1a8-4b67-ad2b-a5d5e6e23e18',\n",
              "                        [{\"alignmentgroup\": \"True\", \"hoverlabel\": {\"namelength\": 0}, \"hovertemplate\": \"x=%{x}<br>y=%{y}<br>text=%{text}\", \"legendgroup\": \"\", \"marker\": {\"color\": \"#636efa\"}, \"name\": \"\", \"offsetgroup\": \"\", \"orientation\": \"v\", \"showlegend\": false, \"text\": [5139.0, 49.0, 11.0, 8.0, 5.0, 5.0, 4.0, 3.0, 3.0, 2.0, 2.0, 2.0, 2.0, 1.0, 1.0, 1.0, 1.0, 1.0, 1.0, 1.0], \"textposition\": \"auto\", \"type\": \"bar\", \"x\": [\"BRASIL\", \"ESTADOS UNIDOS\", \"N\\u00c3O IDENTIFICADO\", \"PARAGUAI\", \"CHILE\", \"PORTUGAL\", \"BOL\\u00cdVIA\", \"ESPANHA\", \"ALEMANHA\", \"COL\\u00d4MBIA\", \"ARGENTINA\", \"PANAM\\u00c1\", \"FRAN\\u00c7A\", \"\\u00c1FRICA DO SUL\", \"IT\\u00c1LIA\", \"SUI\\u00c7A\", \"POL\\u00d4NIA\", \"VENEZUELA\", \"CINGAPURA\", \"URUGUAI\"], \"xaxis\": \"x\", \"y\": [5139, 49, 11, 8, 5, 5, 4, 3, 3, 2, 2, 2, 2, 1, 1, 1, 1, 1, 1, 1], \"yaxis\": \"y\"}],\n",
              "                        {\"barmode\": \"relative\", \"legend\": {\"tracegroupgap\": 0}, \"template\": {\"data\": {\"bar\": [{\"error_x\": {\"color\": \"#2a3f5f\"}, \"error_y\": {\"color\": \"#2a3f5f\"}, \"marker\": {\"line\": {\"color\": \"#E5ECF6\", \"width\": 0.5}}, \"type\": \"bar\"}], \"barpolar\": [{\"marker\": {\"line\": {\"color\": \"#E5ECF6\", \"width\": 0.5}}, \"type\": \"barpolar\"}], \"carpet\": [{\"aaxis\": {\"endlinecolor\": \"#2a3f5f\", \"gridcolor\": \"white\", \"linecolor\": \"white\", \"minorgridcolor\": \"white\", \"startlinecolor\": \"#2a3f5f\"}, \"baxis\": {\"endlinecolor\": \"#2a3f5f\", \"gridcolor\": \"white\", \"linecolor\": \"white\", \"minorgridcolor\": \"white\", \"startlinecolor\": \"#2a3f5f\"}, \"type\": \"carpet\"}], \"choropleth\": [{\"colorbar\": {\"outlinewidth\": 0, \"ticks\": \"\"}, \"type\": \"choropleth\"}], \"contour\": [{\"colorbar\": {\"outlinewidth\": 0, \"ticks\": \"\"}, \"colorscale\": [[0.0, \"#0d0887\"], [0.1111111111111111, \"#46039f\"], [0.2222222222222222, \"#7201a8\"], [0.3333333333333333, \"#9c179e\"], [0.4444444444444444, \"#bd3786\"], [0.5555555555555556, \"#d8576b\"], [0.6666666666666666, \"#ed7953\"], [0.7777777777777778, \"#fb9f3a\"], [0.8888888888888888, \"#fdca26\"], [1.0, \"#f0f921\"]], \"type\": \"contour\"}], \"contourcarpet\": [{\"colorbar\": {\"outlinewidth\": 0, \"ticks\": \"\"}, \"type\": \"contourcarpet\"}], \"heatmap\": [{\"colorbar\": {\"outlinewidth\": 0, \"ticks\": \"\"}, \"colorscale\": [[0.0, \"#0d0887\"], [0.1111111111111111, \"#46039f\"], [0.2222222222222222, \"#7201a8\"], [0.3333333333333333, \"#9c179e\"], [0.4444444444444444, \"#bd3786\"], [0.5555555555555556, \"#d8576b\"], [0.6666666666666666, \"#ed7953\"], [0.7777777777777778, \"#fb9f3a\"], [0.8888888888888888, \"#fdca26\"], [1.0, \"#f0f921\"]], \"type\": \"heatmap\"}], \"heatmapgl\": [{\"colorbar\": {\"outlinewidth\": 0, \"ticks\": \"\"}, \"colorscale\": [[0.0, \"#0d0887\"], [0.1111111111111111, \"#46039f\"], [0.2222222222222222, \"#7201a8\"], [0.3333333333333333, \"#9c179e\"], [0.4444444444444444, \"#bd3786\"], [0.5555555555555556, \"#d8576b\"], [0.6666666666666666, \"#ed7953\"], [0.7777777777777778, \"#fb9f3a\"], [0.8888888888888888, \"#fdca26\"], [1.0, \"#f0f921\"]], \"type\": \"heatmapgl\"}], \"histogram\": [{\"marker\": {\"colorbar\": {\"outlinewidth\": 0, \"ticks\": \"\"}}, \"type\": \"histogram\"}], \"histogram2d\": [{\"colorbar\": {\"outlinewidth\": 0, \"ticks\": \"\"}, \"colorscale\": [[0.0, \"#0d0887\"], [0.1111111111111111, \"#46039f\"], [0.2222222222222222, \"#7201a8\"], [0.3333333333333333, \"#9c179e\"], [0.4444444444444444, \"#bd3786\"], [0.5555555555555556, \"#d8576b\"], [0.6666666666666666, \"#ed7953\"], [0.7777777777777778, \"#fb9f3a\"], [0.8888888888888888, \"#fdca26\"], [1.0, \"#f0f921\"]], \"type\": \"histogram2d\"}], \"histogram2dcontour\": [{\"colorbar\": {\"outlinewidth\": 0, \"ticks\": \"\"}, \"colorscale\": [[0.0, \"#0d0887\"], [0.1111111111111111, \"#46039f\"], [0.2222222222222222, \"#7201a8\"], [0.3333333333333333, \"#9c179e\"], [0.4444444444444444, \"#bd3786\"], [0.5555555555555556, \"#d8576b\"], [0.6666666666666666, \"#ed7953\"], [0.7777777777777778, \"#fb9f3a\"], [0.8888888888888888, \"#fdca26\"], [1.0, \"#f0f921\"]], \"type\": \"histogram2dcontour\"}], \"mesh3d\": [{\"colorbar\": {\"outlinewidth\": 0, \"ticks\": \"\"}, \"type\": \"mesh3d\"}], \"parcoords\": [{\"line\": {\"colorbar\": {\"outlinewidth\": 0, \"ticks\": \"\"}}, \"type\": \"parcoords\"}], \"pie\": [{\"automargin\": true, \"type\": \"pie\"}], \"scatter\": [{\"marker\": {\"colorbar\": {\"outlinewidth\": 0, \"ticks\": \"\"}}, \"type\": \"scatter\"}], \"scatter3d\": [{\"line\": {\"colorbar\": {\"outlinewidth\": 0, \"ticks\": \"\"}}, \"marker\": {\"colorbar\": {\"outlinewidth\": 0, \"ticks\": \"\"}}, \"type\": \"scatter3d\"}], \"scattercarpet\": [{\"marker\": {\"colorbar\": {\"outlinewidth\": 0, \"ticks\": \"\"}}, \"type\": \"scattercarpet\"}], \"scattergeo\": [{\"marker\": {\"colorbar\": {\"outlinewidth\": 0, \"ticks\": \"\"}}, \"type\": \"scattergeo\"}], \"scattergl\": [{\"marker\": {\"colorbar\": {\"outlinewidth\": 0, \"ticks\": \"\"}}, \"type\": \"scattergl\"}], \"scattermapbox\": [{\"marker\": {\"colorbar\": {\"outlinewidth\": 0, \"ticks\": \"\"}}, \"type\": \"scattermapbox\"}], \"scatterpolar\": [{\"marker\": {\"colorbar\": {\"outlinewidth\": 0, \"ticks\": \"\"}}, \"type\": \"scatterpolar\"}], \"scatterpolargl\": [{\"marker\": {\"colorbar\": {\"outlinewidth\": 0, \"ticks\": \"\"}}, \"type\": \"scatterpolargl\"}], \"scatterternary\": [{\"marker\": {\"colorbar\": {\"outlinewidth\": 0, \"ticks\": \"\"}}, \"type\": \"scatterternary\"}], \"surface\": [{\"colorbar\": {\"outlinewidth\": 0, \"ticks\": \"\"}, \"colorscale\": [[0.0, \"#0d0887\"], [0.1111111111111111, \"#46039f\"], [0.2222222222222222, \"#7201a8\"], [0.3333333333333333, \"#9c179e\"], [0.4444444444444444, \"#bd3786\"], [0.5555555555555556, \"#d8576b\"], [0.6666666666666666, \"#ed7953\"], [0.7777777777777778, \"#fb9f3a\"], [0.8888888888888888, \"#fdca26\"], [1.0, \"#f0f921\"]], \"type\": \"surface\"}], \"table\": [{\"cells\": {\"fill\": {\"color\": \"#EBF0F8\"}, \"line\": {\"color\": \"white\"}}, \"header\": {\"fill\": {\"color\": \"#C8D4E3\"}, \"line\": {\"color\": \"white\"}}, \"type\": \"table\"}]}, \"layout\": {\"annotationdefaults\": {\"arrowcolor\": \"#2a3f5f\", \"arrowhead\": 0, \"arrowwidth\": 1}, \"coloraxis\": {\"colorbar\": {\"outlinewidth\": 0, \"ticks\": \"\"}}, \"colorscale\": {\"diverging\": [[0, \"#8e0152\"], [0.1, \"#c51b7d\"], [0.2, \"#de77ae\"], [0.3, \"#f1b6da\"], [0.4, \"#fde0ef\"], [0.5, \"#f7f7f7\"], [0.6, \"#e6f5d0\"], [0.7, \"#b8e186\"], [0.8, \"#7fbc41\"], [0.9, \"#4d9221\"], [1, \"#276419\"]], \"sequential\": [[0.0, \"#0d0887\"], [0.1111111111111111, \"#46039f\"], [0.2222222222222222, \"#7201a8\"], [0.3333333333333333, \"#9c179e\"], [0.4444444444444444, \"#bd3786\"], [0.5555555555555556, \"#d8576b\"], [0.6666666666666666, \"#ed7953\"], [0.7777777777777778, \"#fb9f3a\"], [0.8888888888888888, \"#fdca26\"], [1.0, \"#f0f921\"]], \"sequentialminus\": [[0.0, \"#0d0887\"], [0.1111111111111111, \"#46039f\"], [0.2222222222222222, \"#7201a8\"], [0.3333333333333333, \"#9c179e\"], [0.4444444444444444, \"#bd3786\"], [0.5555555555555556, \"#d8576b\"], [0.6666666666666666, \"#ed7953\"], [0.7777777777777778, \"#fb9f3a\"], [0.8888888888888888, \"#fdca26\"], [1.0, \"#f0f921\"]]}, \"colorway\": [\"#636efa\", \"#EF553B\", \"#00cc96\", \"#ab63fa\", \"#FFA15A\", \"#19d3f3\", \"#FF6692\", \"#B6E880\", \"#FF97FF\", \"#FECB52\"], \"font\": {\"color\": \"#2a3f5f\"}, \"geo\": {\"bgcolor\": \"white\", \"lakecolor\": \"white\", \"landcolor\": \"#E5ECF6\", \"showlakes\": true, \"showland\": true, \"subunitcolor\": \"white\"}, \"hoverlabel\": {\"align\": \"left\"}, \"hovermode\": \"closest\", \"mapbox\": {\"style\": \"light\"}, \"paper_bgcolor\": \"white\", \"plot_bgcolor\": \"#E5ECF6\", \"polar\": {\"angularaxis\": {\"gridcolor\": \"white\", \"linecolor\": \"white\", \"ticks\": \"\"}, \"bgcolor\": \"#E5ECF6\", \"radialaxis\": {\"gridcolor\": \"white\", \"linecolor\": \"white\", \"ticks\": \"\"}}, \"scene\": {\"xaxis\": {\"backgroundcolor\": \"#E5ECF6\", \"gridcolor\": \"white\", \"gridwidth\": 2, \"linecolor\": \"white\", \"showbackground\": true, \"ticks\": \"\", \"zerolinecolor\": \"white\"}, \"yaxis\": {\"backgroundcolor\": \"#E5ECF6\", \"gridcolor\": \"white\", \"gridwidth\": 2, \"linecolor\": \"white\", \"showbackground\": true, \"ticks\": \"\", \"zerolinecolor\": \"white\"}, \"zaxis\": {\"backgroundcolor\": \"#E5ECF6\", \"gridcolor\": \"white\", \"gridwidth\": 2, \"linecolor\": \"white\", \"showbackground\": true, \"ticks\": \"\", \"zerolinecolor\": \"white\"}}, \"shapedefaults\": {\"line\": {\"color\": \"#2a3f5f\"}}, \"ternary\": {\"aaxis\": {\"gridcolor\": \"white\", \"linecolor\": \"white\", \"ticks\": \"\"}, \"baxis\": {\"gridcolor\": \"white\", \"linecolor\": \"white\", \"ticks\": \"\"}, \"bgcolor\": \"#E5ECF6\", \"caxis\": {\"gridcolor\": \"white\", \"linecolor\": \"white\", \"ticks\": \"\"}}, \"title\": {\"x\": 0.05}, \"xaxis\": {\"automargin\": true, \"gridcolor\": \"white\", \"linecolor\": \"white\", \"ticks\": \"\", \"title\": {\"standoff\": 15}, \"zerolinecolor\": \"white\", \"zerolinewidth\": 2}, \"yaxis\": {\"automargin\": true, \"gridcolor\": \"white\", \"linecolor\": \"white\", \"ticks\": \"\", \"title\": {\"standoff\": 15}, \"zerolinecolor\": \"white\", \"zerolinewidth\": 2}}}, \"title\": {\"text\": \"Pa\\u00eds de origem das aeronaves\"}, \"xaxis\": {\"anchor\": \"y\", \"domain\": [0.0, 1.0], \"title\": {\"text\": \"x\"}}, \"yaxis\": {\"anchor\": \"x\", \"domain\": [0.0, 1.0], \"title\": {\"text\": \"y\"}}},\n",
              "                        {\"responsive\": true}\n",
              "                    ).then(function(){\n",
              "                            \n",
              "var gd = document.getElementById('ab098ebf-a1a8-4b67-ad2b-a5d5e6e23e18');\n",
              "var x = new MutationObserver(function (mutations, observer) {{\n",
              "        var display = window.getComputedStyle(gd).display;\n",
              "        if (!display || display === 'none') {{\n",
              "            console.log([gd, 'removed!']);\n",
              "            Plotly.purge(gd);\n",
              "            observer.disconnect();\n",
              "        }}\n",
              "}});\n",
              "\n",
              "// Listen for the removal of the full notebook cells\n",
              "var notebookContainer = gd.closest('#notebook-container');\n",
              "if (notebookContainer) {{\n",
              "    x.observe(notebookContainer, {childList: true});\n",
              "}}\n",
              "\n",
              "// Listen for the clearing of the current output cell\n",
              "var outputEl = gd.closest('.output');\n",
              "if (outputEl) {{\n",
              "    x.observe(outputEl, {childList: true});\n",
              "}}\n",
              "\n",
              "                        })\n",
              "                };\n",
              "                \n",
              "            </script>\n",
              "        </div>\n",
              "</body>\n",
              "</html>"
            ]
          },
          "metadata": {}
        }
      ]
    },
    {
      "cell_type": "markdown",
      "metadata": {
        "id": "lhvD6A0mykBl"
      },
      "source": [
        "O Brasil é o país fabricante da maioria das aeronaves que sofreram acidentes, incidentes e incidentes graves.\n",
        "É importante salientar que muitas dessas aeronaves foram produzidas pela Embraer que é uma empresa brasileira, em seguida aparece os Estados Unidos que é o país fabricantes de pequenas aeronaves como Cessnas e Pipers até grandes aeronaves como os Boeings.\n"
      ]
    },
    {
      "cell_type": "code",
      "metadata": {
        "id": "lGPRK3LzypAP",
        "colab": {
          "base_uri": "https://localhost:8080/",
          "height": 206
        },
        "outputId": "747617fb-7cd0-41e4-d8fd-67a51f721ff0"
      },
      "source": [
        "df_fabricante = pd.read_csv('/content/aeronave_pais_fabricante.csv', sep=';')\n",
        "df_fabricante.head()\n",
        "\n",
        "\n"
      ],
      "execution_count": null,
      "outputs": [
        {
          "output_type": "execute_result",
          "data": {
            "text/html": [
              "<div>\n",
              "<style scoped>\n",
              "    .dataframe tbody tr th:only-of-type {\n",
              "        vertical-align: middle;\n",
              "    }\n",
              "\n",
              "    .dataframe tbody tr th {\n",
              "        vertical-align: top;\n",
              "    }\n",
              "\n",
              "    .dataframe thead th {\n",
              "        text-align: right;\n",
              "    }\n",
              "</style>\n",
              "<table border=\"1\" class=\"dataframe\">\n",
              "  <thead>\n",
              "    <tr style=\"text-align: right;\">\n",
              "      <th></th>\n",
              "      <th>aeronave_pais_fabricante</th>\n",
              "      <th>Unnamed: 1</th>\n",
              "    </tr>\n",
              "  </thead>\n",
              "  <tbody>\n",
              "    <tr>\n",
              "      <th>0</th>\n",
              "      <td>5139</td>\n",
              "      <td>nan</td>\n",
              "    </tr>\n",
              "    <tr>\n",
              "      <th>1</th>\n",
              "      <td>49</td>\n",
              "      <td>nan</td>\n",
              "    </tr>\n",
              "    <tr>\n",
              "      <th>2</th>\n",
              "      <td>11</td>\n",
              "      <td>nan</td>\n",
              "    </tr>\n",
              "    <tr>\n",
              "      <th>3</th>\n",
              "      <td>8</td>\n",
              "      <td>nan</td>\n",
              "    </tr>\n",
              "    <tr>\n",
              "      <th>4</th>\n",
              "      <td>5</td>\n",
              "      <td>nan</td>\n",
              "    </tr>\n",
              "  </tbody>\n",
              "</table>\n",
              "</div>"
            ],
            "text/plain": [
              "   aeronave_pais_fabricante  Unnamed: 1\n",
              "0                      5139         nan\n",
              "1                        49         nan\n",
              "2                        11         nan\n",
              "3                         8         nan\n",
              "4                         5         nan"
            ]
          },
          "metadata": {},
          "execution_count": 84
        }
      ]
    },
    {
      "cell_type": "markdown",
      "metadata": {
        "id": "PZleHVybg2_d"
      },
      "source": [
        "Média das ocorrência de paises de origem das aeronaves"
      ]
    },
    {
      "cell_type": "code",
      "metadata": {
        "colab": {
          "base_uri": "https://localhost:8080/"
        },
        "id": "WBVXWYK0gQ9d",
        "outputId": "a223ad17-bc64-4ee3-f9f3-c31cfd81b771"
      },
      "source": [
        "df_fabricante['aeronave_pais_fabricante'].mean()"
      ],
      "execution_count": null,
      "outputs": [
        {
          "output_type": "execute_result",
          "data": {
            "text/plain": [
              "262.1"
            ]
          },
          "metadata": {},
          "execution_count": 85
        }
      ]
    },
    {
      "cell_type": "markdown",
      "metadata": {
        "id": "YawgRV0XiVvi"
      },
      "source": [
        "Mediana das ocorrência de paises de origem das aeronaves"
      ]
    },
    {
      "cell_type": "code",
      "metadata": {
        "colab": {
          "base_uri": "https://localhost:8080/"
        },
        "id": "F4l_Mg-1gReY",
        "outputId": "8c385ef7-6ed2-48c7-fdb3-7e5eb7c34b22"
      },
      "source": [
        "df_fabricante['aeronave_pais_fabricante'].median()"
      ],
      "execution_count": null,
      "outputs": [
        {
          "output_type": "execute_result",
          "data": {
            "text/plain": [
              "2.0"
            ]
          },
          "metadata": {},
          "execution_count": 86
        }
      ]
    },
    {
      "cell_type": "markdown",
      "metadata": {
        "id": "be71W_7sidC3"
      },
      "source": [
        "Moda das ocorrência de paises de origem das aeronaves"
      ]
    },
    {
      "cell_type": "code",
      "metadata": {
        "colab": {
          "base_uri": "https://localhost:8080/"
        },
        "id": "pEWv0Z7AgRhp",
        "outputId": "d0e88ebe-869b-44d6-a33c-7977375d0ce4"
      },
      "source": [
        "df_fabricante['aeronave_pais_fabricante'].mode()"
      ],
      "execution_count": null,
      "outputs": [
        {
          "output_type": "execute_result",
          "data": {
            "text/plain": [
              "0    1\n",
              "dtype: int64"
            ]
          },
          "metadata": {},
          "execution_count": 88
        }
      ]
    },
    {
      "cell_type": "code",
      "metadata": {
        "id": "2Jdr16Qod5TW"
      },
      "source": [
        ""
      ],
      "execution_count": null,
      "outputs": []
    },
    {
      "cell_type": "markdown",
      "metadata": {
        "id": "h7K43WSylnBz"
      },
      "source": [
        "Os anos em que as aeronaves foram fabricadas"
      ]
    },
    {
      "cell_type": "code",
      "metadata": {
        "colab": {
          "base_uri": "https://localhost:8080/",
          "height": 736
        },
        "id": "mWPwyPwClmbb",
        "outputId": "07a210f4-462d-45eb-dbd5-6c0fccbe206a"
      },
      "source": [
        "import pandas as pd\n",
        "\n",
        "\n",
        "\n",
        "df_filtradorr = pd.read_csv('/content/date.csv', sep=';')\n",
        "\n",
        "\n",
        "\n",
        "ax = df_filtradorr.groupby(['aeronave_ano_fabricacao']).aeronave_fabricante.count().sort_values()[-20:].plot(kind='bar',\n",
        "figsize=(14,12), ylabel='OCORRÊNCIAS', xlabel='ANO DE FABRICAÇÃO DAS AERONAVES', color='silver',width=0.7,  edgecolor = 'black', fontsize=12, grid=False)\n",
        "\n",
        "for p in ax.patches:\n",
        "    b=p.get_bbox()\n",
        "    ax.annotate(\"{:.0f}\".format(b.y1 + b.y0), ((b.x0 + b.x1)/2 - 0.030, b.y1 + 3), va='baseline',ha='center',fontsize=14, color='black')\n",
        "plt.show()"
      ],
      "execution_count": null,
      "outputs": [
        {
          "output_type": "display_data",
          "data": {
            "image/png": "[encoded data removed]",
            "text/plain": [
              "<Figure size 1008x864 with 1 Axes>"
            ]
          },
          "metadata": {
            "needs_background": "light"
          }
        }
      ]
    },
    {
      "cell_type": "markdown",
      "metadata": {
        "id": "CMwHK-TXYJkt"
      },
      "source": [
        "As aeronaves que mais sofreram acidentes e incidentes são aquelas que não no documento e no sistema da ANAC não consta o ano de fabricação, estão como \" 0 \", muitas dessas aeronaves estão em situação irregular, ou seja, são aeronaves com problemas de infraestrutura e documentação, e por isso estão impedidas de voar. \n",
        " \n",
        "\n",
        "Aviões mais velhos são mais perigosos para voar, em comparação com os mais novos?\n",
        "\n",
        "Não, e os dados provam isso, aviões que foram fabricados em 2010 sofreram 108 acidentes e indentes a mais do que os aviões fabricados em 1974. Aeronaves mais velhas precisam de manutenções e inspeções minuciosas, entretanto, as mesmas podem ser modernizadas e peças e equipamentos restaurados, desde que tenha bom plano de manutenção definido, inspeção a cada voo e documentação em ordem, os aviões antigos podem voar normalmente.\n",
        " Aviões novos também estão sugeitos a problemas, um exemplo recente é a nova geração dos  Boeing 737 MAX, duas dessas aeronaves caíram em 2018 e 2019 matando 346 pessoas, as causas dos acidentes foram falhas no software de segurança das aeronaves.\n"
      ]
    },
    {
      "cell_type": "markdown",
      "metadata": {
        "id": "Es4jWK7jjZpl"
      },
      "source": [
        "Moda, média, mediana e desvio padrão dos anos de fabricação das aeronaves"
      ]
    },
    {
      "cell_type": "code",
      "metadata": {
        "id": "frPnvLbp-5Xq",
        "colab": {
          "base_uri": "https://localhost:8080/"
        },
        "outputId": "e90c7262-7a54-41f0-c3b3-a606084df0d9"
      },
      "source": [
        "df_filtrador['aeronave_ano_fabricacao'].describe()"
      ],
      "execution_count": null,
      "outputs": [
        {
          "output_type": "execute_result",
          "data": {
            "text/plain": [
              "count   5242.00000\n",
              "mean    1863.32087\n",
              "std      507.05148\n",
              "min        0.00000\n",
              "25%     1978.00000\n",
              "50%     1992.00000\n",
              "75%     2007.00000\n",
              "max     9999.00000\n",
              "Name: aeronave_ano_fabricacao, dtype: float64"
            ]
          },
          "metadata": {},
          "execution_count": 89
        }
      ]
    },
    {
      "cell_type": "code",
      "metadata": {
        "id": "p5kMMnobiwOy"
      },
      "source": [
        ""
      ],
      "execution_count": null,
      "outputs": []
    },
    {
      "cell_type": "markdown",
      "metadata": {
        "id": "fsbi9kLY-7TI"
      },
      "source": [
        "Quantidade de motores por aeronave"
      ]
    },
    {
      "cell_type": "code",
      "metadata": {
        "colab": {
          "base_uri": "https://localhost:8080/",
          "height": 426
        },
        "id": "DIcjgFx7_IMk",
        "outputId": "aef0dbd3-f9e8-44fa-ed2b-58ba5d5909e5"
      },
      "source": [
        "import pandas as pd\n",
        "\n",
        "\n",
        "\n",
        "df_filtradorr = pd.read_csv('/content/date.csv', sep=';')\n",
        "\n",
        "\n",
        "ax = df_filtradorr.groupby(['aeronave_motor_quantidade']).aeronave_fabricante.count().sort_values()[-20:].plot(kind='barh',\n",
        "figsize=(20,8), ylabel='Ocorrências', xlabel='ANO DE FABRICAÇÃO DAS AERONAVES', color='red', fontsize=12, grid=False)\n",
        "\n",
        "for p in ax.patches:\n",
        "    b=p.get_bbox()\n",
        "    ax.annotate(\"{:.0f}\".format(b.x1 + b.x0), (p.get_x() + p.get_width() + 10, p.get_y() + 0.24), fontsize=15, color='black')\n",
        "plt.show()"
      ],
      "execution_count": null,
      "outputs": [
        {
          "output_type": "display_data",
          "data": {
            "image/png": "[encoded data removed]",
            "text/plain": [
              "<Figure size 1440x576 with 1 Axes>"
            ]
          },
          "metadata": {
            "needs_background": "light"
          }
        }
      ]
    },
    {
      "cell_type": "markdown",
      "metadata": {
        "id": "Cx4HQ6w1Yckt"
      },
      "source": [
        "Aviões monomotores possuem apenas um motor e geralmente são modelos motorizados com pistão ou turboélice em alguns casos.\n",
        "De acordo com os dados aviões monomotores são mais suscetíveis a falhas, acidentes e incidentes e na maioria dos casos isso se deve ao fato dessas aeronaves terem apenas um motor, sendo que a principal causa de ocorrência segundo os dados é justamente panes e falhas nos motores.\n",
        "Aeronaves bimotores aparecem na segunda colocação em ocorrências, mas as aeronaves bimotoras possem dois motores e isso faz muita diferença, principalmente em modelos mais novos, onde é possível voar com apenas um motor.\n"
      ]
    },
    {
      "cell_type": "code",
      "metadata": {
        "colab": {
          "base_uri": "https://localhost:8080/",
          "height": 206
        },
        "id": "fb37P1Bwk5IJ",
        "outputId": "a247b914-56b0-491f-8258-18c113428399"
      },
      "source": [
        "df_motor = pd.read_csv('/content/aeronave_motor_quantidade.csv', sep=';')\n",
        "df_motor.head()"
      ],
      "execution_count": null,
      "outputs": [
        {
          "output_type": "execute_result",
          "data": {
            "text/html": [
              "<div>\n",
              "<style scoped>\n",
              "    .dataframe tbody tr th:only-of-type {\n",
              "        vertical-align: middle;\n",
              "    }\n",
              "\n",
              "    .dataframe tbody tr th {\n",
              "        vertical-align: top;\n",
              "    }\n",
              "\n",
              "    .dataframe thead th {\n",
              "        text-align: right;\n",
              "    }\n",
              "</style>\n",
              "<table border=\"1\" class=\"dataframe\">\n",
              "  <thead>\n",
              "    <tr style=\"text-align: right;\">\n",
              "      <th></th>\n",
              "      <th>aeronave_motor_quantidade</th>\n",
              "      <th>Unnamed: 1</th>\n",
              "    </tr>\n",
              "  </thead>\n",
              "  <tbody>\n",
              "    <tr>\n",
              "      <th>0</th>\n",
              "      <td>2648</td>\n",
              "      <td>nan</td>\n",
              "    </tr>\n",
              "    <tr>\n",
              "      <th>1</th>\n",
              "      <td>2365</td>\n",
              "      <td>nan</td>\n",
              "    </tr>\n",
              "    <tr>\n",
              "      <th>2</th>\n",
              "      <td>100</td>\n",
              "      <td>nan</td>\n",
              "    </tr>\n",
              "    <tr>\n",
              "      <th>3</th>\n",
              "      <td>69</td>\n",
              "      <td>nan</td>\n",
              "    </tr>\n",
              "    <tr>\n",
              "      <th>4</th>\n",
              "      <td>54</td>\n",
              "      <td>nan</td>\n",
              "    </tr>\n",
              "  </tbody>\n",
              "</table>\n",
              "</div>"
            ],
            "text/plain": [
              "   aeronave_motor_quantidade  Unnamed: 1\n",
              "0                       2648         nan\n",
              "1                       2365         nan\n",
              "2                        100         nan\n",
              "3                         69         nan\n",
              "4                         54         nan"
            ]
          },
          "metadata": {},
          "execution_count": 90
        }
      ]
    },
    {
      "cell_type": "markdown",
      "metadata": {
        "id": "qU0F_yEUlxEr"
      },
      "source": [
        "Média da quandidade de motores que as aeronaves que se envolveram acidentes e incidentes possuem."
      ]
    },
    {
      "cell_type": "code",
      "metadata": {
        "id": "9SLzjXdS_RRn",
        "colab": {
          "base_uri": "https://localhost:8080/"
        },
        "outputId": "64009059-1970-4d3c-9854-a4b929d34a30"
      },
      "source": [
        "df_motor['aeronave_motor_quantidade'].mean()"
      ],
      "execution_count": null,
      "outputs": [
        {
          "output_type": "execute_result",
          "data": {
            "text/plain": [
              "873.6666666666666"
            ]
          },
          "metadata": {},
          "execution_count": 91
        }
      ]
    },
    {
      "cell_type": "markdown",
      "metadata": {
        "id": "F9xhM-KDm3DA"
      },
      "source": [
        "Mediana da quandidade de motores que as aeronaves que se envolveram acidentes e incidentes possuem."
      ]
    },
    {
      "cell_type": "code",
      "metadata": {
        "colab": {
          "base_uri": "https://localhost:8080/"
        },
        "id": "ug0EsCzzlg91",
        "outputId": "2ae124b0-a23a-4b08-d7c3-47f23832dd88"
      },
      "source": [
        "df_motor['aeronave_motor_quantidade'].median()"
      ],
      "execution_count": null,
      "outputs": [
        {
          "output_type": "execute_result",
          "data": {
            "text/plain": [
              "84.5"
            ]
          },
          "metadata": {},
          "execution_count": 92
        }
      ]
    },
    {
      "cell_type": "markdown",
      "metadata": {
        "id": "qlGmREFFm9_7"
      },
      "source": [
        "Moda da quandidade de motores que as aeronaves que se envolveram acidentes e incidentes possuem."
      ]
    },
    {
      "cell_type": "code",
      "metadata": {
        "colab": {
          "base_uri": "https://localhost:8080/"
        },
        "id": "SepnbMg5lhMM",
        "outputId": "e20d7890-50b4-4c9f-f1cd-eb4184c8191a"
      },
      "source": [
        "df_motor['aeronave_motor_quantidade'].mode()"
      ],
      "execution_count": null,
      "outputs": [
        {
          "output_type": "execute_result",
          "data": {
            "text/plain": [
              "0       6\n",
              "1      54\n",
              "2      69\n",
              "3     100\n",
              "4    2365\n",
              "5    2648\n",
              "dtype: int64"
            ]
          },
          "metadata": {},
          "execution_count": 93
        }
      ]
    },
    {
      "cell_type": "code",
      "metadata": {
        "colab": {
          "base_uri": "https://localhost:8080/"
        },
        "id": "cKMUSZ99k6Hk",
        "outputId": "40c29d76-fa0e-4302-ff20-46368ca2bc78"
      },
      "source": [
        "df_motor['aeronave_motor_quantidade'].std()"
      ],
      "execution_count": null,
      "outputs": [
        {
          "output_type": "execute_result",
          "data": {
            "text/plain": [
              "1268.312369515754"
            ]
          },
          "metadata": {},
          "execution_count": 94
        }
      ]
    },
    {
      "cell_type": "code",
      "metadata": {
        "id": "q88RuPD9lp_y"
      },
      "source": [
        ""
      ],
      "execution_count": null,
      "outputs": []
    },
    {
      "cell_type": "markdown",
      "metadata": {
        "id": "T4A3z6L1YQPv"
      },
      "source": [
        "Quantas aeronaves foram liberadas?"
      ]
    },
    {
      "cell_type": "code",
      "metadata": {
        "colab": {
          "base_uri": "https://localhost:8080/",
          "height": 442
        },
        "id": "utdmIqCFYBcv",
        "outputId": "62b9ccd8-f588-4879-ef7a-0eb026fa3a7f"
      },
      "source": [
        "import pandas as pd\n",
        "\n",
        "df_filtradorr = pd.read_csv('/content/date.csv', sep=';')\n",
        "\n",
        "\n",
        "ax = df_filtradorr.groupby(['aeronave_liberada']).tipo.count().sort_values()[-5:].plot(figsize=(15,7), kind='bar', ylabel =  'OCORRÊNCIAS' , xlabel =  'AERONAVES LIBERADAS', color='grey',  edgecolor = 'blue')\n",
        "plt.xticks(rotation=0)\n",
        "\n",
        "for p in ax.patches:\n",
        "    b=p.get_bbox()\n",
        "    ax.annotate(\"{:.0f}\".format(b.y1 + b.y0), ((b.x0 + b.x1)/2 - 0.030, b.y1 + 30), va='baseline',ha='center',fontsize=14, color='black')"
      ],
      "execution_count": null,
      "outputs": [
        {
          "output_type": "display_data",
          "data": {
            "image/png": "[encoded data removed]",
            "text/plain": [
              "<Figure size 1080x504 with 1 Axes>"
            ]
          },
          "metadata": {
            "needs_background": "light"
          }
        }
      ]
    },
    {
      "cell_type": "markdown",
      "metadata": {
        "id": "Y-GfFHOIXKth"
      },
      "source": [
        "Como grande parte das ocorrências são incidentes comum e sem gravidade as aeronaves não sofrem grandes avarias e como esses danos são pequenos, podem ser concertados e reparados em pouco tempo, por isso que muitas aeronaves são liberadas. O status indeterminado denota que não é possível saber se a aeronave pode ou não ser liberada. O status NÃO ocorre quando uma aeronave não está liberada para levantar voo, seja por incidentes graves ou até mesmo acidentes, além de ter sofrido avarias e danos sérios em sua estrutura."
      ]
    },
    {
      "cell_type": "code",
      "metadata": {
        "id": "gSWCPk7WYDtB",
        "colab": {
          "base_uri": "https://localhost:8080/",
          "height": 143
        },
        "outputId": "02cf672a-fcf5-41f7-e323-4baf9f918341"
      },
      "source": [
        "df_liberadas = pd.read_csv('/content/aeronave_liberada.csv', sep=';')\n",
        "df_liberadas.head()"
      ],
      "execution_count": null,
      "outputs": [
        {
          "output_type": "execute_result",
          "data": {
            "text/html": [
              "<div>\n",
              "<style scoped>\n",
              "    .dataframe tbody tr th:only-of-type {\n",
              "        vertical-align: middle;\n",
              "    }\n",
              "\n",
              "    .dataframe tbody tr th {\n",
              "        vertical-align: top;\n",
              "    }\n",
              "\n",
              "    .dataframe thead th {\n",
              "        text-align: right;\n",
              "    }\n",
              "</style>\n",
              "<table border=\"1\" class=\"dataframe\">\n",
              "  <thead>\n",
              "    <tr style=\"text-align: right;\">\n",
              "      <th></th>\n",
              "      <th>aeronave_liberada</th>\n",
              "      <th>Unnamed: 1</th>\n",
              "    </tr>\n",
              "  </thead>\n",
              "  <tbody>\n",
              "    <tr>\n",
              "      <th>0</th>\n",
              "      <td>2687</td>\n",
              "      <td>nan</td>\n",
              "    </tr>\n",
              "    <tr>\n",
              "      <th>1</th>\n",
              "      <td>2419</td>\n",
              "      <td>nan</td>\n",
              "    </tr>\n",
              "    <tr>\n",
              "      <th>2</th>\n",
              "      <td>136</td>\n",
              "      <td>nan</td>\n",
              "    </tr>\n",
              "  </tbody>\n",
              "</table>\n",
              "</div>"
            ],
            "text/plain": [
              "   aeronave_liberada  Unnamed: 1\n",
              "0               2687         nan\n",
              "1               2419         nan\n",
              "2                136         nan"
            ]
          },
          "metadata": {},
          "execution_count": 95
        }
      ]
    },
    {
      "cell_type": "markdown",
      "metadata": {
        "id": "_DZHfYTsq-6X"
      },
      "source": [
        "Média das aeronaves que foram liberadas"
      ]
    },
    {
      "cell_type": "code",
      "metadata": {
        "colab": {
          "base_uri": "https://localhost:8080/"
        },
        "id": "4nEJdUglp4xL",
        "outputId": "fa6ed0c0-cf65-4f46-b7a2-1d114be3b6c9"
      },
      "source": [
        "\n",
        "df_liberadas['aeronave_liberada'].mean()"
      ],
      "execution_count": null,
      "outputs": [
        {
          "output_type": "execute_result",
          "data": {
            "text/plain": [
              "1747.3333333333333"
            ]
          },
          "metadata": {},
          "execution_count": 96
        }
      ]
    },
    {
      "cell_type": "markdown",
      "metadata": {
        "id": "UA5Xq2xarH3K"
      },
      "source": [
        "Mediana das aeronaves que foram liberadas"
      ]
    },
    {
      "cell_type": "code",
      "metadata": {
        "colab": {
          "base_uri": "https://localhost:8080/"
        },
        "id": "k7JSbZCbqkbC",
        "outputId": "dbe3f853-f1b9-445e-e60f-414775a204c5"
      },
      "source": [
        "df_liberadas['aeronave_liberada'].median()"
      ],
      "execution_count": null,
      "outputs": [
        {
          "output_type": "execute_result",
          "data": {
            "text/plain": [
              "2419.0"
            ]
          },
          "metadata": {},
          "execution_count": 97
        }
      ]
    },
    {
      "cell_type": "markdown",
      "metadata": {
        "id": "OiLEw0Q7rO1m"
      },
      "source": [
        "Moda das aeronaves que foram liberadas"
      ]
    },
    {
      "cell_type": "code",
      "metadata": {
        "colab": {
          "base_uri": "https://localhost:8080/"
        },
        "id": "d1VRa9mSqq3k",
        "outputId": "24213868-5c77-4368-cddf-fa840f738058"
      },
      "source": [
        "df_liberadas['aeronave_liberada'].mode()"
      ],
      "execution_count": null,
      "outputs": [
        {
          "output_type": "execute_result",
          "data": {
            "text/plain": [
              "0     136\n",
              "1    2419\n",
              "2    2687\n",
              "dtype: int64"
            ]
          },
          "metadata": {},
          "execution_count": 98
        }
      ]
    },
    {
      "cell_type": "code",
      "metadata": {
        "id": "3CD6BNctqkpI"
      },
      "source": [
        ""
      ],
      "execution_count": null,
      "outputs": []
    },
    {
      "cell_type": "markdown",
      "metadata": {
        "id": "QH3HWBolY2ZV"
      },
      "source": [
        "Como está o status das investigações?"
      ]
    },
    {
      "cell_type": "code",
      "metadata": {
        "colab": {
          "base_uri": "https://localhost:8080/",
          "height": 551
        },
        "id": "hpeVOd1nYqW2",
        "outputId": "d231dcce-4579-43eb-b0dd-b91fbd29e711"
      },
      "source": [
        "import pandas as pd\n",
        "\n",
        "df_filtradorr = pd.read_csv('/content/date.csv', sep=';')\n",
        "\n",
        "\n",
        "ax = df_filtradorr.groupby(['status_investigacao']).tipo.count().sort_values()[-5:].plot(figsize=(15,9), kind='bar', xlabel= 'STATUS', ylabel =  'OCORRÊNCIAS' ,color='darkblue',  edgecolor = 'black')\n",
        "plt.xticks(rotation=0)\n",
        "\n",
        "for p in ax.patches:\n",
        "    b=p.get_bbox()\n",
        "    ax.annotate(\"{:.0f}\".format(b.y1 + b.y0), ((b.x0 + b.x1)/2 - 0.030, b.y1 + 30), va='baseline',ha='center',fontsize=14, color='black')"
      ],
      "execution_count": null,
      "outputs": [
        {
          "output_type": "display_data",
          "data": {
            "image/png": "[encoded data removed]",
            "text/plain": [
              "<Figure size 1080x648 with 1 Axes>"
            ]
          },
          "metadata": {
            "needs_background": "light"
          }
        }
      ]
    },
    {
      "cell_type": "markdown",
      "metadata": {
        "id": "c6NaT3HGByiz"
      },
      "source": [
        "As investigações sobre as causas dos acidentes não têm um prazo determinado para serem finalizadas, mesmo porque a investigação precisa passar por algumas etapas e testes para saber o porquê aconteceu o acidente.\n",
        "Pelo gráfico pode-se perceber que a maioria das ocorrências foram investigadas e finalizadas. Desde que as caixas pretas foram inventadas as investigação de acidentes aéreos ficaram mais fáceis e precisas, já que graças a ela nove em cada dez acidentes podem ser explicados. Vale lembrar que as aeronaves de pequeno e médio porte não são obrigadas a ter a caixa preta, sendo obrigatório apenas em voos comerciais.\n"
      ]
    },
    {
      "cell_type": "code",
      "metadata": {
        "id": "IJ4KvKwiB1zm",
        "colab": {
          "base_uri": "https://localhost:8080/",
          "height": 143
        },
        "outputId": "07aa7a20-d360-4660-d401-ffb40fab2f7d"
      },
      "source": [
        "df_investigacao = pd.read_csv('/content/status_investigacao.csv', sep=';')\n",
        "df_investigacao.head()"
      ],
      "execution_count": null,
      "outputs": [
        {
          "output_type": "execute_result",
          "data": {
            "text/html": [
              "<div>\n",
              "<style scoped>\n",
              "    .dataframe tbody tr th:only-of-type {\n",
              "        vertical-align: middle;\n",
              "    }\n",
              "\n",
              "    .dataframe tbody tr th {\n",
              "        vertical-align: top;\n",
              "    }\n",
              "\n",
              "    .dataframe thead th {\n",
              "        text-align: right;\n",
              "    }\n",
              "</style>\n",
              "<table border=\"1\" class=\"dataframe\">\n",
              "  <thead>\n",
              "    <tr style=\"text-align: right;\">\n",
              "      <th></th>\n",
              "      <th>status_investigacao</th>\n",
              "      <th>Unnamed: 1</th>\n",
              "    </tr>\n",
              "  </thead>\n",
              "  <tbody>\n",
              "    <tr>\n",
              "      <th>0</th>\n",
              "      <td>4066</td>\n",
              "      <td>nan</td>\n",
              "    </tr>\n",
              "    <tr>\n",
              "      <th>1</th>\n",
              "      <td>816</td>\n",
              "      <td>nan</td>\n",
              "    </tr>\n",
              "    <tr>\n",
              "      <th>2</th>\n",
              "      <td>360</td>\n",
              "      <td>nan</td>\n",
              "    </tr>\n",
              "  </tbody>\n",
              "</table>\n",
              "</div>"
            ],
            "text/plain": [
              "   status_investigacao  Unnamed: 1\n",
              "0                 4066         nan\n",
              "1                  816         nan\n",
              "2                  360         nan"
            ]
          },
          "metadata": {},
          "execution_count": 100
        }
      ]
    },
    {
      "cell_type": "markdown",
      "metadata": {
        "id": "jbx2306Zx2yD"
      },
      "source": [
        "Média dos status de investigação de ocorrências"
      ]
    },
    {
      "cell_type": "code",
      "metadata": {
        "colab": {
          "base_uri": "https://localhost:8080/"
        },
        "id": "prL44IaoxCca",
        "outputId": "fb502a91-a7f6-4171-d812-e9e91ecaaa0c"
      },
      "source": [
        "df_investigacao['status_investigacao'].mean()"
      ],
      "execution_count": null,
      "outputs": [
        {
          "output_type": "execute_result",
          "data": {
            "text/plain": [
              "1747.3333333333333"
            ]
          },
          "metadata": {},
          "execution_count": 104
        }
      ]
    },
    {
      "cell_type": "markdown",
      "metadata": {
        "id": "GHrwRxcVyF0S"
      },
      "source": [
        "Mediana dos status de investigação de ocorrências"
      ]
    },
    {
      "cell_type": "code",
      "metadata": {
        "colab": {
          "base_uri": "https://localhost:8080/"
        },
        "id": "LowvEiwYxCgm",
        "outputId": "cd8ac66d-9940-4f4a-e0ef-c3dbca0fe50f"
      },
      "source": [
        "df_investigacao['status_investigacao'].median()"
      ],
      "execution_count": null,
      "outputs": [
        {
          "output_type": "execute_result",
          "data": {
            "text/plain": [
              "816.0"
            ]
          },
          "metadata": {},
          "execution_count": 103
        }
      ]
    },
    {
      "cell_type": "markdown",
      "metadata": {
        "id": "DtKe5PRuyJLE"
      },
      "source": [
        "Moda dos status de investigação de ocorrências"
      ]
    },
    {
      "cell_type": "code",
      "metadata": {
        "colab": {
          "base_uri": "https://localhost:8080/"
        },
        "id": "Zud9F09DxXFe",
        "outputId": "f858a92a-b878-4cad-d639-3e9ebf017e47"
      },
      "source": [
        "df_investigacao['status_investigacao'].mode()"
      ],
      "execution_count": null,
      "outputs": [
        {
          "output_type": "execute_result",
          "data": {
            "text/plain": [
              "0     360\n",
              "1     816\n",
              "2    4066\n",
              "dtype: int64"
            ]
          },
          "metadata": {},
          "execution_count": 102
        }
      ]
    },
    {
      "cell_type": "markdown",
      "metadata": {
        "id": "ep1a34BnyOwn"
      },
      "source": [
        "Desvio Padrão dos status de investigação de ocorrências"
      ]
    },
    {
      "cell_type": "code",
      "metadata": {
        "colab": {
          "base_uri": "https://localhost:8080/"
        },
        "id": "0gQV8qrpxYGp",
        "outputId": "410e54da-5607-43df-eeb2-e9530f45ca5d"
      },
      "source": [
        "df_investigacao['status_investigacao'].std()"
      ],
      "execution_count": null,
      "outputs": [
        {
          "output_type": "execute_result",
          "data": {
            "text/plain": [
              "2020.9268500698718"
            ]
          },
          "metadata": {},
          "execution_count": 101
        }
      ]
    },
    {
      "cell_type": "code",
      "metadata": {
        "id": "DschKoCexYi9"
      },
      "source": [
        ""
      ],
      "execution_count": null,
      "outputs": []
    },
    {
      "cell_type": "markdown",
      "metadata": {
        "id": "0jCzP9IuNlhi"
      },
      "source": [
        "\n",
        "Relação de acidentes x Incidentes nas regiões do Brasil\n",
        "\n"
      ]
    },
    {
      "cell_type": "code",
      "metadata": {
        "id": "y4UTjjgQOcwO"
      },
      "source": [
        "dados_prontos = pd.read_csv('/content/date.csv', sep=';')"
      ],
      "execution_count": null,
      "outputs": []
    },
    {
      "cell_type": "code",
      "metadata": {
        "id": "4Zd95Yr3r2HK"
      },
      "source": [
        "def tem_numero(string): # Retornar se string possue numero\n",
        "  return any(char.isdigit() for char in string)\n",
        "\n",
        "def remove_repetidos(array): # Remover Elementos Repetidos do Array\n",
        "    l = []\n",
        "    for i in array:\n",
        "        if i not in l:\n",
        "            l.append(i)\n",
        "    l.sort()\n",
        "    return l\n",
        "\n",
        "def numero_em_cima(rects, ax):\n",
        "    for rect in rects:\n",
        "        height = rect.get_height()\n",
        "        ax.annotate('{}'.format(height),\n",
        "                    xy=(rect.get_x() + rect.get_width() / 2, height),\n",
        "                    xytext=(0, 3),  \n",
        "                    textcoords=\"offset points\",\n",
        "                    ha='center', va='bottom')"
      ],
      "execution_count": null,
      "outputs": []
    },
    {
      "cell_type": "code",
      "metadata": {
        "colab": {
          "base_uri": "https://localhost:8080/",
          "height": 206
        },
        "id": "lUpiN67wqDZ4",
        "outputId": "877c6447-e7d6-4e5d-c4af-d5d895d16f13"
      },
      "source": [
        "dic_regioes = {'Nordeste': ['AL', 'BA', 'CE', 'MA', 'PB', 'PE', 'PI', 'RN', 'SE'],\n",
        "                'Norte': ['AM', 'RR', 'AP', 'PA', 'TO', 'RO', 'AC'],\n",
        "                'Centro Oeste': ['MT', 'MS', 'GO'], \n",
        "                'Sudeste': ['SP', 'RJ', 'ES', 'MG'],\n",
        "                'Sul': ['PR', 'RS', 'SC']}\n",
        "tipos = ['ACIDENTE', 'INCIDENTE']\n",
        "dic_01 = {i: [ len([k for k in list(dados_prontos.loc[dados_prontos['tipo'] == i, ['estado']]['estado'])\n",
        "                    if k in dic_regioes[j]]) for j in dic_regioes.keys()] for i in tipos}\n",
        "\n",
        "dic_01['tipo'] = list(dic_regioes.keys())\n",
        "dados_regioes = pd.DataFrame(dic_01)\n",
        "dados_regioes"
      ],
      "execution_count": null,
      "outputs": [
        {
          "output_type": "execute_result",
          "data": {
            "text/html": [
              "<div>\n",
              "<style scoped>\n",
              "    .dataframe tbody tr th:only-of-type {\n",
              "        vertical-align: middle;\n",
              "    }\n",
              "\n",
              "    .dataframe tbody tr th {\n",
              "        vertical-align: top;\n",
              "    }\n",
              "\n",
              "    .dataframe thead th {\n",
              "        text-align: right;\n",
              "    }\n",
              "</style>\n",
              "<table border=\"1\" class=\"dataframe\">\n",
              "  <thead>\n",
              "    <tr style=\"text-align: right;\">\n",
              "      <th></th>\n",
              "      <th>ACIDENTE</th>\n",
              "      <th>INCIDENTE</th>\n",
              "      <th>tipo</th>\n",
              "    </tr>\n",
              "  </thead>\n",
              "  <tbody>\n",
              "    <tr>\n",
              "      <th>0</th>\n",
              "      <td>166</td>\n",
              "      <td>310</td>\n",
              "      <td>Nordeste</td>\n",
              "    </tr>\n",
              "    <tr>\n",
              "      <th>1</th>\n",
              "      <td>259</td>\n",
              "      <td>316</td>\n",
              "      <td>Norte</td>\n",
              "    </tr>\n",
              "    <tr>\n",
              "      <th>2</th>\n",
              "      <td>344</td>\n",
              "      <td>218</td>\n",
              "      <td>Centro Oeste</td>\n",
              "    </tr>\n",
              "    <tr>\n",
              "      <th>3</th>\n",
              "      <td>563</td>\n",
              "      <td>1462</td>\n",
              "      <td>Sudeste</td>\n",
              "    </tr>\n",
              "    <tr>\n",
              "      <th>4</th>\n",
              "      <td>355</td>\n",
              "      <td>474</td>\n",
              "      <td>Sul</td>\n",
              "    </tr>\n",
              "  </tbody>\n",
              "</table>\n",
              "</div>"
            ],
            "text/plain": [
              "   ACIDENTE  INCIDENTE          tipo\n",
              "0       166        310      Nordeste\n",
              "1       259        316         Norte\n",
              "2       344        218  Centro Oeste\n",
              "3       563       1462       Sudeste\n",
              "4       355        474           Sul"
            ]
          },
          "metadata": {},
          "execution_count": 9
        }
      ]
    },
    {
      "cell_type": "code",
      "metadata": {
        "colab": {
          "base_uri": "https://localhost:8080/",
          "height": 296
        },
        "id": "sXRcskurNkav",
        "outputId": "f142d7a3-c166-4bb7-82b7-3ea93c3e8fc6"
      },
      "source": [
        "x = np.arange(5)\n",
        "width = 0.35\n",
        "\n",
        "fig, ax = plt.subplots()\n",
        "rects1 = ax.bar(x - width/2, dados_regioes['ACIDENTE'], width, label='ACIDENTE')\n",
        "rects2 = ax.bar(x + width/2, dados_regioes['INCIDENTE'], width, label='INCIDENTE')\n",
        "\n",
        "\n",
        "ax.set_ylabel('Ocorrências')\n",
        "ax.set_title('REGIÕES\\nACIDENTE vs INCIDENTE')\n",
        "ax.set_xticks(x)\n",
        "ax.set_xticklabels(dados_regioes['tipo'])\n",
        "ax.legend()\n",
        "\n",
        "numero_em_cima(rects1, ax)\n",
        "numero_em_cima(rects2, ax)\n",
        "\n",
        "fig.tight_layout()\n",
        "\n",
        "plt.show()"
      ],
      "execution_count": null,
      "outputs": [
        {
          "output_type": "display_data",
          "data": {
            "image/png": "[encoded data removed]",
            "text/plain": [
              "<Figure size 432x288 with 1 Axes>"
            ]
          },
          "metadata": {
            "needs_background": "light"
          }
        }
      ]
    },
    {
      "cell_type": "markdown",
      "metadata": {
        "id": "havRd1obnu2p"
      },
      "source": [
        "De acordo com os dados acima, o Brasil de um modo geral, registrou um número maior de Incidentes, sendo que a única exceção foi a região Centro oeste que no período registrou mais acidentes, é preciso lembrar que o estado do Mato Grosso possui a maior frota de aeronaves e helicópteros agrícolas do país, essas aeronaves são monomotoras e muitas tem motorização a pistão. Aviões do tipo agrícola sofreram muitos incidentes e até acidentes o que pode ter contribuído com esses números.\n",
        "A região sudeste foi a região que mais registrou ocorrências. O Sudeste possui 6 dos 10 aeroportos mais movimentados do país, além de possuir o maior número aeroportos comerciais, atualmente conta com 38.\n"
      ]
    },
    {
      "cell_type": "code",
      "metadata": {
        "id": "jiUKlw6Unygx"
      },
      "source": [
        ""
      ],
      "execution_count": null,
      "outputs": []
    },
    {
      "cell_type": "markdown",
      "metadata": {
        "id": "-4FDHaiNpF6Q"
      },
      "source": [
        "Mapa do Brasil com ocorrências"
      ]
    },
    {
      "cell_type": "code",
      "metadata": {
        "id": "U6n7V86NgiHJ"
      },
      "source": [
        "data = pd.DataFrame ({\n",
        "    'lat' : [-23.52, -22.9, -19.81, -25.42,  -30.03, -16.67, -1.45, -15.59, -3.1,    -12.97, -27.59,  -15.78,  -20.44,  -8.05,    -3.71,   -20.31,   -2.53,   -9.97,   -10.16,   2.82,   -5.08,   -8.76,  -7.11,    -10.91,   -9.66,    -6.19,    0.03,       -9.42],\n",
        "    'lon' : [-46.63, -43.2, -43.95, -49.27,  -51.23, -49.25, -48.5, -56.09, -60.02,  -38.51, -48.54,   -47.93, -54.64,  -34.88,   -38.54,  -40.33,   -44.3,  -67.81,   -48.33,  -60.67,  -42.8,   -63.9,  -34.86,   -37.07,   -35.73,   -35.16,   -51.06,     -30.89],\n",
        "    'name' : ['SP',   'RJ',   'MG',   'PR',   'RS',   'GO',  'PA',  'MT',    'AM',   'BA',    'SC',   'DF',     'MS',    'PE',    'CE',    'ES',      'MA',   'AC',     'TO',   'RR',     'PI',   'RO',   'PB',     'SE',     'AL',     'RN',    'AP',    'AGUAS INTERNACIONAIS'],\n",
        "    'value' : [1239,  480,    482,    441,    334,    286,   263,   255,     217,    200,      166,    129,     132,     90,       78,      70,       68,     54,       46,     49,       36,      30,     23,      21,       30,       14,       9,         3]\n",
        "})\n"
      ],
      "execution_count": null,
      "outputs": []
    },
    {
      "cell_type": "code",
      "metadata": {
        "colab": {
          "base_uri": "https://localhost:8080/",
          "height": 689
        },
        "id": "S-RQGdqaKmmq",
        "outputId": "9c9737c6-e1a2-4bcc-92ed-352e05917ca8"
      },
      "source": [
        "map_br = folium.Map(location=[-12, -50],\n",
        "                 zoom_start = 4, control_scale = True, prefer_canvas=True)\n",
        "\n",
        "\n",
        "data['value']=data.value.astype(float)\n",
        "\n",
        "for i in range(0,len(data)):\n",
        "   folium.Circle(\n",
        "      location=[data.iloc[i]['lat'], data.iloc[i]['lon']],\n",
        "      popup=\"<br>ESTADO: \"+data.iloc[i]['name']+\"<br>\"+\"<br>QUANTIDADE DE ACIDENTES: \" + str(int(data['value'][i])),\n",
        "      radius=data.iloc[i]['value']*300,\n",
        "      color='crimson',\n",
        "      fill=True,\n",
        "      fill_color='crimson'\n",
        "   ).add_to(map_br)\n",
        "\n",
        "map_br"
      ],
      "execution_count": null,
      "outputs": [
        {
          "output_type": "execute_result",
          "data": {
            "text/html": [
              "<div style=\"width:100%;\"><div style=\"position:relative;width:100%;height:0;padding-bottom:60%;\"><span style=\"color:#565656\">Make this Notebook Trusted to load map: File -> Trust Notebook</span><iframe src=\"about:blank\" style=\"position:absolute;width:100%;height:100%;left:0;top:0;border:none !important;\" data-html=%3C%21DOCTYPE%20html%3E%0A%3Chead%3E%20%20%20%20%0A%20%20%20%20%3Cmeta%20http-equiv%3D%22content-type%22%20content%3D%22text/html%3B%20charset%3DUTF-8%22%20/%3E%0A%20%20%20%20%3Cscript%3EL_PREFER_CANVAS%3Dtrue%3B%20L_NO_TOUCH%3Dfalse%3B%20L_DISABLE_3D%3Dfalse%3B%3C/script%3E%0A%20%20%20%20%3Cscript%20src%3D%22https%3A//cdn.jsdelivr.net/npm/leaflet%401.4.0/dist/leaflet.js%22%3E%3C/script%3E%0A%20%20%20%20%3Cscript%20src%3D%22https%3A//code.jquery.com/jquery-1.12.4.min.js%22%3E%3C/script%3E%0A%20%20%20%20%3Cscript%20src%3D%22https%3A//maxcdn.bootstrapcdn.com/bootstrap/3.2.0/js/bootstrap.min.js%22%3E%3C/script%3E%0A%20%20%20%20%3Cscript%20src%3D%22https%3A//cdnjs.cloudflare.com/ajax/libs/Leaflet.awesome-markers/2.0.2/leaflet.awesome-markers.js%22%3E%3C/script%3E%0A%20%20%20%20%3Clink%20rel%3D%22stylesheet%22%20href%3D%22https%3A//cdn.jsdelivr.net/npm/leaflet%401.4.0/dist/leaflet.css%22/%3E%0A%20%20%20%20%3Clink%20rel%3D%22stylesheet%22%20href%3D%22https%3A//maxcdn.bootstrapcdn.com/bootstrap/3.2.0/css/bootstrap.min.css%22/%3E%0A%20%20%20%20%3Clink%20rel%3D%22stylesheet%22%20href%3D%22https%3A//maxcdn.bootstrapcdn.com/bootstrap/3.2.0/css/bootstrap-theme.min.css%22/%3E%0A%20%20%20%20%3Clink%20rel%3D%22stylesheet%22%20href%3D%22https%3A//maxcdn.bootstrapcdn.com/font-awesome/4.6.3/css/font-awesome.min.css%22/%3E%0A%20%20%20%20%3Clink%20rel%3D%22stylesheet%22%20href%3D%22https%3A//cdnjs.cloudflare.com/ajax/libs/Leaflet.awesome-markers/2.0.2/leaflet.awesome-markers.css%22/%3E%0A%20%20%20%20%3Clink%20rel%3D%22stylesheet%22%20href%3D%22https%3A//rawcdn.githack.com/python-visualization/folium/master/folium/templates/leaflet.awesome.rotate.css%22/%3E%0A%20%20%20%20%3Cstyle%3Ehtml%2C%20body%20%7Bwidth%3A%20100%25%3Bheight%3A%20100%25%3Bmargin%3A%200%3Bpadding%3A%200%3B%7D%3C/style%3E%0A%20%20%20%20%3Cstyle%3E%23map%20%7Bposition%3Aabsolute%3Btop%3A0%3Bbottom%3A0%3Bright%3A0%3Bleft%3A0%3B%7D%3C/style%3E%0A%20%20%20%20%0A%20%20%20%20%3Cmeta%20name%3D%22viewport%22%20content%3D%22width%3Ddevice-width%2C%0A%20%20%20%20%20%20%20%20initial-scale%3D1.0%2C%20maximum-scale%3D1.0%2C%20user-scalable%3Dno%22%20/%3E%0A%20%20%20%20%3Cstyle%3E%23map_a539ba08627f46d6b1220644d0284b29%20%7B%0A%20%20%20%20%20%20%20%20position%3A%20relative%3B%0A%20%20%20%20%20%20%20%20width%3A%20100.0%25%3B%0A%20%20%20%20%20%20%20%20height%3A%20100.0%25%3B%0A%20%20%20%20%20%20%20%20left%3A%200.0%25%3B%0A%20%20%20%20%20%20%20%20top%3A%200.0%25%3B%0A%20%20%20%20%20%20%20%20%7D%0A%20%20%20%20%3C/style%3E%0A%3C/head%3E%0A%3Cbody%3E%20%20%20%20%0A%20%20%20%20%0A%20%20%20%20%3Cdiv%20class%3D%22folium-map%22%20id%3D%22map_a539ba08627f46d6b1220644d0284b29%22%20%3E%3C/div%3E%0A%3C/body%3E%0A%3Cscript%3E%20%20%20%20%0A%20%20%20%20%0A%20%20%20%20%0A%20%20%20%20%20%20%20%20var%20bounds%20%3D%20null%3B%0A%20%20%20%20%0A%0A%20%20%20%20var%20map_a539ba08627f46d6b1220644d0284b29%20%3D%20L.map%28%0A%20%20%20%20%20%20%20%20%27map_a539ba08627f46d6b1220644d0284b29%27%2C%20%7B%0A%20%20%20%20%20%20%20%20center%3A%20%5B-12%2C%20-50%5D%2C%0A%20%20%20%20%20%20%20%20zoom%3A%204%2C%0A%20%20%20%20%20%20%20%20maxBounds%3A%20bounds%2C%0A%20%20%20%20%20%20%20%20layers%3A%20%5B%5D%2C%0A%20%20%20%20%20%20%20%20worldCopyJump%3A%20false%2C%0A%20%20%20%20%20%20%20%20crs%3A%20L.CRS.EPSG3857%2C%0A%20%20%20%20%20%20%20%20zoomControl%3A%20true%2C%0A%20%20%20%20%20%20%20%20%7D%29%3B%0AL.control.scale%28%29.addTo%28map_a539ba08627f46d6b1220644d0284b29%29%3B%0A%0A%20%20%20%20%0A%20%20%20%20var%20tile_layer_18fea5f0d27949dbae4fa658714f41fd%20%3D%20L.tileLayer%28%0A%20%20%20%20%20%20%20%20%27https%3A//%7Bs%7D.tile.openstreetmap.org/%7Bz%7D/%7Bx%7D/%7By%7D.png%27%2C%0A%20%20%20%20%20%20%20%20%7B%0A%20%20%20%20%20%20%20%20%22attribution%22%3A%20null%2C%0A%20%20%20%20%20%20%20%20%22detectRetina%22%3A%20false%2C%0A%20%20%20%20%20%20%20%20%22maxNativeZoom%22%3A%2018%2C%0A%20%20%20%20%20%20%20%20%22maxZoom%22%3A%2018%2C%0A%20%20%20%20%20%20%20%20%22minZoom%22%3A%200%2C%0A%20%20%20%20%20%20%20%20%22noWrap%22%3A%20false%2C%0A%20%20%20%20%20%20%20%20%22opacity%22%3A%201%2C%0A%20%20%20%20%20%20%20%20%22subdomains%22%3A%20%22abc%22%2C%0A%20%20%20%20%20%20%20%20%22tms%22%3A%20false%0A%7D%29.addTo%28map_a539ba08627f46d6b1220644d0284b29%29%3B%0A%20%20%20%20%0A%0A%20%20%20%20%20%20%20%20%20%20%20%20var%20circle_6e3ce0de193e46f3addec70202e3987e%20%3D%20L.circle%28%0A%20%20%20%20%20%20%20%20%20%20%20%20%20%20%20%20%5B-23.52%2C%20-46.63%5D%2C%0A%20%20%20%20%20%20%20%20%20%20%20%20%20%20%20%20%7B%0A%20%20%22bubblingMouseEvents%22%3A%20true%2C%0A%20%20%22color%22%3A%20%22crimson%22%2C%0A%20%20%22dashArray%22%3A%20null%2C%0A%20%20%22dashOffset%22%3A%20null%2C%0A%20%20%22fill%22%3A%20true%2C%0A%20%20%22fillColor%22%3A%20%22crimson%22%2C%0A%20%20%22fillOpacity%22%3A%200.2%2C%0A%20%20%22fillRule%22%3A%20%22evenodd%22%2C%0A%20%20%22lineCap%22%3A%20%22round%22%2C%0A%20%20%22lineJoin%22%3A%20%22round%22%2C%0A%20%20%22opacity%22%3A%201.0%2C%0A%20%20%22radius%22%3A%20371700.0%2C%0A%20%20%22stroke%22%3A%20true%2C%0A%20%20%22weight%22%3A%203%0A%7D%0A%20%20%20%20%20%20%20%20%20%20%20%20%20%20%20%20%29%0A%20%20%20%20%20%20%20%20%20%20%20%20%20%20%20%20.addTo%28map_a539ba08627f46d6b1220644d0284b29%29%3B%0A%20%20%20%20%20%20%20%20%20%20%20%20%0A%20%20%20%20%0A%20%20%20%20%20%20%20%20%20%20%20%20var%20popup_ac5bf4e920b4434dbbe2f124e3944ac6%20%3D%20L.popup%28%7BmaxWidth%3A%20%27100%25%27%0A%20%20%20%20%20%20%20%20%20%20%20%20%0A%20%20%20%20%20%20%20%20%20%20%20%20%7D%29%3B%0A%0A%20%20%20%20%20%20%20%20%20%20%20%20%0A%20%20%20%20%20%20%20%20%20%20%20%20%20%20%20%20var%20html_db1031ec54a744508ad07dbb67a9826d%20%3D%20%24%28%60%3Cdiv%20id%3D%22html_db1031ec54a744508ad07dbb67a9826d%22%20style%3D%22width%3A%20100.0%25%3B%20height%3A%20100.0%25%3B%22%3E%3Cbr%3EESTADO%3A%20SP%3Cbr%3E%3Cbr%3EQUANTIDADE%20DE%20ACIDENTES%3A%201239%3C/div%3E%60%29%5B0%5D%3B%0A%20%20%20%20%20%20%20%20%20%20%20%20%20%20%20%20popup_ac5bf4e920b4434dbbe2f124e3944ac6.setContent%28html_db1031ec54a744508ad07dbb67a9826d%29%3B%0A%20%20%20%20%20%20%20%20%20%20%20%20%0A%0A%20%20%20%20%20%20%20%20%20%20%20%20circle_6e3ce0de193e46f3addec70202e3987e.bindPopup%28popup_ac5bf4e920b4434dbbe2f124e3944ac6%29%0A%20%20%20%20%20%20%20%20%20%20%20%20%3B%0A%0A%20%20%20%20%20%20%20%20%20%20%20%20%0A%20%20%20%20%20%20%20%20%0A%20%20%20%20%0A%0A%20%20%20%20%20%20%20%20%20%20%20%20var%20circle_d0c82b4b688e457ab6e8a23c57e12ddf%20%3D%20L.circle%28%0A%20%20%20%20%20%20%20%20%20%20%20%20%20%20%20%20%5B-22.9%2C%20-43.2%5D%2C%0A%20%20%20%20%20%20%20%20%20%20%20%20%20%20%20%20%7B%0A%20%20%22bubblingMouseEvents%22%3A%20true%2C%0A%20%20%22color%22%3A%20%22crimson%22%2C%0A%20%20%22dashArray%22%3A%20null%2C%0A%20%20%22dashOffset%22%3A%20null%2C%0A%20%20%22fill%22%3A%20true%2C%0A%20%20%22fillColor%22%3A%20%22crimson%22%2C%0A%20%20%22fillOpacity%22%3A%200.2%2C%0A%20%20%22fillRule%22%3A%20%22evenodd%22%2C%0A%20%20%22lineCap%22%3A%20%22round%22%2C%0A%20%20%22lineJoin%22%3A%20%22round%22%2C%0A%20%20%22opacity%22%3A%201.0%2C%0A%20%20%22radius%22%3A%20144000.0%2C%0A%20%20%22stroke%22%3A%20true%2C%0A%20%20%22weight%22%3A%203%0A%7D%0A%20%20%20%20%20%20%20%20%20%20%20%20%20%20%20%20%29%0A%20%20%20%20%20%20%20%20%20%20%20%20%20%20%20%20.addTo%28map_a539ba08627f46d6b1220644d0284b29%29%3B%0A%20%20%20%20%20%20%20%20%20%20%20%20%0A%20%20%20%20%0A%20%20%20%20%20%20%20%20%20%20%20%20var%20popup_385c102487e34f51917c0248d8e15aa4%20%3D%20L.popup%28%7BmaxWidth%3A%20%27100%25%27%0A%20%20%20%20%20%20%20%20%20%20%20%20%0A%20%20%20%20%20%20%20%20%20%20%20%20%7D%29%3B%0A%0A%20%20%20%20%20%20%20%20%20%20%20%20%0A%20%20%20%20%20%20%20%20%20%20%20%20%20%20%20%20var%20html_92400aa0eb9647e3b84536a2d50b94c7%20%3D%20%24%28%60%3Cdiv%20id%3D%22html_92400aa0eb9647e3b84536a2d50b94c7%22%20style%3D%22width%3A%20100.0%25%3B%20height%3A%20100.0%25%3B%22%3E%3Cbr%3EESTADO%3A%20RJ%3Cbr%3E%3Cbr%3EQUANTIDADE%20DE%20ACIDENTES%3A%20480%3C/div%3E%60%29%5B0%5D%3B%0A%20%20%20%20%20%20%20%20%20%20%20%20%20%20%20%20popup_385c102487e34f51917c0248d8e15aa4.setContent%28html_92400aa0eb9647e3b84536a2d50b94c7%29%3B%0A%20%20%20%20%20%20%20%20%20%20%20%20%0A%0A%20%20%20%20%20%20%20%20%20%20%20%20circle_d0c82b4b688e457ab6e8a23c57e12ddf.bindPopup%28popup_385c102487e34f51917c0248d8e15aa4%29%0A%20%20%20%20%20%20%20%20%20%20%20%20%3B%0A%0A%20%20%20%20%20%20%20%20%20%20%20%20%0A%20%20%20%20%20%20%20%20%0A%20%20%20%20%0A%0A%20%20%20%20%20%20%20%20%20%20%20%20var%20circle_8eb09cbce39d43989971ed422b63ae82%20%3D%20L.circle%28%0A%20%20%20%20%20%20%20%20%20%20%20%20%20%20%20%20%5B-19.81%2C%20-43.95%5D%2C%0A%20%20%20%20%20%20%20%20%20%20%20%20%20%20%20%20%7B%0A%20%20%22bubblingMouseEvents%22%3A%20true%2C%0A%20%20%22color%22%3A%20%22crimson%22%2C%0A%20%20%22dashArray%22%3A%20null%2C%0A%20%20%22dashOffset%22%3A%20null%2C%0A%20%20%22fill%22%3A%20true%2C%0A%20%20%22fillColor%22%3A%20%22crimson%22%2C%0A%20%20%22fillOpacity%22%3A%200.2%2C%0A%20%20%22fillRule%22%3A%20%22evenodd%22%2C%0A%20%20%22lineCap%22%3A%20%22round%22%2C%0A%20%20%22lineJoin%22%3A%20%22round%22%2C%0A%20%20%22opacity%22%3A%201.0%2C%0A%20%20%22radius%22%3A%20144600.0%2C%0A%20%20%22stroke%22%3A%20true%2C%0A%20%20%22weight%22%3A%203%0A%7D%0A%20%20%20%20%20%20%20%20%20%20%20%20%20%20%20%20%29%0A%20%20%20%20%20%20%20%20%20%20%20%20%20%20%20%20.addTo%28map_a539ba08627f46d6b1220644d0284b29%29%3B%0A%20%20%20%20%20%20%20%20%20%20%20%20%0A%20%20%20%20%0A%20%20%20%20%20%20%20%20%20%20%20%20var%20popup_4176b4355cf34ba192cf79c43bf592e2%20%3D%20L.popup%28%7BmaxWidth%3A%20%27100%25%27%0A%20%20%20%20%20%20%20%20%20%20%20%20%0A%20%20%20%20%20%20%20%20%20%20%20%20%7D%29%3B%0A%0A%20%20%20%20%20%20%20%20%20%20%20%20%0A%20%20%20%20%20%20%20%20%20%20%20%20%20%20%20%20var%20html_84dbc911504746e8a0ed9a339c711b23%20%3D%20%24%28%60%3Cdiv%20id%3D%22html_84dbc911504746e8a0ed9a339c711b23%22%20style%3D%22width%3A%20100.0%25%3B%20height%3A%20100.0%25%3B%22%3E%3Cbr%3EESTADO%3A%20MG%3Cbr%3E%3Cbr%3EQUANTIDADE%20DE%20ACIDENTES%3A%20482%3C/div%3E%60%29%5B0%5D%3B%0A%20%20%20%20%20%20%20%20%20%20%20%20%20%20%20%20popup_4176b4355cf34ba192cf79c43bf592e2.setContent%28html_84dbc911504746e8a0ed9a339c711b23%29%3B%0A%20%20%20%20%20%20%20%20%20%20%20%20%0A%0A%20%20%20%20%20%20%20%20%20%20%20%20circle_8eb09cbce39d43989971ed422b63ae82.bindPopup%28popup_4176b4355cf34ba192cf79c43bf592e2%29%0A%20%20%20%20%20%20%20%20%20%20%20%20%3B%0A%0A%20%20%20%20%20%20%20%20%20%20%20%20%0A%20%20%20%20%20%20%20%20%0A%20%20%20%20%0A%0A%20%20%20%20%20%20%20%20%20%20%20%20var%20circle_2812178a778547c1ae5123e030b71a75%20%3D%20L.circle%28%0A%20%20%20%20%20%20%20%20%20%20%20%20%20%20%20%20%5B-25.42%2C%20-49.27%5D%2C%0A%20%20%20%20%20%20%20%20%20%20%20%20%20%20%20%20%7B%0A%20%20%22bubblingMouseEvents%22%3A%20true%2C%0A%20%20%22color%22%3A%20%22crimson%22%2C%0A%20%20%22dashArray%22%3A%20null%2C%0A%20%20%22dashOffset%22%3A%20null%2C%0A%20%20%22fill%22%3A%20true%2C%0A%20%20%22fillColor%22%3A%20%22crimson%22%2C%0A%20%20%22fillOpacity%22%3A%200.2%2C%0A%20%20%22fillRule%22%3A%20%22evenodd%22%2C%0A%20%20%22lineCap%22%3A%20%22round%22%2C%0A%20%20%22lineJoin%22%3A%20%22round%22%2C%0A%20%20%22opacity%22%3A%201.0%2C%0A%20%20%22radius%22%3A%20132300.0%2C%0A%20%20%22stroke%22%3A%20true%2C%0A%20%20%22weight%22%3A%203%0A%7D%0A%20%20%20%20%20%20%20%20%20%20%20%20%20%20%20%20%29%0A%20%20%20%20%20%20%20%20%20%20%20%20%20%20%20%20.addTo%28map_a539ba08627f46d6b1220644d0284b29%29%3B%0A%20%20%20%20%20%20%20%20%20%20%20%20%0A%20%20%20%20%0A%20%20%20%20%20%20%20%20%20%20%20%20var%20popup_03ab0352ea1d4030a7e77a5c9bb529d6%20%3D%20L.popup%28%7BmaxWidth%3A%20%27100%25%27%0A%20%20%20%20%20%20%20%20%20%20%20%20%0A%20%20%20%20%20%20%20%20%20%20%20%20%7D%29%3B%0A%0A%20%20%20%20%20%20%20%20%20%20%20%20%0A%20%20%20%20%20%20%20%20%20%20%20%20%20%20%20%20var%20html_bce6feb838e148779a02c4a67b601dd6%20%3D%20%24%28%60%3Cdiv%20id%3D%22html_bce6feb838e148779a02c4a67b601dd6%22%20style%3D%22width%3A%20100.0%25%3B%20height%3A%20100.0%25%3B%22%3E%3Cbr%3EESTADO%3A%20PR%3Cbr%3E%3Cbr%3EQUANTIDADE%20DE%20ACIDENTES%3A%20441%3C/div%3E%60%29%5B0%5D%3B%0A%20%20%20%20%20%20%20%20%20%20%20%20%20%20%20%20popup_03ab0352ea1d4030a7e77a5c9bb529d6.setContent%28html_bce6feb838e148779a02c4a67b601dd6%29%3B%0A%20%20%20%20%20%20%20%20%20%20%20%20%0A%0A%20%20%20%20%20%20%20%20%20%20%20%20circle_2812178a778547c1ae5123e030b71a75.bindPopup%28popup_03ab0352ea1d4030a7e77a5c9bb529d6%29%0A%20%20%20%20%20%20%20%20%20%20%20%20%3B%0A%0A%20%20%20%20%20%20%20%20%20%20%20%20%0A%20%20%20%20%20%20%20%20%0A%20%20%20%20%0A%0A%20%20%20%20%20%20%20%20%20%20%20%20var%20circle_7a250de93cac46ce9e95fd45405415ea%20%3D%20L.circle%28%0A%20%20%20%20%20%20%20%20%20%20%20%20%20%20%20%20%5B-30.03%2C%20-51.23%5D%2C%0A%20%20%20%20%20%20%20%20%20%20%20%20%20%20%20%20%7B%0A%20%20%22bubblingMouseEvents%22%3A%20true%2C%0A%20%20%22color%22%3A%20%22crimson%22%2C%0A%20%20%22dashArray%22%3A%20null%2C%0A%20%20%22dashOffset%22%3A%20null%2C%0A%20%20%22fill%22%3A%20true%2C%0A%20%20%22fillColor%22%3A%20%22crimson%22%2C%0A%20%20%22fillOpacity%22%3A%200.2%2C%0A%20%20%22fillRule%22%3A%20%22evenodd%22%2C%0A%20%20%22lineCap%22%3A%20%22round%22%2C%0A%20%20%22lineJoin%22%3A%20%22round%22%2C%0A%20%20%22opacity%22%3A%201.0%2C%0A%20%20%22radius%22%3A%20100200.0%2C%0A%20%20%22stroke%22%3A%20true%2C%0A%20%20%22weight%22%3A%203%0A%7D%0A%20%20%20%20%20%20%20%20%20%20%20%20%20%20%20%20%29%0A%20%20%20%20%20%20%20%20%20%20%20%20%20%20%20%20.addTo%28map_a539ba08627f46d6b1220644d0284b29%29%3B%0A%20%20%20%20%20%20%20%20%20%20%20%20%0A%20%20%20%20%0A%20%20%20%20%20%20%20%20%20%20%20%20var%20popup_4e4946f4e7a44e209b8e9f0a0a287a92%20%3D%20L.popup%28%7BmaxWidth%3A%20%27100%25%27%0A%20%20%20%20%20%20%20%20%20%20%20%20%0A%20%20%20%20%20%20%20%20%20%20%20%20%7D%29%3B%0A%0A%20%20%20%20%20%20%20%20%20%20%20%20%0A%20%20%20%20%20%20%20%20%20%20%20%20%20%20%20%20var%20html_c1b466f8437b4289ab3e281160f63ad4%20%3D%20%24%28%60%3Cdiv%20id%3D%22html_c1b466f8437b4289ab3e281160f63ad4%22%20style%3D%22width%3A%20100.0%25%3B%20height%3A%20100.0%25%3B%22%3E%3Cbr%3EESTADO%3A%20RS%3Cbr%3E%3Cbr%3EQUANTIDADE%20DE%20ACIDENTES%3A%20334%3C/div%3E%60%29%5B0%5D%3B%0A%20%20%20%20%20%20%20%20%20%20%20%20%20%20%20%20popup_4e4946f4e7a44e209b8e9f0a0a287a92.setContent%28html_c1b466f8437b4289ab3e281160f63ad4%29%3B%0A%20%20%20%20%20%20%20%20%20%20%20%20%0A%0A%20%20%20%20%20%20%20%20%20%20%20%20circle_7a250de93cac46ce9e95fd45405415ea.bindPopup%28popup_4e4946f4e7a44e209b8e9f0a0a287a92%29%0A%20%20%20%20%20%20%20%20%20%20%20%20%3B%0A%0A%20%20%20%20%20%20%20%20%20%20%20%20%0A%20%20%20%20%20%20%20%20%0A%20%20%20%20%0A%0A%20%20%20%20%20%20%20%20%20%20%20%20var%20circle_b774cea988aa4dc6a2af0c741f6e781e%20%3D%20L.circle%28%0A%20%20%20%20%20%20%20%20%20%20%20%20%20%20%20%20%5B-16.67%2C%20-49.25%5D%2C%0A%20%20%20%20%20%20%20%20%20%20%20%20%20%20%20%20%7B%0A%20%20%22bubblingMouseEvents%22%3A%20true%2C%0A%20%20%22color%22%3A%20%22crimson%22%2C%0A%20%20%22dashArray%22%3A%20null%2C%0A%20%20%22dashOffset%22%3A%20null%2C%0A%20%20%22fill%22%3A%20true%2C%0A%20%20%22fillColor%22%3A%20%22crimson%22%2C%0A%20%20%22fillOpacity%22%3A%200.2%2C%0A%20%20%22fillRule%22%3A%20%22evenodd%22%2C%0A%20%20%22lineCap%22%3A%20%22round%22%2C%0A%20%20%22lineJoin%22%3A%20%22round%22%2C%0A%20%20%22opacity%22%3A%201.0%2C%0A%20%20%22radius%22%3A%2085800.0%2C%0A%20%20%22stroke%22%3A%20true%2C%0A%20%20%22weight%22%3A%203%0A%7D%0A%20%20%20%20%20%20%20%20%20%20%20%20%20%20%20%20%29%0A%20%20%20%20%20%20%20%20%20%20%20%20%20%20%20%20.addTo%28map_a539ba08627f46d6b1220644d0284b29%29%3B%0A%20%20%20%20%20%20%20%20%20%20%20%20%0A%20%20%20%20%0A%20%20%20%20%20%20%20%20%20%20%20%20var%20popup_4c8ba11627534530b4b298e87d5f0d3e%20%3D%20L.popup%28%7BmaxWidth%3A%20%27100%25%27%0A%20%20%20%20%20%20%20%20%20%20%20%20%0A%20%20%20%20%20%20%20%20%20%20%20%20%7D%29%3B%0A%0A%20%20%20%20%20%20%20%20%20%20%20%20%0A%20%20%20%20%20%20%20%20%20%20%20%20%20%20%20%20var%20html_84f4c5c367364c7aa6123bd50b9a4303%20%3D%20%24%28%60%3Cdiv%20id%3D%22html_84f4c5c367364c7aa6123bd50b9a4303%22%20style%3D%22width%3A%20100.0%25%3B%20height%3A%20100.0%25%3B%22%3E%3Cbr%3EESTADO%3A%20GO%3Cbr%3E%3Cbr%3EQUANTIDADE%20DE%20ACIDENTES%3A%20286%3C/div%3E%60%29%5B0%5D%3B%0A%20%20%20%20%20%20%20%20%20%20%20%20%20%20%20%20popup_4c8ba11627534530b4b298e87d5f0d3e.setContent%28html_84f4c5c367364c7aa6123bd50b9a4303%29%3B%0A%20%20%20%20%20%20%20%20%20%20%20%20%0A%0A%20%20%20%20%20%20%20%20%20%20%20%20circle_b774cea988aa4dc6a2af0c741f6e781e.bindPopup%28popup_4c8ba11627534530b4b298e87d5f0d3e%29%0A%20%20%20%20%20%20%20%20%20%20%20%20%3B%0A%0A%20%20%20%20%20%20%20%20%20%20%20%20%0A%20%20%20%20%20%20%20%20%0A%20%20%20%20%0A%0A%20%20%20%20%20%20%20%20%20%20%20%20var%20circle_92a8df71fadc45459a19c9f343605615%20%3D%20L.circle%28%0A%20%20%20%20%20%20%20%20%20%20%20%20%20%20%20%20%5B-1.45%2C%20-48.5%5D%2C%0A%20%20%20%20%20%20%20%20%20%20%20%20%20%20%20%20%7B%0A%20%20%22bubblingMouseEvents%22%3A%20true%2C%0A%20%20%22color%22%3A%20%22crimson%22%2C%0A%20%20%22dashArray%22%3A%20null%2C%0A%20%20%22dashOffset%22%3A%20null%2C%0A%20%20%22fill%22%3A%20true%2C%0A%20%20%22fillColor%22%3A%20%22crimson%22%2C%0A%20%20%22fillOpacity%22%3A%200.2%2C%0A%20%20%22fillRule%22%3A%20%22evenodd%22%2C%0A%20%20%22lineCap%22%3A%20%22round%22%2C%0A%20%20%22lineJoin%22%3A%20%22round%22%2C%0A%20%20%22opacity%22%3A%201.0%2C%0A%20%20%22radius%22%3A%2078900.0%2C%0A%20%20%22stroke%22%3A%20true%2C%0A%20%20%22weight%22%3A%203%0A%7D%0A%20%20%20%20%20%20%20%20%20%20%20%20%20%20%20%20%29%0A%20%20%20%20%20%20%20%20%20%20%20%20%20%20%20%20.addTo%28map_a539ba08627f46d6b1220644d0284b29%29%3B%0A%20%20%20%20%20%20%20%20%20%20%20%20%0A%20%20%20%20%0A%20%20%20%20%20%20%20%20%20%20%20%20var%20popup_782a6882ba9b406082436056324fc860%20%3D%20L.popup%28%7BmaxWidth%3A%20%27100%25%27%0A%20%20%20%20%20%20%20%20%20%20%20%20%0A%20%20%20%20%20%20%20%20%20%20%20%20%7D%29%3B%0A%0A%20%20%20%20%20%20%20%20%20%20%20%20%0A%20%20%20%20%20%20%20%20%20%20%20%20%20%20%20%20var%20html_ef214e16425f477cbbbb8c1a6e27df1e%20%3D%20%24%28%60%3Cdiv%20id%3D%22html_ef214e16425f477cbbbb8c1a6e27df1e%22%20style%3D%22width%3A%20100.0%25%3B%20height%3A%20100.0%25%3B%22%3E%3Cbr%3EESTADO%3A%20PA%3Cbr%3E%3Cbr%3EQUANTIDADE%20DE%20ACIDENTES%3A%20263%3C/div%3E%60%29%5B0%5D%3B%0A%20%20%20%20%20%20%20%20%20%20%20%20%20%20%20%20popup_782a6882ba9b406082436056324fc860.setContent%28html_ef214e16425f477cbbbb8c1a6e27df1e%29%3B%0A%20%20%20%20%20%20%20%20%20%20%20%20%0A%0A%20%20%20%20%20%20%20%20%20%20%20%20circle_92a8df71fadc45459a19c9f343605615.bindPopup%28popup_782a6882ba9b406082436056324fc860%29%0A%20%20%20%20%20%20%20%20%20%20%20%20%3B%0A%0A%20%20%20%20%20%20%20%20%20%20%20%20%0A%20%20%20%20%20%20%20%20%0A%20%20%20%20%0A%0A%20%20%20%20%20%20%20%20%20%20%20%20var%20circle_b8068cf8ed644e73a11a1accd0742a7b%20%3D%20L.circle%28%0A%20%20%20%20%20%20%20%20%20%20%20%20%20%20%20%20%5B-15.59%2C%20-56.09%5D%2C%0A%20%20%20%20%20%20%20%20%20%20%20%20%20%20%20%20%7B%0A%20%20%22bubblingMouseEvents%22%3A%20true%2C%0A%20%20%22color%22%3A%20%22crimson%22%2C%0A%20%20%22dashArray%22%3A%20null%2C%0A%20%20%22dashOffset%22%3A%20null%2C%0A%20%20%22fill%22%3A%20true%2C%0A%20%20%22fillColor%22%3A%20%22crimson%22%2C%0A%20%20%22fillOpacity%22%3A%200.2%2C%0A%20%20%22fillRule%22%3A%20%22evenodd%22%2C%0A%20%20%22lineCap%22%3A%20%22round%22%2C%0A%20%20%22lineJoin%22%3A%20%22round%22%2C%0A%20%20%22opacity%22%3A%201.0%2C%0A%20%20%22radius%22%3A%2076500.0%2C%0A%20%20%22stroke%22%3A%20true%2C%0A%20%20%22weight%22%3A%203%0A%7D%0A%20%20%20%20%20%20%20%20%20%20%20%20%20%20%20%20%29%0A%20%20%20%20%20%20%20%20%20%20%20%20%20%20%20%20.addTo%28map_a539ba08627f46d6b1220644d0284b29%29%3B%0A%20%20%20%20%20%20%20%20%20%20%20%20%0A%20%20%20%20%0A%20%20%20%20%20%20%20%20%20%20%20%20var%20popup_e736e83ddd5b43b1bb8145f6446160cc%20%3D%20L.popup%28%7BmaxWidth%3A%20%27100%25%27%0A%20%20%20%20%20%20%20%20%20%20%20%20%0A%20%20%20%20%20%20%20%20%20%20%20%20%7D%29%3B%0A%0A%20%20%20%20%20%20%20%20%20%20%20%20%0A%20%20%20%20%20%20%20%20%20%20%20%20%20%20%20%20var%20html_d2408e66bac24704ba58ec3ec8afdd33%20%3D%20%24%28%60%3Cdiv%20id%3D%22html_d2408e66bac24704ba58ec3ec8afdd33%22%20style%3D%22width%3A%20100.0%25%3B%20height%3A%20100.0%25%3B%22%3E%3Cbr%3EESTADO%3A%20MT%3Cbr%3E%3Cbr%3EQUANTIDADE%20DE%20ACIDENTES%3A%20255%3C/div%3E%60%29%5B0%5D%3B%0A%20%20%20%20%20%20%20%20%20%20%20%20%20%20%20%20popup_e736e83ddd5b43b1bb8145f6446160cc.setContent%28html_d2408e66bac24704ba58ec3ec8afdd33%29%3B%0A%20%20%20%20%20%20%20%20%20%20%20%20%0A%0A%20%20%20%20%20%20%20%20%20%20%20%20circle_b8068cf8ed644e73a11a1accd0742a7b.bindPopup%28popup_e736e83ddd5b43b1bb8145f6446160cc%29%0A%20%20%20%20%20%20%20%20%20%20%20%20%3B%0A%0A%20%20%20%20%20%20%20%20%20%20%20%20%0A%20%20%20%20%20%20%20%20%0A%20%20%20%20%0A%0A%20%20%20%20%20%20%20%20%20%20%20%20var%20circle_f1aa72cb4e994ed5ac2a6d52bebc5fba%20%3D%20L.circle%28%0A%20%20%20%20%20%20%20%20%20%20%20%20%20%20%20%20%5B-3.1%2C%20-60.02%5D%2C%0A%20%20%20%20%20%20%20%20%20%20%20%20%20%20%20%20%7B%0A%20%20%22bubblingMouseEvents%22%3A%20true%2C%0A%20%20%22color%22%3A%20%22crimson%22%2C%0A%20%20%22dashArray%22%3A%20null%2C%0A%20%20%22dashOffset%22%3A%20null%2C%0A%20%20%22fill%22%3A%20true%2C%0A%20%20%22fillColor%22%3A%20%22crimson%22%2C%0A%20%20%22fillOpacity%22%3A%200.2%2C%0A%20%20%22fillRule%22%3A%20%22evenodd%22%2C%0A%20%20%22lineCap%22%3A%20%22round%22%2C%0A%20%20%22lineJoin%22%3A%20%22round%22%2C%0A%20%20%22opacity%22%3A%201.0%2C%0A%20%20%22radius%22%3A%2065100.0%2C%0A%20%20%22stroke%22%3A%20true%2C%0A%20%20%22weight%22%3A%203%0A%7D%0A%20%20%20%20%20%20%20%20%20%20%20%20%20%20%20%20%29%0A%20%20%20%20%20%20%20%20%20%20%20%20%20%20%20%20.addTo%28map_a539ba08627f46d6b1220644d0284b29%29%3B%0A%20%20%20%20%20%20%20%20%20%20%20%20%0A%20%20%20%20%0A%20%20%20%20%20%20%20%20%20%20%20%20var%20popup_2108f7d466514da7afa5455f22d88597%20%3D%20L.popup%28%7BmaxWidth%3A%20%27100%25%27%0A%20%20%20%20%20%20%20%20%20%20%20%20%0A%20%20%20%20%20%20%20%20%20%20%20%20%7D%29%3B%0A%0A%20%20%20%20%20%20%20%20%20%20%20%20%0A%20%20%20%20%20%20%20%20%20%20%20%20%20%20%20%20var%20html_304921add4ce41cf98e4defcc1a583be%20%3D%20%24%28%60%3Cdiv%20id%3D%22html_304921add4ce41cf98e4defcc1a583be%22%20style%3D%22width%3A%20100.0%25%3B%20height%3A%20100.0%25%3B%22%3E%3Cbr%3EESTADO%3A%20AM%3Cbr%3E%3Cbr%3EQUANTIDADE%20DE%20ACIDENTES%3A%20217%3C/div%3E%60%29%5B0%5D%3B%0A%20%20%20%20%20%20%20%20%20%20%20%20%20%20%20%20popup_2108f7d466514da7afa5455f22d88597.setContent%28html_304921add4ce41cf98e4defcc1a583be%29%3B%0A%20%20%20%20%20%20%20%20%20%20%20%20%0A%0A%20%20%20%20%20%20%20%20%20%20%20%20circle_f1aa72cb4e994ed5ac2a6d52bebc5fba.bindPopup%28popup_2108f7d466514da7afa5455f22d88597%29%0A%20%20%20%20%20%20%20%20%20%20%20%20%3B%0A%0A%20%20%20%20%20%20%20%20%20%20%20%20%0A%20%20%20%20%20%20%20%20%0A%20%20%20%20%0A%0A%20%20%20%20%20%20%20%20%20%20%20%20var%20circle_40646d88d929441e8a13bfd3a50b753f%20%3D%20L.circle%28%0A%20%20%20%20%20%20%20%20%20%20%20%20%20%20%20%20%5B-12.97%2C%20-38.51%5D%2C%0A%20%20%20%20%20%20%20%20%20%20%20%20%20%20%20%20%7B%0A%20%20%22bubblingMouseEvents%22%3A%20true%2C%0A%20%20%22color%22%3A%20%22crimson%22%2C%0A%20%20%22dashArray%22%3A%20null%2C%0A%20%20%22dashOffset%22%3A%20null%2C%0A%20%20%22fill%22%3A%20true%2C%0A%20%20%22fillColor%22%3A%20%22crimson%22%2C%0A%20%20%22fillOpacity%22%3A%200.2%2C%0A%20%20%22fillRule%22%3A%20%22evenodd%22%2C%0A%20%20%22lineCap%22%3A%20%22round%22%2C%0A%20%20%22lineJoin%22%3A%20%22round%22%2C%0A%20%20%22opacity%22%3A%201.0%2C%0A%20%20%22radius%22%3A%2060000.0%2C%0A%20%20%22stroke%22%3A%20true%2C%0A%20%20%22weight%22%3A%203%0A%7D%0A%20%20%20%20%20%20%20%20%20%20%20%20%20%20%20%20%29%0A%20%20%20%20%20%20%20%20%20%20%20%20%20%20%20%20.addTo%28map_a539ba08627f46d6b1220644d0284b29%29%3B%0A%20%20%20%20%20%20%20%20%20%20%20%20%0A%20%20%20%20%0A%20%20%20%20%20%20%20%20%20%20%20%20var%20popup_c9a9fa80b8254e8ea6186305058f5b25%20%3D%20L.popup%28%7BmaxWidth%3A%20%27100%25%27%0A%20%20%20%20%20%20%20%20%20%20%20%20%0A%20%20%20%20%20%20%20%20%20%20%20%20%7D%29%3B%0A%0A%20%20%20%20%20%20%20%20%20%20%20%20%0A%20%20%20%20%20%20%20%20%20%20%20%20%20%20%20%20var%20html_b9802dbe407040dbbf3940c757de7eb7%20%3D%20%24%28%60%3Cdiv%20id%3D%22html_b9802dbe407040dbbf3940c757de7eb7%22%20style%3D%22width%3A%20100.0%25%3B%20height%3A%20100.0%25%3B%22%3E%3Cbr%3EESTADO%3A%20BA%3Cbr%3E%3Cbr%3EQUANTIDADE%20DE%20ACIDENTES%3A%20200%3C/div%3E%60%29%5B0%5D%3B%0A%20%20%20%20%20%20%20%20%20%20%20%20%20%20%20%20popup_c9a9fa80b8254e8ea6186305058f5b25.setContent%28html_b9802dbe407040dbbf3940c757de7eb7%29%3B%0A%20%20%20%20%20%20%20%20%20%20%20%20%0A%0A%20%20%20%20%20%20%20%20%20%20%20%20circle_40646d88d929441e8a13bfd3a50b753f.bindPopup%28popup_c9a9fa80b8254e8ea6186305058f5b25%29%0A%20%20%20%20%20%20%20%20%20%20%20%20%3B%0A%0A%20%20%20%20%20%20%20%20%20%20%20%20%0A%20%20%20%20%20%20%20%20%0A%20%20%20%20%0A%0A%20%20%20%20%20%20%20%20%20%20%20%20var%20circle_2e348a631a37458f8bf7641eefc5e796%20%3D%20L.circle%28%0A%20%20%20%20%20%20%20%20%20%20%20%20%20%20%20%20%5B-27.59%2C%20-48.54%5D%2C%0A%20%20%20%20%20%20%20%20%20%20%20%20%20%20%20%20%7B%0A%20%20%22bubblingMouseEvents%22%3A%20true%2C%0A%20%20%22color%22%3A%20%22crimson%22%2C%0A%20%20%22dashArray%22%3A%20null%2C%0A%20%20%22dashOffset%22%3A%20null%2C%0A%20%20%22fill%22%3A%20true%2C%0A%20%20%22fillColor%22%3A%20%22crimson%22%2C%0A%20%20%22fillOpacity%22%3A%200.2%2C%0A%20%20%22fillRule%22%3A%20%22evenodd%22%2C%0A%20%20%22lineCap%22%3A%20%22round%22%2C%0A%20%20%22lineJoin%22%3A%20%22round%22%2C%0A%20%20%22opacity%22%3A%201.0%2C%0A%20%20%22radius%22%3A%2049800.0%2C%0A%20%20%22stroke%22%3A%20true%2C%0A%20%20%22weight%22%3A%203%0A%7D%0A%20%20%20%20%20%20%20%20%20%20%20%20%20%20%20%20%29%0A%20%20%20%20%20%20%20%20%20%20%20%20%20%20%20%20.addTo%28map_a539ba08627f46d6b1220644d0284b29%29%3B%0A%20%20%20%20%20%20%20%20%20%20%20%20%0A%20%20%20%20%0A%20%20%20%20%20%20%20%20%20%20%20%20var%20popup_07899d6a9b8748388b8dc7048562f148%20%3D%20L.popup%28%7BmaxWidth%3A%20%27100%25%27%0A%20%20%20%20%20%20%20%20%20%20%20%20%0A%20%20%20%20%20%20%20%20%20%20%20%20%7D%29%3B%0A%0A%20%20%20%20%20%20%20%20%20%20%20%20%0A%20%20%20%20%20%20%20%20%20%20%20%20%20%20%20%20var%20html_f055c71f87904b2f8b6ed24ff9c83ee2%20%3D%20%24%28%60%3Cdiv%20id%3D%22html_f055c71f87904b2f8b6ed24ff9c83ee2%22%20style%3D%22width%3A%20100.0%25%3B%20height%3A%20100.0%25%3B%22%3E%3Cbr%3EESTADO%3A%20SC%3Cbr%3E%3Cbr%3EQUANTIDADE%20DE%20ACIDENTES%3A%20166%3C/div%3E%60%29%5B0%5D%3B%0A%20%20%20%20%20%20%20%20%20%20%20%20%20%20%20%20popup_07899d6a9b8748388b8dc7048562f148.setContent%28html_f055c71f87904b2f8b6ed24ff9c83ee2%29%3B%0A%20%20%20%20%20%20%20%20%20%20%20%20%0A%0A%20%20%20%20%20%20%20%20%20%20%20%20circle_2e348a631a37458f8bf7641eefc5e796.bindPopup%28popup_07899d6a9b8748388b8dc7048562f148%29%0A%20%20%20%20%20%20%20%20%20%20%20%20%3B%0A%0A%20%20%20%20%20%20%20%20%20%20%20%20%0A%20%20%20%20%20%20%20%20%0A%20%20%20%20%0A%0A%20%20%20%20%20%20%20%20%20%20%20%20var%20circle_7e8d7177891b4bcbbddb400a01d99d96%20%3D%20L.circle%28%0A%20%20%20%20%20%20%20%20%20%20%20%20%20%20%20%20%5B-15.78%2C%20-47.93%5D%2C%0A%20%20%20%20%20%20%20%20%20%20%20%20%20%20%20%20%7B%0A%20%20%22bubblingMouseEvents%22%3A%20true%2C%0A%20%20%22color%22%3A%20%22crimson%22%2C%0A%20%20%22dashArray%22%3A%20null%2C%0A%20%20%22dashOffset%22%3A%20null%2C%0A%20%20%22fill%22%3A%20true%2C%0A%20%20%22fillColor%22%3A%20%22crimson%22%2C%0A%20%20%22fillOpacity%22%3A%200.2%2C%0A%20%20%22fillRule%22%3A%20%22evenodd%22%2C%0A%20%20%22lineCap%22%3A%20%22round%22%2C%0A%20%20%22lineJoin%22%3A%20%22round%22%2C%0A%20%20%22opacity%22%3A%201.0%2C%0A%20%20%22radius%22%3A%2038700.0%2C%0A%20%20%22stroke%22%3A%20true%2C%0A%20%20%22weight%22%3A%203%0A%7D%0A%20%20%20%20%20%20%20%20%20%20%20%20%20%20%20%20%29%0A%20%20%20%20%20%20%20%20%20%20%20%20%20%20%20%20.addTo%28map_a539ba08627f46d6b1220644d0284b29%29%3B%0A%20%20%20%20%20%20%20%20%20%20%20%20%0A%20%20%20%20%0A%20%20%20%20%20%20%20%20%20%20%20%20var%20popup_72b5831b72c646ae861cef5ed7dcf33e%20%3D%20L.popup%28%7BmaxWidth%3A%20%27100%25%27%0A%20%20%20%20%20%20%20%20%20%20%20%20%0A%20%20%20%20%20%20%20%20%20%20%20%20%7D%29%3B%0A%0A%20%20%20%20%20%20%20%20%20%20%20%20%0A%20%20%20%20%20%20%20%20%20%20%20%20%20%20%20%20var%20html_b6d323000e674b7fa2a1cdc960a8ed17%20%3D%20%24%28%60%3Cdiv%20id%3D%22html_b6d323000e674b7fa2a1cdc960a8ed17%22%20style%3D%22width%3A%20100.0%25%3B%20height%3A%20100.0%25%3B%22%3E%3Cbr%3EESTADO%3A%20DF%3Cbr%3E%3Cbr%3EQUANTIDADE%20DE%20ACIDENTES%3A%20129%3C/div%3E%60%29%5B0%5D%3B%0A%20%20%20%20%20%20%20%20%20%20%20%20%20%20%20%20popup_72b5831b72c646ae861cef5ed7dcf33e.setContent%28html_b6d323000e674b7fa2a1cdc960a8ed17%29%3B%0A%20%20%20%20%20%20%20%20%20%20%20%20%0A%0A%20%20%20%20%20%20%20%20%20%20%20%20circle_7e8d7177891b4bcbbddb400a01d99d96.bindPopup%28popup_72b5831b72c646ae861cef5ed7dcf33e%29%0A%20%20%20%20%20%20%20%20%20%20%20%20%3B%0A%0A%20%20%20%20%20%20%20%20%20%20%20%20%0A%20%20%20%20%20%20%20%20%0A%20%20%20%20%0A%0A%20%20%20%20%20%20%20%20%20%20%20%20var%20circle_21b6307b8d534614be320f973f424e28%20%3D%20L.circle%28%0A%20%20%20%20%20%20%20%20%20%20%20%20%20%20%20%20%5B-20.44%2C%20-54.64%5D%2C%0A%20%20%20%20%20%20%20%20%20%20%20%20%20%20%20%20%7B%0A%20%20%22bubblingMouseEvents%22%3A%20true%2C%0A%20%20%22color%22%3A%20%22crimson%22%2C%0A%20%20%22dashArray%22%3A%20null%2C%0A%20%20%22dashOffset%22%3A%20null%2C%0A%20%20%22fill%22%3A%20true%2C%0A%20%20%22fillColor%22%3A%20%22crimson%22%2C%0A%20%20%22fillOpacity%22%3A%200.2%2C%0A%20%20%22fillRule%22%3A%20%22evenodd%22%2C%0A%20%20%22lineCap%22%3A%20%22round%22%2C%0A%20%20%22lineJoin%22%3A%20%22round%22%2C%0A%20%20%22opacity%22%3A%201.0%2C%0A%20%20%22radius%22%3A%2039600.0%2C%0A%20%20%22stroke%22%3A%20true%2C%0A%20%20%22weight%22%3A%203%0A%7D%0A%20%20%20%20%20%20%20%20%20%20%20%20%20%20%20%20%29%0A%20%20%20%20%20%20%20%20%20%20%20%20%20%20%20%20.addTo%28map_a539ba08627f46d6b1220644d0284b29%29%3B%0A%20%20%20%20%20%20%20%20%20%20%20%20%0A%20%20%20%20%0A%20%20%20%20%20%20%20%20%20%20%20%20var%20popup_9b19e6f86fac4dee8847890512a8162a%20%3D%20L.popup%28%7BmaxWidth%3A%20%27100%25%27%0A%20%20%20%20%20%20%20%20%20%20%20%20%0A%20%20%20%20%20%20%20%20%20%20%20%20%7D%29%3B%0A%0A%20%20%20%20%20%20%20%20%20%20%20%20%0A%20%20%20%20%20%20%20%20%20%20%20%20%20%20%20%20var%20html_e65a42d89cea4c9ab591853dbb05f5ae%20%3D%20%24%28%60%3Cdiv%20id%3D%22html_e65a42d89cea4c9ab591853dbb05f5ae%22%20style%3D%22width%3A%20100.0%25%3B%20height%3A%20100.0%25%3B%22%3E%3Cbr%3EESTADO%3A%20MS%3Cbr%3E%3Cbr%3EQUANTIDADE%20DE%20ACIDENTES%3A%20132%3C/div%3E%60%29%5B0%5D%3B%0A%20%20%20%20%20%20%20%20%20%20%20%20%20%20%20%20popup_9b19e6f86fac4dee8847890512a8162a.setContent%28html_e65a42d89cea4c9ab591853dbb05f5ae%29%3B%0A%20%20%20%20%20%20%20%20%20%20%20%20%0A%0A%20%20%20%20%20%20%20%20%20%20%20%20circle_21b6307b8d534614be320f973f424e28.bindPopup%28popup_9b19e6f86fac4dee8847890512a8162a%29%0A%20%20%20%20%20%20%20%20%20%20%20%20%3B%0A%0A%20%20%20%20%20%20%20%20%20%20%20%20%0A%20%20%20%20%20%20%20%20%0A%20%20%20%20%0A%0A%20%20%20%20%20%20%20%20%20%20%20%20var%20circle_836f236e94bd42a79f85bb6b5be88f1c%20%3D%20L.circle%28%0A%20%20%20%20%20%20%20%20%20%20%20%20%20%20%20%20%5B-8.05%2C%20-34.88%5D%2C%0A%20%20%20%20%20%20%20%20%20%20%20%20%20%20%20%20%7B%0A%20%20%22bubblingMouseEvents%22%3A%20true%2C%0A%20%20%22color%22%3A%20%22crimson%22%2C%0A%20%20%22dashArray%22%3A%20null%2C%0A%20%20%22dashOffset%22%3A%20null%2C%0A%20%20%22fill%22%3A%20true%2C%0A%20%20%22fillColor%22%3A%20%22crimson%22%2C%0A%20%20%22fillOpacity%22%3A%200.2%2C%0A%20%20%22fillRule%22%3A%20%22evenodd%22%2C%0A%20%20%22lineCap%22%3A%20%22round%22%2C%0A%20%20%22lineJoin%22%3A%20%22round%22%2C%0A%20%20%22opacity%22%3A%201.0%2C%0A%20%20%22radius%22%3A%2027000.0%2C%0A%20%20%22stroke%22%3A%20true%2C%0A%20%20%22weight%22%3A%203%0A%7D%0A%20%20%20%20%20%20%20%20%20%20%20%20%20%20%20%20%29%0A%20%20%20%20%20%20%20%20%20%20%20%20%20%20%20%20.addTo%28map_a539ba08627f46d6b1220644d0284b29%29%3B%0A%20%20%20%20%20%20%20%20%20%20%20%20%0A%20%20%20%20%0A%20%20%20%20%20%20%20%20%20%20%20%20var%20popup_d23c87b55d944526915d4ad1166a1c93%20%3D%20L.popup%28%7BmaxWidth%3A%20%27100%25%27%0A%20%20%20%20%20%20%20%20%20%20%20%20%0A%20%20%20%20%20%20%20%20%20%20%20%20%7D%29%3B%0A%0A%20%20%20%20%20%20%20%20%20%20%20%20%0A%20%20%20%20%20%20%20%20%20%20%20%20%20%20%20%20var%20html_3b418cfbfacf448185588094e4a189c8%20%3D%20%24%28%60%3Cdiv%20id%3D%22html_3b418cfbfacf448185588094e4a189c8%22%20style%3D%22width%3A%20100.0%25%3B%20height%3A%20100.0%25%3B%22%3E%3Cbr%3EESTADO%3A%20PE%3Cbr%3E%3Cbr%3EQUANTIDADE%20DE%20ACIDENTES%3A%2090%3C/div%3E%60%29%5B0%5D%3B%0A%20%20%20%20%20%20%20%20%20%20%20%20%20%20%20%20popup_d23c87b55d944526915d4ad1166a1c93.setContent%28html_3b418cfbfacf448185588094e4a189c8%29%3B%0A%20%20%20%20%20%20%20%20%20%20%20%20%0A%0A%20%20%20%20%20%20%20%20%20%20%20%20circle_836f236e94bd42a79f85bb6b5be88f1c.bindPopup%28popup_d23c87b55d944526915d4ad1166a1c93%29%0A%20%20%20%20%20%20%20%20%20%20%20%20%3B%0A%0A%20%20%20%20%20%20%20%20%20%20%20%20%0A%20%20%20%20%20%20%20%20%0A%20%20%20%20%0A%0A%20%20%20%20%20%20%20%20%20%20%20%20var%20circle_511bb3044ff84498a48043b2efd1a3bd%20%3D%20L.circle%28%0A%20%20%20%20%20%20%20%20%20%20%20%20%20%20%20%20%5B-3.71%2C%20-38.54%5D%2C%0A%20%20%20%20%20%20%20%20%20%20%20%20%20%20%20%20%7B%0A%20%20%22bubblingMouseEvents%22%3A%20true%2C%0A%20%20%22color%22%3A%20%22crimson%22%2C%0A%20%20%22dashArray%22%3A%20null%2C%0A%20%20%22dashOffset%22%3A%20null%2C%0A%20%20%22fill%22%3A%20true%2C%0A%20%20%22fillColor%22%3A%20%22crimson%22%2C%0A%20%20%22fillOpacity%22%3A%200.2%2C%0A%20%20%22fillRule%22%3A%20%22evenodd%22%2C%0A%20%20%22lineCap%22%3A%20%22round%22%2C%0A%20%20%22lineJoin%22%3A%20%22round%22%2C%0A%20%20%22opacity%22%3A%201.0%2C%0A%20%20%22radius%22%3A%2023400.0%2C%0A%20%20%22stroke%22%3A%20true%2C%0A%20%20%22weight%22%3A%203%0A%7D%0A%20%20%20%20%20%20%20%20%20%20%20%20%20%20%20%20%29%0A%20%20%20%20%20%20%20%20%20%20%20%20%20%20%20%20.addTo%28map_a539ba08627f46d6b1220644d0284b29%29%3B%0A%20%20%20%20%20%20%20%20%20%20%20%20%0A%20%20%20%20%0A%20%20%20%20%20%20%20%20%20%20%20%20var%20popup_e00b1e7235cc42e7ba39e0169fee28a8%20%3D%20L.popup%28%7BmaxWidth%3A%20%27100%25%27%0A%20%20%20%20%20%20%20%20%20%20%20%20%0A%20%20%20%20%20%20%20%20%20%20%20%20%7D%29%3B%0A%0A%20%20%20%20%20%20%20%20%20%20%20%20%0A%20%20%20%20%20%20%20%20%20%20%20%20%20%20%20%20var%20html_fcd0406664104948bb98f2c7e938c4e1%20%3D%20%24%28%60%3Cdiv%20id%3D%22html_fcd0406664104948bb98f2c7e938c4e1%22%20style%3D%22width%3A%20100.0%25%3B%20height%3A%20100.0%25%3B%22%3E%3Cbr%3EESTADO%3A%20CE%3Cbr%3E%3Cbr%3EQUANTIDADE%20DE%20ACIDENTES%3A%2078%3C/div%3E%60%29%5B0%5D%3B%0A%20%20%20%20%20%20%20%20%20%20%20%20%20%20%20%20popup_e00b1e7235cc42e7ba39e0169fee28a8.setContent%28html_fcd0406664104948bb98f2c7e938c4e1%29%3B%0A%20%20%20%20%20%20%20%20%20%20%20%20%0A%0A%20%20%20%20%20%20%20%20%20%20%20%20circle_511bb3044ff84498a48043b2efd1a3bd.bindPopup%28popup_e00b1e7235cc42e7ba39e0169fee28a8%29%0A%20%20%20%20%20%20%20%20%20%20%20%20%3B%0A%0A%20%20%20%20%20%20%20%20%20%20%20%20%0A%20%20%20%20%20%20%20%20%0A%20%20%20%20%0A%0A%20%20%20%20%20%20%20%20%20%20%20%20var%20circle_0bc8933bc4fa4c64b3c84f67e66e17e9%20%3D%20L.circle%28%0A%20%20%20%20%20%20%20%20%20%20%20%20%20%20%20%20%5B-20.31%2C%20-40.33%5D%2C%0A%20%20%20%20%20%20%20%20%20%20%20%20%20%20%20%20%7B%0A%20%20%22bubblingMouseEvents%22%3A%20true%2C%0A%20%20%22color%22%3A%20%22crimson%22%2C%0A%20%20%22dashArray%22%3A%20null%2C%0A%20%20%22dashOffset%22%3A%20null%2C%0A%20%20%22fill%22%3A%20true%2C%0A%20%20%22fillColor%22%3A%20%22crimson%22%2C%0A%20%20%22fillOpacity%22%3A%200.2%2C%0A%20%20%22fillRule%22%3A%20%22evenodd%22%2C%0A%20%20%22lineCap%22%3A%20%22round%22%2C%0A%20%20%22lineJoin%22%3A%20%22round%22%2C%0A%20%20%22opacity%22%3A%201.0%2C%0A%20%20%22radius%22%3A%2021000.0%2C%0A%20%20%22stroke%22%3A%20true%2C%0A%20%20%22weight%22%3A%203%0A%7D%0A%20%20%20%20%20%20%20%20%20%20%20%20%20%20%20%20%29%0A%20%20%20%20%20%20%20%20%20%20%20%20%20%20%20%20.addTo%28map_a539ba08627f46d6b1220644d0284b29%29%3B%0A%20%20%20%20%20%20%20%20%20%20%20%20%0A%20%20%20%20%0A%20%20%20%20%20%20%20%20%20%20%20%20var%20popup_7c597d23827e44278019b7ac01f8c723%20%3D%20L.popup%28%7BmaxWidth%3A%20%27100%25%27%0A%20%20%20%20%20%20%20%20%20%20%20%20%0A%20%20%20%20%20%20%20%20%20%20%20%20%7D%29%3B%0A%0A%20%20%20%20%20%20%20%20%20%20%20%20%0A%20%20%20%20%20%20%20%20%20%20%20%20%20%20%20%20var%20html_d9dc4c7f5c7745dfa9ebab765c445a2c%20%3D%20%24%28%60%3Cdiv%20id%3D%22html_d9dc4c7f5c7745dfa9ebab765c445a2c%22%20style%3D%22width%3A%20100.0%25%3B%20height%3A%20100.0%25%3B%22%3E%3Cbr%3EESTADO%3A%20ES%3Cbr%3E%3Cbr%3EQUANTIDADE%20DE%20ACIDENTES%3A%2070%3C/div%3E%60%29%5B0%5D%3B%0A%20%20%20%20%20%20%20%20%20%20%20%20%20%20%20%20popup_7c597d23827e44278019b7ac01f8c723.setContent%28html_d9dc4c7f5c7745dfa9ebab765c445a2c%29%3B%0A%20%20%20%20%20%20%20%20%20%20%20%20%0A%0A%20%20%20%20%20%20%20%20%20%20%20%20circle_0bc8933bc4fa4c64b3c84f67e66e17e9.bindPopup%28popup_7c597d23827e44278019b7ac01f8c723%29%0A%20%20%20%20%20%20%20%20%20%20%20%20%3B%0A%0A%20%20%20%20%20%20%20%20%20%20%20%20%0A%20%20%20%20%20%20%20%20%0A%20%20%20%20%0A%0A%20%20%20%20%20%20%20%20%20%20%20%20var%20circle_b5fb77117d5842eca8d09e3e8af55f69%20%3D%20L.circle%28%0A%20%20%20%20%20%20%20%20%20%20%20%20%20%20%20%20%5B-2.53%2C%20-44.3%5D%2C%0A%20%20%20%20%20%20%20%20%20%20%20%20%20%20%20%20%7B%0A%20%20%22bubblingMouseEvents%22%3A%20true%2C%0A%20%20%22color%22%3A%20%22crimson%22%2C%0A%20%20%22dashArray%22%3A%20null%2C%0A%20%20%22dashOffset%22%3A%20null%2C%0A%20%20%22fill%22%3A%20true%2C%0A%20%20%22fillColor%22%3A%20%22crimson%22%2C%0A%20%20%22fillOpacity%22%3A%200.2%2C%0A%20%20%22fillRule%22%3A%20%22evenodd%22%2C%0A%20%20%22lineCap%22%3A%20%22round%22%2C%0A%20%20%22lineJoin%22%3A%20%22round%22%2C%0A%20%20%22opacity%22%3A%201.0%2C%0A%20%20%22radius%22%3A%2020400.0%2C%0A%20%20%22stroke%22%3A%20true%2C%0A%20%20%22weight%22%3A%203%0A%7D%0A%20%20%20%20%20%20%20%20%20%20%20%20%20%20%20%20%29%0A%20%20%20%20%20%20%20%20%20%20%20%20%20%20%20%20.addTo%28map_a539ba08627f46d6b1220644d0284b29%29%3B%0A%20%20%20%20%20%20%20%20%20%20%20%20%0A%20%20%20%20%0A%20%20%20%20%20%20%20%20%20%20%20%20var%20popup_68aa4ca10fae451a8798ce5588ec9030%20%3D%20L.popup%28%7BmaxWidth%3A%20%27100%25%27%0A%20%20%20%20%20%20%20%20%20%20%20%20%0A%20%20%20%20%20%20%20%20%20%20%20%20%7D%29%3B%0A%0A%20%20%20%20%20%20%20%20%20%20%20%20%0A%20%20%20%20%20%20%20%20%20%20%20%20%20%20%20%20var%20html_ea1822757a374fde904006cc6544bf47%20%3D%20%24%28%60%3Cdiv%20id%3D%22html_ea1822757a374fde904006cc6544bf47%22%20style%3D%22width%3A%20100.0%25%3B%20height%3A%20100.0%25%3B%22%3E%3Cbr%3EESTADO%3A%20MA%3Cbr%3E%3Cbr%3EQUANTIDADE%20DE%20ACIDENTES%3A%2068%3C/div%3E%60%29%5B0%5D%3B%0A%20%20%20%20%20%20%20%20%20%20%20%20%20%20%20%20popup_68aa4ca10fae451a8798ce5588ec9030.setContent%28html_ea1822757a374fde904006cc6544bf47%29%3B%0A%20%20%20%20%20%20%20%20%20%20%20%20%0A%0A%20%20%20%20%20%20%20%20%20%20%20%20circle_b5fb77117d5842eca8d09e3e8af55f69.bindPopup%28popup_68aa4ca10fae451a8798ce5588ec9030%29%0A%20%20%20%20%20%20%20%20%20%20%20%20%3B%0A%0A%20%20%20%20%20%20%20%20%20%20%20%20%0A%20%20%20%20%20%20%20%20%0A%20%20%20%20%0A%0A%20%20%20%20%20%20%20%20%20%20%20%20var%20circle_e00a7e6d6cca414781d2350d19956fda%20%3D%20L.circle%28%0A%20%20%20%20%20%20%20%20%20%20%20%20%20%20%20%20%5B-9.97%2C%20-67.81%5D%2C%0A%20%20%20%20%20%20%20%20%20%20%20%20%20%20%20%20%7B%0A%20%20%22bubblingMouseEvents%22%3A%20true%2C%0A%20%20%22color%22%3A%20%22crimson%22%2C%0A%20%20%22dashArray%22%3A%20null%2C%0A%20%20%22dashOffset%22%3A%20null%2C%0A%20%20%22fill%22%3A%20true%2C%0A%20%20%22fillColor%22%3A%20%22crimson%22%2C%0A%20%20%22fillOpacity%22%3A%200.2%2C%0A%20%20%22fillRule%22%3A%20%22evenodd%22%2C%0A%20%20%22lineCap%22%3A%20%22round%22%2C%0A%20%20%22lineJoin%22%3A%20%22round%22%2C%0A%20%20%22opacity%22%3A%201.0%2C%0A%20%20%22radius%22%3A%2016200.0%2C%0A%20%20%22stroke%22%3A%20true%2C%0A%20%20%22weight%22%3A%203%0A%7D%0A%20%20%20%20%20%20%20%20%20%20%20%20%20%20%20%20%29%0A%20%20%20%20%20%20%20%20%20%20%20%20%20%20%20%20.addTo%28map_a539ba08627f46d6b1220644d0284b29%29%3B%0A%20%20%20%20%20%20%20%20%20%20%20%20%0A%20%20%20%20%0A%20%20%20%20%20%20%20%20%20%20%20%20var%20popup_1e7f76f2f5934da2b6c82075f3add211%20%3D%20L.popup%28%7BmaxWidth%3A%20%27100%25%27%0A%20%20%20%20%20%20%20%20%20%20%20%20%0A%20%20%20%20%20%20%20%20%20%20%20%20%7D%29%3B%0A%0A%20%20%20%20%20%20%20%20%20%20%20%20%0A%20%20%20%20%20%20%20%20%20%20%20%20%20%20%20%20var%20html_0d2d767512124f04bd3e2907c4ffd53e%20%3D%20%24%28%60%3Cdiv%20id%3D%22html_0d2d767512124f04bd3e2907c4ffd53e%22%20style%3D%22width%3A%20100.0%25%3B%20height%3A%20100.0%25%3B%22%3E%3Cbr%3EESTADO%3A%20AC%3Cbr%3E%3Cbr%3EQUANTIDADE%20DE%20ACIDENTES%3A%2054%3C/div%3E%60%29%5B0%5D%3B%0A%20%20%20%20%20%20%20%20%20%20%20%20%20%20%20%20popup_1e7f76f2f5934da2b6c82075f3add211.setContent%28html_0d2d767512124f04bd3e2907c4ffd53e%29%3B%0A%20%20%20%20%20%20%20%20%20%20%20%20%0A%0A%20%20%20%20%20%20%20%20%20%20%20%20circle_e00a7e6d6cca414781d2350d19956fda.bindPopup%28popup_1e7f76f2f5934da2b6c82075f3add211%29%0A%20%20%20%20%20%20%20%20%20%20%20%20%3B%0A%0A%20%20%20%20%20%20%20%20%20%20%20%20%0A%20%20%20%20%20%20%20%20%0A%20%20%20%20%0A%0A%20%20%20%20%20%20%20%20%20%20%20%20var%20circle_e58827549cca464bbffe1c5721464393%20%3D%20L.circle%28%0A%20%20%20%20%20%20%20%20%20%20%20%20%20%20%20%20%5B-10.16%2C%20-48.33%5D%2C%0A%20%20%20%20%20%20%20%20%20%20%20%20%20%20%20%20%7B%0A%20%20%22bubblingMouseEvents%22%3A%20true%2C%0A%20%20%22color%22%3A%20%22crimson%22%2C%0A%20%20%22dashArray%22%3A%20null%2C%0A%20%20%22dashOffset%22%3A%20null%2C%0A%20%20%22fill%22%3A%20true%2C%0A%20%20%22fillColor%22%3A%20%22crimson%22%2C%0A%20%20%22fillOpacity%22%3A%200.2%2C%0A%20%20%22fillRule%22%3A%20%22evenodd%22%2C%0A%20%20%22lineCap%22%3A%20%22round%22%2C%0A%20%20%22lineJoin%22%3A%20%22round%22%2C%0A%20%20%22opacity%22%3A%201.0%2C%0A%20%20%22radius%22%3A%2013800.0%2C%0A%20%20%22stroke%22%3A%20true%2C%0A%20%20%22weight%22%3A%203%0A%7D%0A%20%20%20%20%20%20%20%20%20%20%20%20%20%20%20%20%29%0A%20%20%20%20%20%20%20%20%20%20%20%20%20%20%20%20.addTo%28map_a539ba08627f46d6b1220644d0284b29%29%3B%0A%20%20%20%20%20%20%20%20%20%20%20%20%0A%20%20%20%20%0A%20%20%20%20%20%20%20%20%20%20%20%20var%20popup_ae36aa15dc3f484da13dc96a779cf2a6%20%3D%20L.popup%28%7BmaxWidth%3A%20%27100%25%27%0A%20%20%20%20%20%20%20%20%20%20%20%20%0A%20%20%20%20%20%20%20%20%20%20%20%20%7D%29%3B%0A%0A%20%20%20%20%20%20%20%20%20%20%20%20%0A%20%20%20%20%20%20%20%20%20%20%20%20%20%20%20%20var%20html_edd73699cfc945748d9d83846b030489%20%3D%20%24%28%60%3Cdiv%20id%3D%22html_edd73699cfc945748d9d83846b030489%22%20style%3D%22width%3A%20100.0%25%3B%20height%3A%20100.0%25%3B%22%3E%3Cbr%3EESTADO%3A%20TO%3Cbr%3E%3Cbr%3EQUANTIDADE%20DE%20ACIDENTES%3A%2046%3C/div%3E%60%29%5B0%5D%3B%0A%20%20%20%20%20%20%20%20%20%20%20%20%20%20%20%20popup_ae36aa15dc3f484da13dc96a779cf2a6.setContent%28html_edd73699cfc945748d9d83846b030489%29%3B%0A%20%20%20%20%20%20%20%20%20%20%20%20%0A%0A%20%20%20%20%20%20%20%20%20%20%20%20circle_e58827549cca464bbffe1c5721464393.bindPopup%28popup_ae36aa15dc3f484da13dc96a779cf2a6%29%0A%20%20%20%20%20%20%20%20%20%20%20%20%3B%0A%0A%20%20%20%20%20%20%20%20%20%20%20%20%0A%20%20%20%20%20%20%20%20%0A%20%20%20%20%0A%0A%20%20%20%20%20%20%20%20%20%20%20%20var%20circle_6060662e53a4403aba9424d4255a5431%20%3D%20L.circle%28%0A%20%20%20%20%20%20%20%20%20%20%20%20%20%20%20%20%5B2.82%2C%20-60.67%5D%2C%0A%20%20%20%20%20%20%20%20%20%20%20%20%20%20%20%20%7B%0A%20%20%22bubblingMouseEvents%22%3A%20true%2C%0A%20%20%22color%22%3A%20%22crimson%22%2C%0A%20%20%22dashArray%22%3A%20null%2C%0A%20%20%22dashOffset%22%3A%20null%2C%0A%20%20%22fill%22%3A%20true%2C%0A%20%20%22fillColor%22%3A%20%22crimson%22%2C%0A%20%20%22fillOpacity%22%3A%200.2%2C%0A%20%20%22fillRule%22%3A%20%22evenodd%22%2C%0A%20%20%22lineCap%22%3A%20%22round%22%2C%0A%20%20%22lineJoin%22%3A%20%22round%22%2C%0A%20%20%22opacity%22%3A%201.0%2C%0A%20%20%22radius%22%3A%2014700.0%2C%0A%20%20%22stroke%22%3A%20true%2C%0A%20%20%22weight%22%3A%203%0A%7D%0A%20%20%20%20%20%20%20%20%20%20%20%20%20%20%20%20%29%0A%20%20%20%20%20%20%20%20%20%20%20%20%20%20%20%20.addTo%28map_a539ba08627f46d6b1220644d0284b29%29%3B%0A%20%20%20%20%20%20%20%20%20%20%20%20%0A%20%20%20%20%0A%20%20%20%20%20%20%20%20%20%20%20%20var%20popup_aaefb6189ccd4b27a1b2888ab7ae5880%20%3D%20L.popup%28%7BmaxWidth%3A%20%27100%25%27%0A%20%20%20%20%20%20%20%20%20%20%20%20%0A%20%20%20%20%20%20%20%20%20%20%20%20%7D%29%3B%0A%0A%20%20%20%20%20%20%20%20%20%20%20%20%0A%20%20%20%20%20%20%20%20%20%20%20%20%20%20%20%20var%20html_076ca1811d8d41ca8e156548dde1ab6b%20%3D%20%24%28%60%3Cdiv%20id%3D%22html_076ca1811d8d41ca8e156548dde1ab6b%22%20style%3D%22width%3A%20100.0%25%3B%20height%3A%20100.0%25%3B%22%3E%3Cbr%3EESTADO%3A%20RR%3Cbr%3E%3Cbr%3EQUANTIDADE%20DE%20ACIDENTES%3A%2049%3C/div%3E%60%29%5B0%5D%3B%0A%20%20%20%20%20%20%20%20%20%20%20%20%20%20%20%20popup_aaefb6189ccd4b27a1b2888ab7ae5880.setContent%28html_076ca1811d8d41ca8e156548dde1ab6b%29%3B%0A%20%20%20%20%20%20%20%20%20%20%20%20%0A%0A%20%20%20%20%20%20%20%20%20%20%20%20circle_6060662e53a4403aba9424d4255a5431.bindPopup%28popup_aaefb6189ccd4b27a1b2888ab7ae5880%29%0A%20%20%20%20%20%20%20%20%20%20%20%20%3B%0A%0A%20%20%20%20%20%20%20%20%20%20%20%20%0A%20%20%20%20%20%20%20%20%0A%20%20%20%20%0A%0A%20%20%20%20%20%20%20%20%20%20%20%20var%20circle_ef2707a0f4284d9b8659bf64c2c14907%20%3D%20L.circle%28%0A%20%20%20%20%20%20%20%20%20%20%20%20%20%20%20%20%5B-5.08%2C%20-42.8%5D%2C%0A%20%20%20%20%20%20%20%20%20%20%20%20%20%20%20%20%7B%0A%20%20%22bubblingMouseEvents%22%3A%20true%2C%0A%20%20%22color%22%3A%20%22crimson%22%2C%0A%20%20%22dashArray%22%3A%20null%2C%0A%20%20%22dashOffset%22%3A%20null%2C%0A%20%20%22fill%22%3A%20true%2C%0A%20%20%22fillColor%22%3A%20%22crimson%22%2C%0A%20%20%22fillOpacity%22%3A%200.2%2C%0A%20%20%22fillRule%22%3A%20%22evenodd%22%2C%0A%20%20%22lineCap%22%3A%20%22round%22%2C%0A%20%20%22lineJoin%22%3A%20%22round%22%2C%0A%20%20%22opacity%22%3A%201.0%2C%0A%20%20%22radius%22%3A%2010800.0%2C%0A%20%20%22stroke%22%3A%20true%2C%0A%20%20%22weight%22%3A%203%0A%7D%0A%20%20%20%20%20%20%20%20%20%20%20%20%20%20%20%20%29%0A%20%20%20%20%20%20%20%20%20%20%20%20%20%20%20%20.addTo%28map_a539ba08627f46d6b1220644d0284b29%29%3B%0A%20%20%20%20%20%20%20%20%20%20%20%20%0A%20%20%20%20%0A%20%20%20%20%20%20%20%20%20%20%20%20var%20popup_6af49cad93744b118fd74633d37c3d41%20%3D%20L.popup%28%7BmaxWidth%3A%20%27100%25%27%0A%20%20%20%20%20%20%20%20%20%20%20%20%0A%20%20%20%20%20%20%20%20%20%20%20%20%7D%29%3B%0A%0A%20%20%20%20%20%20%20%20%20%20%20%20%0A%20%20%20%20%20%20%20%20%20%20%20%20%20%20%20%20var%20html_da6b823035c043ba8498097e65e84b1f%20%3D%20%24%28%60%3Cdiv%20id%3D%22html_da6b823035c043ba8498097e65e84b1f%22%20style%3D%22width%3A%20100.0%25%3B%20height%3A%20100.0%25%3B%22%3E%3Cbr%3EESTADO%3A%20PI%3Cbr%3E%3Cbr%3EQUANTIDADE%20DE%20ACIDENTES%3A%2036%3C/div%3E%60%29%5B0%5D%3B%0A%20%20%20%20%20%20%20%20%20%20%20%20%20%20%20%20popup_6af49cad93744b118fd74633d37c3d41.setContent%28html_da6b823035c043ba8498097e65e84b1f%29%3B%0A%20%20%20%20%20%20%20%20%20%20%20%20%0A%0A%20%20%20%20%20%20%20%20%20%20%20%20circle_ef2707a0f4284d9b8659bf64c2c14907.bindPopup%28popup_6af49cad93744b118fd74633d37c3d41%29%0A%20%20%20%20%20%20%20%20%20%20%20%20%3B%0A%0A%20%20%20%20%20%20%20%20%20%20%20%20%0A%20%20%20%20%20%20%20%20%0A%20%20%20%20%0A%0A%20%20%20%20%20%20%20%20%20%20%20%20var%20circle_16a1a15e43494ed3b458427ffbdb1e1b%20%3D%20L.circle%28%0A%20%20%20%20%20%20%20%20%20%20%20%20%20%20%20%20%5B-8.76%2C%20-63.9%5D%2C%0A%20%20%20%20%20%20%20%20%20%20%20%20%20%20%20%20%7B%0A%20%20%22bubblingMouseEvents%22%3A%20true%2C%0A%20%20%22color%22%3A%20%22crimson%22%2C%0A%20%20%22dashArray%22%3A%20null%2C%0A%20%20%22dashOffset%22%3A%20null%2C%0A%20%20%22fill%22%3A%20true%2C%0A%20%20%22fillColor%22%3A%20%22crimson%22%2C%0A%20%20%22fillOpacity%22%3A%200.2%2C%0A%20%20%22fillRule%22%3A%20%22evenodd%22%2C%0A%20%20%22lineCap%22%3A%20%22round%22%2C%0A%20%20%22lineJoin%22%3A%20%22round%22%2C%0A%20%20%22opacity%22%3A%201.0%2C%0A%20%20%22radius%22%3A%209000.0%2C%0A%20%20%22stroke%22%3A%20true%2C%0A%20%20%22weight%22%3A%203%0A%7D%0A%20%20%20%20%20%20%20%20%20%20%20%20%20%20%20%20%29%0A%20%20%20%20%20%20%20%20%20%20%20%20%20%20%20%20.addTo%28map_a539ba08627f46d6b1220644d0284b29%29%3B%0A%20%20%20%20%20%20%20%20%20%20%20%20%0A%20%20%20%20%0A%20%20%20%20%20%20%20%20%20%20%20%20var%20popup_66722495eb4e4085af2abccfd4b4677e%20%3D%20L.popup%28%7BmaxWidth%3A%20%27100%25%27%0A%20%20%20%20%20%20%20%20%20%20%20%20%0A%20%20%20%20%20%20%20%20%20%20%20%20%7D%29%3B%0A%0A%20%20%20%20%20%20%20%20%20%20%20%20%0A%20%20%20%20%20%20%20%20%20%20%20%20%20%20%20%20var%20html_4189df64b49e490faabf465060525d7b%20%3D%20%24%28%60%3Cdiv%20id%3D%22html_4189df64b49e490faabf465060525d7b%22%20style%3D%22width%3A%20100.0%25%3B%20height%3A%20100.0%25%3B%22%3E%3Cbr%3EESTADO%3A%20RO%3Cbr%3E%3Cbr%3EQUANTIDADE%20DE%20ACIDENTES%3A%2030%3C/div%3E%60%29%5B0%5D%3B%0A%20%20%20%20%20%20%20%20%20%20%20%20%20%20%20%20popup_66722495eb4e4085af2abccfd4b4677e.setContent%28html_4189df64b49e490faabf465060525d7b%29%3B%0A%20%20%20%20%20%20%20%20%20%20%20%20%0A%0A%20%20%20%20%20%20%20%20%20%20%20%20circle_16a1a15e43494ed3b458427ffbdb1e1b.bindPopup%28popup_66722495eb4e4085af2abccfd4b4677e%29%0A%20%20%20%20%20%20%20%20%20%20%20%20%3B%0A%0A%20%20%20%20%20%20%20%20%20%20%20%20%0A%20%20%20%20%20%20%20%20%0A%20%20%20%20%0A%0A%20%20%20%20%20%20%20%20%20%20%20%20var%20circle_20cfd99ac6b1414ba4620bb906db01e2%20%3D%20L.circle%28%0A%20%20%20%20%20%20%20%20%20%20%20%20%20%20%20%20%5B-7.11%2C%20-34.86%5D%2C%0A%20%20%20%20%20%20%20%20%20%20%20%20%20%20%20%20%7B%0A%20%20%22bubblingMouseEvents%22%3A%20true%2C%0A%20%20%22color%22%3A%20%22crimson%22%2C%0A%20%20%22dashArray%22%3A%20null%2C%0A%20%20%22dashOffset%22%3A%20null%2C%0A%20%20%22fill%22%3A%20true%2C%0A%20%20%22fillColor%22%3A%20%22crimson%22%2C%0A%20%20%22fillOpacity%22%3A%200.2%2C%0A%20%20%22fillRule%22%3A%20%22evenodd%22%2C%0A%20%20%22lineCap%22%3A%20%22round%22%2C%0A%20%20%22lineJoin%22%3A%20%22round%22%2C%0A%20%20%22opacity%22%3A%201.0%2C%0A%20%20%22radius%22%3A%206900.0%2C%0A%20%20%22stroke%22%3A%20true%2C%0A%20%20%22weight%22%3A%203%0A%7D%0A%20%20%20%20%20%20%20%20%20%20%20%20%20%20%20%20%29%0A%20%20%20%20%20%20%20%20%20%20%20%20%20%20%20%20.addTo%28map_a539ba08627f46d6b1220644d0284b29%29%3B%0A%20%20%20%20%20%20%20%20%20%20%20%20%0A%20%20%20%20%0A%20%20%20%20%20%20%20%20%20%20%20%20var%20popup_6ecd88afec9248f29f5013329cd5384e%20%3D%20L.popup%28%7BmaxWidth%3A%20%27100%25%27%0A%20%20%20%20%20%20%20%20%20%20%20%20%0A%20%20%20%20%20%20%20%20%20%20%20%20%7D%29%3B%0A%0A%20%20%20%20%20%20%20%20%20%20%20%20%0A%20%20%20%20%20%20%20%20%20%20%20%20%20%20%20%20var%20html_8c5f246a0d90477a84fe3fc7adf1a62b%20%3D%20%24%28%60%3Cdiv%20id%3D%22html_8c5f246a0d90477a84fe3fc7adf1a62b%22%20style%3D%22width%3A%20100.0%25%3B%20height%3A%20100.0%25%3B%22%3E%3Cbr%3EESTADO%3A%20PB%3Cbr%3E%3Cbr%3EQUANTIDADE%20DE%20ACIDENTES%3A%2023%3C/div%3E%60%29%5B0%5D%3B%0A%20%20%20%20%20%20%20%20%20%20%20%20%20%20%20%20popup_6ecd88afec9248f29f5013329cd5384e.setContent%28html_8c5f246a0d90477a84fe3fc7adf1a62b%29%3B%0A%20%20%20%20%20%20%20%20%20%20%20%20%0A%0A%20%20%20%20%20%20%20%20%20%20%20%20circle_20cfd99ac6b1414ba4620bb906db01e2.bindPopup%28popup_6ecd88afec9248f29f5013329cd5384e%29%0A%20%20%20%20%20%20%20%20%20%20%20%20%3B%0A%0A%20%20%20%20%20%20%20%20%20%20%20%20%0A%20%20%20%20%20%20%20%20%0A%20%20%20%20%0A%0A%20%20%20%20%20%20%20%20%20%20%20%20var%20circle_a19aeffffdef4aefba3f1b8bb20efdf9%20%3D%20L.circle%28%0A%20%20%20%20%20%20%20%20%20%20%20%20%20%20%20%20%5B-10.91%2C%20-37.07%5D%2C%0A%20%20%20%20%20%20%20%20%20%20%20%20%20%20%20%20%7B%0A%20%20%22bubblingMouseEvents%22%3A%20true%2C%0A%20%20%22color%22%3A%20%22crimson%22%2C%0A%20%20%22dashArray%22%3A%20null%2C%0A%20%20%22dashOffset%22%3A%20null%2C%0A%20%20%22fill%22%3A%20true%2C%0A%20%20%22fillColor%22%3A%20%22crimson%22%2C%0A%20%20%22fillOpacity%22%3A%200.2%2C%0A%20%20%22fillRule%22%3A%20%22evenodd%22%2C%0A%20%20%22lineCap%22%3A%20%22round%22%2C%0A%20%20%22lineJoin%22%3A%20%22round%22%2C%0A%20%20%22opacity%22%3A%201.0%2C%0A%20%20%22radius%22%3A%206300.0%2C%0A%20%20%22stroke%22%3A%20true%2C%0A%20%20%22weight%22%3A%203%0A%7D%0A%20%20%20%20%20%20%20%20%20%20%20%20%20%20%20%20%29%0A%20%20%20%20%20%20%20%20%20%20%20%20%20%20%20%20.addTo%28map_a539ba08627f46d6b1220644d0284b29%29%3B%0A%20%20%20%20%20%20%20%20%20%20%20%20%0A%20%20%20%20%0A%20%20%20%20%20%20%20%20%20%20%20%20var%20popup_0805494b5c0e4ca7a1dcdbd8fc94c2ba%20%3D%20L.popup%28%7BmaxWidth%3A%20%27100%25%27%0A%20%20%20%20%20%20%20%20%20%20%20%20%0A%20%20%20%20%20%20%20%20%20%20%20%20%7D%29%3B%0A%0A%20%20%20%20%20%20%20%20%20%20%20%20%0A%20%20%20%20%20%20%20%20%20%20%20%20%20%20%20%20var%20html_cfd104ec510e40188368e5ddc9d6e1cc%20%3D%20%24%28%60%3Cdiv%20id%3D%22html_cfd104ec510e40188368e5ddc9d6e1cc%22%20style%3D%22width%3A%20100.0%25%3B%20height%3A%20100.0%25%3B%22%3E%3Cbr%3EESTADO%3A%20SE%3Cbr%3E%3Cbr%3EQUANTIDADE%20DE%20ACIDENTES%3A%2021%3C/div%3E%60%29%5B0%5D%3B%0A%20%20%20%20%20%20%20%20%20%20%20%20%20%20%20%20popup_0805494b5c0e4ca7a1dcdbd8fc94c2ba.setContent%28html_cfd104ec510e40188368e5ddc9d6e1cc%29%3B%0A%20%20%20%20%20%20%20%20%20%20%20%20%0A%0A%20%20%20%20%20%20%20%20%20%20%20%20circle_a19aeffffdef4aefba3f1b8bb20efdf9.bindPopup%28popup_0805494b5c0e4ca7a1dcdbd8fc94c2ba%29%0A%20%20%20%20%20%20%20%20%20%20%20%20%3B%0A%0A%20%20%20%20%20%20%20%20%20%20%20%20%0A%20%20%20%20%20%20%20%20%0A%20%20%20%20%0A%0A%20%20%20%20%20%20%20%20%20%20%20%20var%20circle_1627991d4df5402cbe11e1adf7b28a82%20%3D%20L.circle%28%0A%20%20%20%20%20%20%20%20%20%20%20%20%20%20%20%20%5B-9.66%2C%20-35.73%5D%2C%0A%20%20%20%20%20%20%20%20%20%20%20%20%20%20%20%20%7B%0A%20%20%22bubblingMouseEvents%22%3A%20true%2C%0A%20%20%22color%22%3A%20%22crimson%22%2C%0A%20%20%22dashArray%22%3A%20null%2C%0A%20%20%22dashOffset%22%3A%20null%2C%0A%20%20%22fill%22%3A%20true%2C%0A%20%20%22fillColor%22%3A%20%22crimson%22%2C%0A%20%20%22fillOpacity%22%3A%200.2%2C%0A%20%20%22fillRule%22%3A%20%22evenodd%22%2C%0A%20%20%22lineCap%22%3A%20%22round%22%2C%0A%20%20%22lineJoin%22%3A%20%22round%22%2C%0A%20%20%22opacity%22%3A%201.0%2C%0A%20%20%22radius%22%3A%209000.0%2C%0A%20%20%22stroke%22%3A%20true%2C%0A%20%20%22weight%22%3A%203%0A%7D%0A%20%20%20%20%20%20%20%20%20%20%20%20%20%20%20%20%29%0A%20%20%20%20%20%20%20%20%20%20%20%20%20%20%20%20.addTo%28map_a539ba08627f46d6b1220644d0284b29%29%3B%0A%20%20%20%20%20%20%20%20%20%20%20%20%0A%20%20%20%20%0A%20%20%20%20%20%20%20%20%20%20%20%20var%20popup_ff9e3e5421f24340ab8a5e74a8ed33f9%20%3D%20L.popup%28%7BmaxWidth%3A%20%27100%25%27%0A%20%20%20%20%20%20%20%20%20%20%20%20%0A%20%20%20%20%20%20%20%20%20%20%20%20%7D%29%3B%0A%0A%20%20%20%20%20%20%20%20%20%20%20%20%0A%20%20%20%20%20%20%20%20%20%20%20%20%20%20%20%20var%20html_10eee9598bed49718b0b126f6b5898fa%20%3D%20%24%28%60%3Cdiv%20id%3D%22html_10eee9598bed49718b0b126f6b5898fa%22%20style%3D%22width%3A%20100.0%25%3B%20height%3A%20100.0%25%3B%22%3E%3Cbr%3EESTADO%3A%20AL%3Cbr%3E%3Cbr%3EQUANTIDADE%20DE%20ACIDENTES%3A%2030%3C/div%3E%60%29%5B0%5D%3B%0A%20%20%20%20%20%20%20%20%20%20%20%20%20%20%20%20popup_ff9e3e5421f24340ab8a5e74a8ed33f9.setContent%28html_10eee9598bed49718b0b126f6b5898fa%29%3B%0A%20%20%20%20%20%20%20%20%20%20%20%20%0A%0A%20%20%20%20%20%20%20%20%20%20%20%20circle_1627991d4df5402cbe11e1adf7b28a82.bindPopup%28popup_ff9e3e5421f24340ab8a5e74a8ed33f9%29%0A%20%20%20%20%20%20%20%20%20%20%20%20%3B%0A%0A%20%20%20%20%20%20%20%20%20%20%20%20%0A%20%20%20%20%20%20%20%20%0A%20%20%20%20%0A%0A%20%20%20%20%20%20%20%20%20%20%20%20var%20circle_8976d3e9b3af4267bb39b5751c43fc42%20%3D%20L.circle%28%0A%20%20%20%20%20%20%20%20%20%20%20%20%20%20%20%20%5B-6.19%2C%20-35.16%5D%2C%0A%20%20%20%20%20%20%20%20%20%20%20%20%20%20%20%20%7B%0A%20%20%22bubblingMouseEvents%22%3A%20true%2C%0A%20%20%22color%22%3A%20%22crimson%22%2C%0A%20%20%22dashArray%22%3A%20null%2C%0A%20%20%22dashOffset%22%3A%20null%2C%0A%20%20%22fill%22%3A%20true%2C%0A%20%20%22fillColor%22%3A%20%22crimson%22%2C%0A%20%20%22fillOpacity%22%3A%200.2%2C%0A%20%20%22fillRule%22%3A%20%22evenodd%22%2C%0A%20%20%22lineCap%22%3A%20%22round%22%2C%0A%20%20%22lineJoin%22%3A%20%22round%22%2C%0A%20%20%22opacity%22%3A%201.0%2C%0A%20%20%22radius%22%3A%204200.0%2C%0A%20%20%22stroke%22%3A%20true%2C%0A%20%20%22weight%22%3A%203%0A%7D%0A%20%20%20%20%20%20%20%20%20%20%20%20%20%20%20%20%29%0A%20%20%20%20%20%20%20%20%20%20%20%20%20%20%20%20.addTo%28map_a539ba08627f46d6b1220644d0284b29%29%3B%0A%20%20%20%20%20%20%20%20%20%20%20%20%0A%20%20%20%20%0A%20%20%20%20%20%20%20%20%20%20%20%20var%20popup_3e4b4178bc8940f0b9b029912a842681%20%3D%20L.popup%28%7BmaxWidth%3A%20%27100%25%27%0A%20%20%20%20%20%20%20%20%20%20%20%20%0A%20%20%20%20%20%20%20%20%20%20%20%20%7D%29%3B%0A%0A%20%20%20%20%20%20%20%20%20%20%20%20%0A%20%20%20%20%20%20%20%20%20%20%20%20%20%20%20%20var%20html_c1a0965c92244a5f94e7ac54112a0cb7%20%3D%20%24%28%60%3Cdiv%20id%3D%22html_c1a0965c92244a5f94e7ac54112a0cb7%22%20style%3D%22width%3A%20100.0%25%3B%20height%3A%20100.0%25%3B%22%3E%3Cbr%3EESTADO%3A%20RN%3Cbr%3E%3Cbr%3EQUANTIDADE%20DE%20ACIDENTES%3A%2014%3C/div%3E%60%29%5B0%5D%3B%0A%20%20%20%20%20%20%20%20%20%20%20%20%20%20%20%20popup_3e4b4178bc8940f0b9b029912a842681.setContent%28html_c1a0965c92244a5f94e7ac54112a0cb7%29%3B%0A%20%20%20%20%20%20%20%20%20%20%20%20%0A%0A%20%20%20%20%20%20%20%20%20%20%20%20circle_8976d3e9b3af4267bb39b5751c43fc42.bindPopup%28popup_3e4b4178bc8940f0b9b029912a842681%29%0A%20%20%20%20%20%20%20%20%20%20%20%20%3B%0A%0A%20%20%20%20%20%20%20%20%20%20%20%20%0A%20%20%20%20%20%20%20%20%0A%20%20%20%20%0A%0A%20%20%20%20%20%20%20%20%20%20%20%20var%20circle_0b8dda5df89d4ba88a5e07763a92877d%20%3D%20L.circle%28%0A%20%20%20%20%20%20%20%20%20%20%20%20%20%20%20%20%5B0.03%2C%20-51.06%5D%2C%0A%20%20%20%20%20%20%20%20%20%20%20%20%20%20%20%20%7B%0A%20%20%22bubblingMouseEvents%22%3A%20true%2C%0A%20%20%22color%22%3A%20%22crimson%22%2C%0A%20%20%22dashArray%22%3A%20null%2C%0A%20%20%22dashOffset%22%3A%20null%2C%0A%20%20%22fill%22%3A%20true%2C%0A%20%20%22fillColor%22%3A%20%22crimson%22%2C%0A%20%20%22fillOpacity%22%3A%200.2%2C%0A%20%20%22fillRule%22%3A%20%22evenodd%22%2C%0A%20%20%22lineCap%22%3A%20%22round%22%2C%0A%20%20%22lineJoin%22%3A%20%22round%22%2C%0A%20%20%22opacity%22%3A%201.0%2C%0A%20%20%22radius%22%3A%202700.0%2C%0A%20%20%22stroke%22%3A%20true%2C%0A%20%20%22weight%22%3A%203%0A%7D%0A%20%20%20%20%20%20%20%20%20%20%20%20%20%20%20%20%29%0A%20%20%20%20%20%20%20%20%20%20%20%20%20%20%20%20.addTo%28map_a539ba08627f46d6b1220644d0284b29%29%3B%0A%20%20%20%20%20%20%20%20%20%20%20%20%0A%20%20%20%20%0A%20%20%20%20%20%20%20%20%20%20%20%20var%20popup_90d88f13f258469a8d8216e4c033a2d6%20%3D%20L.popup%28%7BmaxWidth%3A%20%27100%25%27%0A%20%20%20%20%20%20%20%20%20%20%20%20%0A%20%20%20%20%20%20%20%20%20%20%20%20%7D%29%3B%0A%0A%20%20%20%20%20%20%20%20%20%20%20%20%0A%20%20%20%20%20%20%20%20%20%20%20%20%20%20%20%20var%20html_80af483c302f4896bc27a3a6ae765043%20%3D%20%24%28%60%3Cdiv%20id%3D%22html_80af483c302f4896bc27a3a6ae765043%22%20style%3D%22width%3A%20100.0%25%3B%20height%3A%20100.0%25%3B%22%3E%3Cbr%3EESTADO%3A%20AP%3Cbr%3E%3Cbr%3EQUANTIDADE%20DE%20ACIDENTES%3A%209%3C/div%3E%60%29%5B0%5D%3B%0A%20%20%20%20%20%20%20%20%20%20%20%20%20%20%20%20popup_90d88f13f258469a8d8216e4c033a2d6.setContent%28html_80af483c302f4896bc27a3a6ae765043%29%3B%0A%20%20%20%20%20%20%20%20%20%20%20%20%0A%0A%20%20%20%20%20%20%20%20%20%20%20%20circle_0b8dda5df89d4ba88a5e07763a92877d.bindPopup%28popup_90d88f13f258469a8d8216e4c033a2d6%29%0A%20%20%20%20%20%20%20%20%20%20%20%20%3B%0A%0A%20%20%20%20%20%20%20%20%20%20%20%20%0A%20%20%20%20%20%20%20%20%0A%20%20%20%20%0A%0A%20%20%20%20%20%20%20%20%20%20%20%20var%20circle_a01ec59932ae4d07adc645631d98ad99%20%3D%20L.circle%28%0A%20%20%20%20%20%20%20%20%20%20%20%20%20%20%20%20%5B-9.42%2C%20-30.89%5D%2C%0A%20%20%20%20%20%20%20%20%20%20%20%20%20%20%20%20%7B%0A%20%20%22bubblingMouseEvents%22%3A%20true%2C%0A%20%20%22color%22%3A%20%22crimson%22%2C%0A%20%20%22dashArray%22%3A%20null%2C%0A%20%20%22dashOffset%22%3A%20null%2C%0A%20%20%22fill%22%3A%20true%2C%0A%20%20%22fillColor%22%3A%20%22crimson%22%2C%0A%20%20%22fillOpacity%22%3A%200.2%2C%0A%20%20%22fillRule%22%3A%20%22evenodd%22%2C%0A%20%20%22lineCap%22%3A%20%22round%22%2C%0A%20%20%22lineJoin%22%3A%20%22round%22%2C%0A%20%20%22opacity%22%3A%201.0%2C%0A%20%20%22radius%22%3A%20900.0%2C%0A%20%20%22stroke%22%3A%20true%2C%0A%20%20%22weight%22%3A%203%0A%7D%0A%20%20%20%20%20%20%20%20%20%20%20%20%20%20%20%20%29%0A%20%20%20%20%20%20%20%20%20%20%20%20%20%20%20%20.addTo%28map_a539ba08627f46d6b1220644d0284b29%29%3B%0A%20%20%20%20%20%20%20%20%20%20%20%20%0A%20%20%20%20%0A%20%20%20%20%20%20%20%20%20%20%20%20var%20popup_9fb76604fde84c14aa6f52719cce431d%20%3D%20L.popup%28%7BmaxWidth%3A%20%27100%25%27%0A%20%20%20%20%20%20%20%20%20%20%20%20%0A%20%20%20%20%20%20%20%20%20%20%20%20%7D%29%3B%0A%0A%20%20%20%20%20%20%20%20%20%20%20%20%0A%20%20%20%20%20%20%20%20%20%20%20%20%20%20%20%20var%20html_1bb9ac1ee04f4e70a3dd0be55caee8b3%20%3D%20%24%28%60%3Cdiv%20id%3D%22html_1bb9ac1ee04f4e70a3dd0be55caee8b3%22%20style%3D%22width%3A%20100.0%25%3B%20height%3A%20100.0%25%3B%22%3E%3Cbr%3EESTADO%3A%20AGUAS%20INTERNACIONAIS%3Cbr%3E%3Cbr%3EQUANTIDADE%20DE%20ACIDENTES%3A%203%3C/div%3E%60%29%5B0%5D%3B%0A%20%20%20%20%20%20%20%20%20%20%20%20%20%20%20%20popup_9fb76604fde84c14aa6f52719cce431d.setContent%28html_1bb9ac1ee04f4e70a3dd0be55caee8b3%29%3B%0A%20%20%20%20%20%20%20%20%20%20%20%20%0A%0A%20%20%20%20%20%20%20%20%20%20%20%20circle_a01ec59932ae4d07adc645631d98ad99.bindPopup%28popup_9fb76604fde84c14aa6f52719cce431d%29%0A%20%20%20%20%20%20%20%20%20%20%20%20%3B%0A%0A%20%20%20%20%20%20%20%20%20%20%20%20%0A%20%20%20%20%20%20%20%20%0A%3C/script%3E onload=\"this.contentDocument.open();this.contentDocument.write(    decodeURIComponent(this.getAttribute('data-html')));this.contentDocument.close();\" allowfullscreen webkitallowfullscreen mozallowfullscreen></iframe></div></div>"
            ],
            "text/plain": [
              "<folium.folium.Map at 0x7f306339a050>"
            ]
          },
          "metadata": {},
          "execution_count": 16
        }
      ]
    },
    {
      "cell_type": "code",
      "metadata": {
        "id": "FOvd8pJ0EllJ"
      },
      "source": [
        ""
      ],
      "execution_count": null,
      "outputs": []
    },
    {
      "cell_type": "markdown",
      "metadata": {
        "id": "MbJ8K7yAuN1g"
      },
      "source": [
        "\n",
        "Pelo mapa pode-se perceber a distribuição das ocorrências pelo país durante o período de 2010 a 2019, o estado de São Paulo registrou mais ocorrências do que os estados do Rio de janeiro, Minas Gerais e Espírito Santo juntos.\n"
      ]
    },
    {
      "cell_type": "code",
      "metadata": {
        "id": "zVpbrOmUYD1V"
      },
      "source": [
        ""
      ],
      "execution_count": null,
      "outputs": []
    },
    {
      "cell_type": "code",
      "metadata": {
        "colab": {
          "base_uri": "https://localhost:8080/",
          "height": 643
        },
        "id": "zdKIvJRJNu_E",
        "outputId": "dd3d11b9-5a80-47fd-c470-3e89983379eb"
      },
      "source": [
        "import pandas as pd\n",
        "\n",
        "\n",
        "\n",
        "df_filtrador = pd.read_csv('/content/date.csv', sep=';')\n",
        "df_filtrador.head(10)"
      ],
      "execution_count": null,
      "outputs": [
        {
          "output_type": "execute_result",
          "data": {
            "text/html": [
              "<div>\n",
              "<style scoped>\n",
              "    .dataframe tbody tr th:only-of-type {\n",
              "        vertical-align: middle;\n",
              "    }\n",
              "\n",
              "    .dataframe tbody tr th {\n",
              "        vertical-align: top;\n",
              "    }\n",
              "\n",
              "    .dataframe thead th {\n",
              "        text-align: right;\n",
              "    }\n",
              "</style>\n",
              "<table border=\"1\" class=\"dataframe\">\n",
              "  <thead>\n",
              "    <tr style=\"text-align: right;\">\n",
              "      <th></th>\n",
              "      <th>codigo</th>\n",
              "      <th>tipo</th>\n",
              "      <th>descricao</th>\n",
              "      <th>cidade</th>\n",
              "      <th>estado</th>\n",
              "      <th>data</th>\n",
              "      <th>ano</th>\n",
              "      <th>hora</th>\n",
              "      <th>aeronave_liberada</th>\n",
              "      <th>status_investigacao</th>\n",
              "      <th>aeronaves_envolvidas</th>\n",
              "      <th>ocorrencia_saida_pista</th>\n",
              "      <th>aeronave_tipo</th>\n",
              "      <th>aeronave_fabricante</th>\n",
              "      <th>motor_tipo</th>\n",
              "      <th>aeronave_motor_quantidade</th>\n",
              "      <th>aeronave_assentos</th>\n",
              "      <th>aeronave_ano_fabricacao</th>\n",
              "      <th>aeronave_pais_fabricante</th>\n",
              "      <th>aeronave_fase_operacao</th>\n",
              "      <th>aeronave_nivel_dano</th>\n",
              "    </tr>\n",
              "  </thead>\n",
              "  <tbody>\n",
              "    <tr>\n",
              "      <th>0</th>\n",
              "      <td>40107</td>\n",
              "      <td>ACIDENTE</td>\n",
              "      <td>COLISÃO COM OBSTÁCULO DURANTE A DECOLAGEM E POUSO</td>\n",
              "      <td>GURUPÁ</td>\n",
              "      <td>PA</td>\n",
              "      <td>12/01/2010</td>\n",
              "      <td>2010</td>\n",
              "      <td>14:30:00</td>\n",
              "      <td>SIM</td>\n",
              "      <td>FINALIZADA</td>\n",
              "      <td>1</td>\n",
              "      <td>NÃO</td>\n",
              "      <td>AVIÃO</td>\n",
              "      <td>NEIVA INDUSTRIA AERONAUTICA</td>\n",
              "      <td>PISTÃO</td>\n",
              "      <td>MONOMOTOR</td>\n",
              "      <td>7</td>\n",
              "      <td>1977</td>\n",
              "      <td>BRASIL</td>\n",
              "      <td>POUSO</td>\n",
              "      <td>LEVE,</td>\n",
              "    </tr>\n",
              "    <tr>\n",
              "      <th>1</th>\n",
              "      <td>40147</td>\n",
              "      <td>ACIDENTE</td>\n",
              "      <td>FALHA OU MAU FUNCIONAMENTO DE SISTEMA / COMPON...</td>\n",
              "      <td>UNIÃO DA VITÓRIA</td>\n",
              "      <td>PR</td>\n",
              "      <td>08/04/2010</td>\n",
              "      <td>2010</td>\n",
              "      <td>14:20:00</td>\n",
              "      <td>SIM</td>\n",
              "      <td>FINALIZADA</td>\n",
              "      <td>1</td>\n",
              "      <td>SIM</td>\n",
              "      <td>AVIÃO</td>\n",
              "      <td>PIPER AIRCRAFT</td>\n",
              "      <td>PISTÃO</td>\n",
              "      <td>BIMOTOR</td>\n",
              "      <td>6</td>\n",
              "      <td>1997</td>\n",
              "      <td>BRASIL</td>\n",
              "      <td>POUSO</td>\n",
              "      <td>SUBSTANCIAL,</td>\n",
              "    </tr>\n",
              "    <tr>\n",
              "      <th>2</th>\n",
              "      <td>40148</td>\n",
              "      <td>ACIDENTE</td>\n",
              "      <td>PANE SECA</td>\n",
              "      <td>CAMPO GRANDE</td>\n",
              "      <td>MS</td>\n",
              "      <td>19/03/2010</td>\n",
              "      <td>2010</td>\n",
              "      <td>19:30:00</td>\n",
              "      <td>SIM</td>\n",
              "      <td>FINALIZADA</td>\n",
              "      <td>1</td>\n",
              "      <td>NÃO</td>\n",
              "      <td>AVIÃO</td>\n",
              "      <td>CESSNA AIRCRAFT</td>\n",
              "      <td>PISTÃO</td>\n",
              "      <td>MONOMOTOR</td>\n",
              "      <td>6</td>\n",
              "      <td>1962</td>\n",
              "      <td>BRASIL</td>\n",
              "      <td>APROXIMAÇÃO FINAL</td>\n",
              "      <td>SUBSTANCIAL,</td>\n",
              "    </tr>\n",
              "    <tr>\n",
              "      <th>3</th>\n",
              "      <td>40149</td>\n",
              "      <td>ACIDENTE</td>\n",
              "      <td>FALHA DO MOTOR EM VOO</td>\n",
              "      <td>LUZIÂNIA</td>\n",
              "      <td>GO</td>\n",
              "      <td>21/03/2010</td>\n",
              "      <td>2010</td>\n",
              "      <td>20:45:00</td>\n",
              "      <td>SIM</td>\n",
              "      <td>FINALIZADA</td>\n",
              "      <td>1</td>\n",
              "      <td>NÃO</td>\n",
              "      <td>AVIÃO</td>\n",
              "      <td>XAVANTE</td>\n",
              "      <td>PISTÃO</td>\n",
              "      <td>MONOMOTOR</td>\n",
              "      <td>2</td>\n",
              "      <td>1974</td>\n",
              "      <td>BRASIL</td>\n",
              "      <td>DECOLAGEM</td>\n",
              "      <td>DESTRUÍDA,</td>\n",
              "    </tr>\n",
              "    <tr>\n",
              "      <th>4</th>\n",
              "      <td>40150</td>\n",
              "      <td>INCIDENTE GRAVE</td>\n",
              "      <td>COM TREM DE POUSO</td>\n",
              "      <td>SANTA MARIA</td>\n",
              "      <td>RS</td>\n",
              "      <td>10/03/2010</td>\n",
              "      <td>2010</td>\n",
              "      <td>17:20:00</td>\n",
              "      <td>SIM</td>\n",
              "      <td>FINALIZADA</td>\n",
              "      <td>1</td>\n",
              "      <td>NÃO</td>\n",
              "      <td>AVIÃO</td>\n",
              "      <td>BEECH AIRCRAFT</td>\n",
              "      <td>PISTÃO</td>\n",
              "      <td>MONOMOTOR</td>\n",
              "      <td>6</td>\n",
              "      <td>1974</td>\n",
              "      <td>BRASIL</td>\n",
              "      <td>POUSO</td>\n",
              "      <td>LEVE,</td>\n",
              "    </tr>\n",
              "    <tr>\n",
              "      <th>5</th>\n",
              "      <td>40168</td>\n",
              "      <td>INCIDENTE</td>\n",
              "      <td>FALHA DO MOTOR EM VOO</td>\n",
              "      <td>MONTES CLAROS</td>\n",
              "      <td>MG</td>\n",
              "      <td>17/03/2010</td>\n",
              "      <td>2010</td>\n",
              "      <td>01:34:00</td>\n",
              "      <td>INDETERMINADO</td>\n",
              "      <td>INDETERMINADA</td>\n",
              "      <td>1</td>\n",
              "      <td>NÃO</td>\n",
              "      <td>AVIÃO</td>\n",
              "      <td>DASSAULT AVIATION</td>\n",
              "      <td>JATO</td>\n",
              "      <td>BIMOTOR</td>\n",
              "      <td>9</td>\n",
              "      <td>1975</td>\n",
              "      <td>BRASIL</td>\n",
              "      <td>CRUZEIRO</td>\n",
              "      <td>NENHUM,</td>\n",
              "    </tr>\n",
              "    <tr>\n",
              "      <th>6</th>\n",
              "      <td>40170</td>\n",
              "      <td>INCIDENTE</td>\n",
              "      <td>ESTOURO DE PNEU</td>\n",
              "      <td>MANAUS</td>\n",
              "      <td>AM</td>\n",
              "      <td>20/03/2010</td>\n",
              "      <td>2010</td>\n",
              "      <td>11:00:00</td>\n",
              "      <td>INDETERMINADO</td>\n",
              "      <td>INDETERMINADA</td>\n",
              "      <td>1</td>\n",
              "      <td>NÃO</td>\n",
              "      <td>AVIÃO</td>\n",
              "      <td>MCDONNELL DOUGLAS</td>\n",
              "      <td>JATO</td>\n",
              "      <td>TRIMOTOR</td>\n",
              "      <td>7</td>\n",
              "      <td>1975</td>\n",
              "      <td>BRASIL</td>\n",
              "      <td>CORRIDA APÓS POUSO</td>\n",
              "      <td>NENHUM,</td>\n",
              "    </tr>\n",
              "    <tr>\n",
              "      <th>7</th>\n",
              "      <td>40171</td>\n",
              "      <td>ACIDENTE</td>\n",
              "      <td>FALHA DO MOTOR EM VOO</td>\n",
              "      <td>PORTO NACIONAL</td>\n",
              "      <td>TO</td>\n",
              "      <td>07/04/2010</td>\n",
              "      <td>2010</td>\n",
              "      <td>18:45:00</td>\n",
              "      <td>SIM</td>\n",
              "      <td>FINALIZADA</td>\n",
              "      <td>1</td>\n",
              "      <td>NÃO</td>\n",
              "      <td>AVIÃO</td>\n",
              "      <td>AERO BOERO</td>\n",
              "      <td>PISTÃO</td>\n",
              "      <td>MONOMOTOR</td>\n",
              "      <td>2</td>\n",
              "      <td>1991</td>\n",
              "      <td>BRASIL</td>\n",
              "      <td>DECOLAGEM</td>\n",
              "      <td>SUBSTANCIAL,</td>\n",
              "    </tr>\n",
              "    <tr>\n",
              "      <th>8</th>\n",
              "      <td>40190</td>\n",
              "      <td>INCIDENTE</td>\n",
              "      <td>OUTROS</td>\n",
              "      <td>RIO DE JANEIRO</td>\n",
              "      <td>RJ</td>\n",
              "      <td>06/04/2010</td>\n",
              "      <td>2010</td>\n",
              "      <td>02:35:00</td>\n",
              "      <td>INDETERMINADO</td>\n",
              "      <td>INDETERMINADA</td>\n",
              "      <td>1</td>\n",
              "      <td>NÃO</td>\n",
              "      <td>AVIÃO</td>\n",
              "      <td>FOKKER</td>\n",
              "      <td>JATO</td>\n",
              "      <td>BIMOTOR</td>\n",
              "      <td>107</td>\n",
              "      <td>1993</td>\n",
              "      <td>BRASIL</td>\n",
              "      <td>TÁXI</td>\n",
              "      <td>NENHUM,</td>\n",
              "    </tr>\n",
              "    <tr>\n",
              "      <th>9</th>\n",
              "      <td>40207</td>\n",
              "      <td>INCIDENTE</td>\n",
              "      <td>TRÁFEGO AÉREO</td>\n",
              "      <td>CRUZEIRO DO SUL</td>\n",
              "      <td>AC</td>\n",
              "      <td>06/02/2010</td>\n",
              "      <td>2010</td>\n",
              "      <td>22:30:00</td>\n",
              "      <td>INDETERMINADO</td>\n",
              "      <td>INDETERMINADA</td>\n",
              "      <td>1</td>\n",
              "      <td>NÃO</td>\n",
              "      <td>AVIÃO</td>\n",
              "      <td>EMBRAER</td>\n",
              "      <td>PISTÃO</td>\n",
              "      <td>BIMOTOR</td>\n",
              "      <td>6</td>\n",
              "      <td>1989</td>\n",
              "      <td>BRASIL</td>\n",
              "      <td>POUSO</td>\n",
              "      <td>NENHUM,</td>\n",
              "    </tr>\n",
              "  </tbody>\n",
              "</table>\n",
              "</div>"
            ],
            "text/plain": [
              "   codigo             tipo  ... aeronave_fase_operacao aeronave_nivel_dano\n",
              "0   40107         ACIDENTE  ...                  POUSO               LEVE,\n",
              "1   40147         ACIDENTE  ...                  POUSO        SUBSTANCIAL,\n",
              "2   40148         ACIDENTE  ...      APROXIMAÇÃO FINAL        SUBSTANCIAL,\n",
              "3   40149         ACIDENTE  ...              DECOLAGEM          DESTRUÍDA,\n",
              "4   40150  INCIDENTE GRAVE  ...                  POUSO               LEVE,\n",
              "5   40168        INCIDENTE  ...               CRUZEIRO             NENHUM,\n",
              "6   40170        INCIDENTE  ...     CORRIDA APÓS POUSO             NENHUM,\n",
              "7   40171         ACIDENTE  ...              DECOLAGEM        SUBSTANCIAL,\n",
              "8   40190        INCIDENTE  ...                   TÁXI             NENHUM,\n",
              "9   40207        INCIDENTE  ...                  POUSO             NENHUM,\n",
              "\n",
              "[10 rows x 21 columns]"
            ]
          },
          "metadata": {},
          "execution_count": 3
        }
      ]
    },
    {
      "cell_type": "markdown",
      "metadata": {
        "id": "DbwqXOFLOFka"
      },
      "source": [
        "Tirando a vírgula da coluna de nível de danos das aeronaves"
      ]
    },
    {
      "cell_type": "code",
      "metadata": {
        "id": "e9J5a2XgOBnL"
      },
      "source": [
        "df_filtrador = df_filtrador.replace({',': ' '}, regex=True)"
      ],
      "execution_count": null,
      "outputs": []
    },
    {
      "cell_type": "markdown",
      "metadata": {
        "id": "HeYX_tbsPjjJ"
      },
      "source": [
        "Quais foram os danos das aeronaves nas ocorrências ?"
      ]
    },
    {
      "cell_type": "code",
      "metadata": {
        "colab": {
          "base_uri": "https://localhost:8080/",
          "height": 445
        },
        "id": "_Hex8BSVOduu",
        "outputId": "3dffae5e-5701-417a-df14-0529e35d0aa8"
      },
      "source": [
        "import pandas as pd\n",
        "\n",
        "\n",
        "\n",
        "df_filtrador = pd.read_csv('/content/date.csv', sep=';')\n",
        "\n",
        "\n",
        "\n",
        "ax = df_filtrador.groupby(['aeronave_nivel_dano']).aeronave_fabricante.count().sort_values()[-10:].plot(kind='barh',\n",
        "figsize=(19,8), ylabel='Acidentes', xlabel='NÍVEL DE DANO DAS AERONAVES', color='gold', fontsize=12, edgecolor = 'black', grid=False)\n",
        "\n",
        "\n",
        "for p in ax.patches:\n",
        "    b=p.get_bbox()\n",
        "    ax.annotate(\"{:.0f}\".format(b.x1 + b.x0), (p.get_x() + p.get_width() + 10, p.get_y() + 0.24), fontsize=15, color='black')\n",
        "plt.show()"
      ],
      "execution_count": null,
      "outputs": [
        {
          "output_type": "display_data",
          "data": {
            "image/png": "[encoded data removed]",
            "text/plain": [
              "<Figure size 1368x576 with 1 Axes>"
            ]
          },
          "metadata": {
            "needs_background": "light"
          }
        }
      ]
    },
    {
      "cell_type": "markdown",
      "metadata": {
        "id": "6Yb7uoKy9709"
      },
      "source": [
        "Como a quantidade de ocorrências são em sua grande maioria incidentes e incidentes graves, o nível de dano mais comum nas aeronaves é NENHUM ou LEVE, como mostra o gráfico acima.\n",
        "\n",
        "Na terceira colocação estão os danos substanciais, que são danos de médio porte, geralmente em uma área específica das aeronaves e na quarta colocação aparece o nível de dano DESTRUIDA que caracteriza uma perda total da fuselagem ou equipamentos da aeronave.\n"
      ]
    },
    {
      "cell_type": "markdown",
      "metadata": {
        "id": "W6o_jsQGRJsq"
      },
      "source": [
        "Quantidade de ocorrência por número de acento"
      ]
    },
    {
      "cell_type": "code",
      "metadata": {
        "colab": {
          "base_uri": "https://localhost:8080/",
          "height": 206
        },
        "id": "SLcqtKUt1EmL",
        "outputId": "402ee914-30f2-463c-ab66-4f0b9b40817f"
      },
      "source": [
        "df_aeronave_nivel_danos = pd.read_csv('/content/aeronave_nivel_dano.csv', sep=';')\n",
        "df_aeronave_nivel_danos.head()\n"
      ],
      "execution_count": null,
      "outputs": [
        {
          "output_type": "execute_result",
          "data": {
            "text/html": [
              "<div>\n",
              "<style scoped>\n",
              "    .dataframe tbody tr th:only-of-type {\n",
              "        vertical-align: middle;\n",
              "    }\n",
              "\n",
              "    .dataframe tbody tr th {\n",
              "        vertical-align: top;\n",
              "    }\n",
              "\n",
              "    .dataframe thead th {\n",
              "        text-align: right;\n",
              "    }\n",
              "</style>\n",
              "<table border=\"1\" class=\"dataframe\">\n",
              "  <thead>\n",
              "    <tr style=\"text-align: right;\">\n",
              "      <th></th>\n",
              "      <th>aeronave_nivel_dano</th>\n",
              "      <th>Unnamed: 1</th>\n",
              "    </tr>\n",
              "  </thead>\n",
              "  <tbody>\n",
              "    <tr>\n",
              "      <th>0</th>\n",
              "      <td>1821</td>\n",
              "      <td>nan</td>\n",
              "    </tr>\n",
              "    <tr>\n",
              "      <th>1</th>\n",
              "      <td>1529</td>\n",
              "      <td>nan</td>\n",
              "    </tr>\n",
              "    <tr>\n",
              "      <th>2</th>\n",
              "      <td>1515</td>\n",
              "      <td>nan</td>\n",
              "    </tr>\n",
              "    <tr>\n",
              "      <th>3</th>\n",
              "      <td>329</td>\n",
              "      <td>nan</td>\n",
              "    </tr>\n",
              "    <tr>\n",
              "      <th>4</th>\n",
              "      <td>42</td>\n",
              "      <td>nan</td>\n",
              "    </tr>\n",
              "  </tbody>\n",
              "</table>\n",
              "</div>"
            ],
            "text/plain": [
              "   aeronave_nivel_dano  Unnamed: 1\n",
              "0                 1821         nan\n",
              "1                 1529         nan\n",
              "2                 1515         nan\n",
              "3                  329         nan\n",
              "4                   42         nan"
            ]
          },
          "metadata": {},
          "execution_count": 106
        }
      ]
    },
    {
      "cell_type": "markdown",
      "metadata": {
        "id": "IGxXP8Mb14VE"
      },
      "source": [
        "Média dos níveis de danos das aeronaves"
      ]
    },
    {
      "cell_type": "code",
      "metadata": {
        "colab": {
          "base_uri": "https://localhost:8080/"
        },
        "id": "UI6EXZFA1E_s",
        "outputId": "6617a01a-5cd9-48a8-9b5d-ee07c7ce8724"
      },
      "source": [
        "df_aeronave_nivel_danos['aeronave_nivel_dano'].mean()\n"
      ],
      "execution_count": null,
      "outputs": [
        {
          "output_type": "execute_result",
          "data": {
            "text/plain": [
              "1047.2"
            ]
          },
          "metadata": {},
          "execution_count": 107
        }
      ]
    },
    {
      "cell_type": "markdown",
      "metadata": {
        "id": "0rycpScv2Y5D"
      },
      "source": [
        "Mediana dos níveis de danos das aeronaves"
      ]
    },
    {
      "cell_type": "code",
      "metadata": {
        "colab": {
          "base_uri": "https://localhost:8080/"
        },
        "id": "_pYCePPW1FTz",
        "outputId": "a47d1eed-20d7-43e8-91aa-f2acf3e94d78"
      },
      "source": [
        "df_aeronave_nivel_danos['aeronave_nivel_dano'].median()\n"
      ],
      "execution_count": null,
      "outputs": [
        {
          "output_type": "execute_result",
          "data": {
            "text/plain": [
              "1515.0"
            ]
          },
          "metadata": {},
          "execution_count": 108
        }
      ]
    },
    {
      "cell_type": "markdown",
      "metadata": {
        "id": "1S0N29fS2dF_"
      },
      "source": [
        "Moda dos níveis de danos das aeronaves"
      ]
    },
    {
      "cell_type": "code",
      "metadata": {
        "colab": {
          "base_uri": "https://localhost:8080/"
        },
        "id": "SFWbi9891FXj",
        "outputId": "1d4783ff-4662-471f-b12e-057e3adf92e0"
      },
      "source": [
        "df_aeronave_nivel_danos['aeronave_nivel_dano'].mode()\n"
      ],
      "execution_count": null,
      "outputs": [
        {
          "output_type": "execute_result",
          "data": {
            "text/plain": [
              "0      42\n",
              "1     329\n",
              "2    1515\n",
              "3    1529\n",
              "4    1821\n",
              "dtype: int64"
            ]
          },
          "metadata": {},
          "execution_count": 109
        }
      ]
    },
    {
      "cell_type": "markdown",
      "metadata": {
        "id": "GYae0WvN2h8A"
      },
      "source": [
        "Desvio Padrão dos níveis de danos das aeronaves"
      ]
    },
    {
      "cell_type": "code",
      "metadata": {
        "colab": {
          "base_uri": "https://localhost:8080/"
        },
        "id": "q2RMo-Mz1zyy",
        "outputId": "2b336165-3cac-45f1-aa9c-89218d1451b1"
      },
      "source": [
        "df_aeronave_nivel_danos['aeronave_nivel_dano'].std()\n"
      ],
      "execution_count": null,
      "outputs": [
        {
          "output_type": "execute_result",
          "data": {
            "text/plain": [
              "802.4918691176877"
            ]
          },
          "metadata": {},
          "execution_count": 110
        }
      ]
    },
    {
      "cell_type": "code",
      "metadata": {
        "id": "iZJIi8nz1FZs"
      },
      "source": [
        ""
      ],
      "execution_count": null,
      "outputs": []
    },
    {
      "cell_type": "code",
      "metadata": {
        "colab": {
          "base_uri": "https://localhost:8080/",
          "height": 476
        },
        "id": "HOvF9-DzQ_ca",
        "outputId": "2c57c82f-f688-4d28-ef9b-d02d3ee6f0c5"
      },
      "source": [
        "import pandas as pd\n",
        "\n",
        "\n",
        "\n",
        "df_filtrador = pd.read_csv('/content/date.csv', sep=';')\n",
        "\n",
        "\n",
        "\n",
        "ax = df_filtrador.groupby(['aeronave_assentos']).aeronave_fabricante.count().sort_values()[-10:].plot(kind='barh',\n",
        "figsize=(19,8), ylabel='Acidentes', xlabel='NÚMERO DE ASSENTOS', color='#0B3861', edgecolor = 'black', fontsize=12, grid=False)\n",
        "\n",
        "\n",
        "for p in ax.patches:\n",
        "    b=p.get_bbox()\n",
        "    ax.annotate(\"{:.0f}\".format(b.x1 + b.x0), (p.get_x() + p.get_width() + 10, p.get_y() + 0.14), fontsize=15, color='black')\n",
        "plt.show()"
      ],
      "execution_count": null,
      "outputs": [
        {
          "output_type": "display_data",
          "data": {
            "image/png": "[encoded data removed]",
            "text/plain": [
              "<Figure size 1368x576 with 1 Axes>"
            ]
          },
          "metadata": {
            "needs_background": "light"
          }
        }
      ]
    },
    {
      "cell_type": "markdown",
      "metadata": {
        "id": "m2mdr4o4NdDQ"
      },
      "source": [
        "As ocorrências em sua grande maioria ocorrem com aeronaves de pequenos portes, segundo a Aviation Safety Network, o Brasil só em 2021 registrou 111 acidentes com aviões de pequeno porte, aeronaves de pequeno porte geralmente possuem de 1 até 10 assentos. Aeronaves desse tipo geralmente são usadas no setor agrícola, mineração, taxi aéreo entre outros, muito são a pistão o que pode contribuir com o número elevado de ocorrências.\n",
        "Ocorrências com aeronaves de 6 assentos são 84,03% maiores se comparado com aeronave de grande porte de 125 assentos, esse fato pode ser explicado porque aviões desse porte são geralmente usados na aviação comercial o que demanda mais cuidado por parte das empresas aéreas, aviões desse tipo geralmente contam com rigorosos planos de inspeção e manutenção, pilotos com elevadas experiência e treinamento e planos de voo bem definidos.\n"
      ]
    },
    {
      "cell_type": "markdown",
      "metadata": {
        "id": "Tx7SQf_72tWy"
      },
      "source": [
        "Média, moda, mediana e desvio padrão do número de assentos "
      ]
    },
    {
      "cell_type": "code",
      "metadata": {
        "colab": {
          "base_uri": "https://localhost:8080/"
        },
        "id": "U4ZzIvYO2sIE",
        "outputId": "0872137c-2d7f-4bd1-e5dd-f73ffbd15e8a"
      },
      "source": [
        "df_filtrador['aeronave_assentos'].describe()"
      ],
      "execution_count": null,
      "outputs": [
        {
          "output_type": "execute_result",
          "data": {
            "text/plain": [
              "count   5242.00000\n",
              "mean      27.57535\n",
              "std       54.52809\n",
              "min        0.00000\n",
              "25%        2.00000\n",
              "50%        6.00000\n",
              "75%       10.00000\n",
              "max      384.00000\n",
              "Name: aeronave_assentos, dtype: float64"
            ]
          },
          "metadata": {},
          "execution_count": 112
        }
      ]
    },
    {
      "cell_type": "code",
      "metadata": {
        "id": "1y25N4PZ229r"
      },
      "source": [
        ""
      ],
      "execution_count": null,
      "outputs": []
    },
    {
      "cell_type": "markdown",
      "metadata": {
        "id": "FyfA4mg4lHd-"
      },
      "source": [
        "Regressão linear "
      ]
    },
    {
      "cell_type": "code",
      "metadata": {
        "id": "SY0goGD1KMl-",
        "colab": {
          "base_uri": "https://localhost:8080/",
          "height": 206
        },
        "outputId": "0bec2bb9-5953-4498-98c9-17d41ae10228"
      },
      "source": [
        "\n",
        "df_filtrador1 = pd.read_csv('/content/regressão_linear7.csv', sep=';')\n",
        "df_filtrador1.head()"
      ],
      "execution_count": null,
      "outputs": [
        {
          "output_type": "execute_result",
          "data": {
            "text/html": [
              "<div>\n",
              "<style scoped>\n",
              "    .dataframe tbody tr th:only-of-type {\n",
              "        vertical-align: middle;\n",
              "    }\n",
              "\n",
              "    .dataframe tbody tr th {\n",
              "        vertical-align: top;\n",
              "    }\n",
              "\n",
              "    .dataframe thead th {\n",
              "        text-align: right;\n",
              "    }\n",
              "</style>\n",
              "<table border=\"1\" class=\"dataframe\">\n",
              "  <thead>\n",
              "    <tr style=\"text-align: right;\">\n",
              "      <th></th>\n",
              "      <th>ocorrencias</th>\n",
              "      <th>aeronave_assentos</th>\n",
              "      <th>Unnamed: 2</th>\n",
              "    </tr>\n",
              "  </thead>\n",
              "  <tbody>\n",
              "    <tr>\n",
              "      <th>0</th>\n",
              "      <td>883</td>\n",
              "      <td>6</td>\n",
              "      <td>nan</td>\n",
              "    </tr>\n",
              "    <tr>\n",
              "      <th>1</th>\n",
              "      <td>765</td>\n",
              "      <td>2</td>\n",
              "      <td>nan</td>\n",
              "    </tr>\n",
              "    <tr>\n",
              "      <th>2</th>\n",
              "      <td>621</td>\n",
              "      <td>4</td>\n",
              "      <td>nan</td>\n",
              "    </tr>\n",
              "    <tr>\n",
              "      <th>3</th>\n",
              "      <td>488</td>\n",
              "      <td>1</td>\n",
              "      <td>nan</td>\n",
              "    </tr>\n",
              "    <tr>\n",
              "      <th>4</th>\n",
              "      <td>298</td>\n",
              "      <td>7</td>\n",
              "      <td>nan</td>\n",
              "    </tr>\n",
              "  </tbody>\n",
              "</table>\n",
              "</div>"
            ],
            "text/plain": [
              "   ocorrencias  aeronave_assentos  Unnamed: 2\n",
              "0          883                  6         nan\n",
              "1          765                  2         nan\n",
              "2          621                  4         nan\n",
              "3          488                  1         nan\n",
              "4          298                  7         nan"
            ]
          },
          "metadata": {},
          "execution_count": 3
        }
      ]
    },
    {
      "cell_type": "code",
      "metadata": {
        "colab": {
          "base_uri": "https://localhost:8080/",
          "height": 387
        },
        "id": "A4ZQT4p3lOBN",
        "outputId": "d5003380-9e98-467c-e9a8-ea2faf1087b3"
      },
      "source": [
        "sns.lmplot(x='ocorrencias', y='aeronave_assentos', data=df_filtrador1)"
      ],
      "execution_count": null,
      "outputs": [
        {
          "output_type": "execute_result",
          "data": {
            "text/plain": [
              "<seaborn.axisgrid.FacetGrid at 0x7fdd1d2b7890>"
            ]
          },
          "metadata": {},
          "execution_count": 7
        },
        {
          "output_type": "display_data",
          "data": {
            "image/png": "[encoded data removed]",
            "text/plain": [
              "<Figure size 360x360 with 1 Axes>"
            ]
          },
          "metadata": {
            "needs_background": "light"
          }
        }
      ]
    },
    {
      "cell_type": "markdown",
      "metadata": {
        "id": "Q5Wf-mflrdiV"
      },
      "source": [
        "Cada ocorrência possui um código como mostra no dataset que está sendo usado neste estudo, então pode-se notar que aeronaves de 1 a 25 assentos possuem mais ocorrências. Ou seja, enquanto o número de ocorrências de aeronaves com 125 assentos fica entre 100 e 200, as ocorrências com as aeronaves de 1 a 25 assentos podem variar de 100 até 900 ocorrências ou mais, ou seja, a tendência e que aeronaves com menos de 25 assentos tenham mais ocorrências."
      ]
    },
    {
      "cell_type": "code",
      "metadata": {
        "id": "kd7G3Q4Lrb_u"
      },
      "source": [
        ""
      ],
      "execution_count": null,
      "outputs": []
    },
    {
      "cell_type": "markdown",
      "metadata": {
        "id": "FLtb4xe2KNZQ"
      },
      "source": [
        "Estudo final - Conclusão"
      ]
    },
    {
      "cell_type": "markdown",
      "metadata": {
        "id": "VVIdR0LYKYGN"
      },
      "source": [
        "A aviação comercial surgiu há mais de 100 anos e desde então tem evoluído consideravelmente. É inegável que assim como em outras indústrias e transportes, acidentes tenham acontecidos, entretanto, é importante salientar a forma como essa indústria consegue ser resiliente em seus propósitos de segurança, em suma, acidentes que aconteceram a 10 anos atrás, não ocorreriam nos tempos atuais, muito por causa da tecnologia existente hoje e de procedimentos, normas e treinamentos aplicados em cada voo e em aeroportos.\n",
        "\n",
        "\n",
        "\n",
        "De acordo com a revista norte-americana Condé Nas Traveler, o avião aparece como o segundo transporte mais seguro do mundo, perdendo apenas para o elevador e ficando a frente de transportes como o trem e o metrô. De fato, só em 2020 mais de 2.000 pessoas morreram em acidentes de ônibus, enquanto em avião esse número não passou de 50.\n",
        "\n",
        "\n",
        "\n",
        "Através desse estudo pode-se concluir alguns fatos sobre a aviação brasileira, alguns corriqueiros como fato de que a maioria dos acidentes e incidentes ocorrem com aeronaves de pequeno porte, assim como a maioria das fatalidades.\n",
        "\n",
        "\n",
        "\n",
        "Entretanto pode-se notar que avião mais velhos não são necessariamente mais perigosos para se voar, do que aviões mais novos, um avião depende muito de seu estado físico e não necessariamente de sua idade ou ano de fabricação.\n",
        "\n",
        "\n",
        "\n",
        "\n",
        "Também é necessário salientar que a maioria das ocorrências que acontecem no Brasil são incidentes e que a média de ocorrências vem diminuindo nesses últimos anos. Uma curiosidade na descrição das ocorrências é que os problemas mais comuns são falhas nos motores em voo, entretanto, por mais fatal que essas ocorrências possam parecer esses incidentes graves não são tão destrutivos, os pilotos podem executar manobras de planagem e aterrizar a aeronave com segurança, entretanto, é necessário que a tripulação conheça bem a rota na qual a aeronave está voando.\n",
        "\n",
        "\n",
        "\n",
        "\n",
        "Por fim, os aviões não estão livres de problemas e falhas, como mostrou esse estudo. Mas, como foi dito antes, problemas e acidentes estão cada vez mais raros, ou seja, de acordo com os números e os fatos o avião continua sendo um transporte rápido, seguro e confiável."
      ]
    },
    {
      "cell_type": "code",
      "metadata": {
        "id": "gthtGoFDqARv"
      },
      "source": [
        ""
      ],
      "execution_count": null,
      "outputs": []
    },
    {
      "cell_type": "markdown",
      "metadata": {
        "id": "A_36xTyOBNh2"
      },
      "source": [
        "Referências Bibliográficas"
      ]
    },
    {
      "cell_type": "code",
      "metadata": {
        "id": "I3e4eVmqN2k-"
      },
      "source": [
        ""
      ],
      "execution_count": null,
      "outputs": []
    },
    {
      "cell_type": "markdown",
      "metadata": {
        "id": "m4SizG2oBZQ7"
      },
      "source": [
        "https://aprendizadodemaquina.com/artigos/o-que-e-pandas/\n",
        "\n",
        "https://www.voitto.com.br/blog/artigo/o-que-e-python-matplotlib\n",
        "\n",
        "https://acervolima.com/introducao-ao-seaborn-python/\n",
        "\n",
        "https://medium.com/ensina-ai/entendendo-a-biblioteca-numpy-4858fde63355\n",
        "\n",
        "https://didatica.tech/a-biblioteca-scikit-learn-pyhton-para-machine-learning/\n",
        "\n",
        "https://www.statsmodels.org/stable/index.html\n",
        "\n",
        "https://sigmoidal.ai/como-criar-graficos-interativos-usando-plotly-e-python/\n",
        "\n",
        "\n",
        "https://docs.python.org/pt-br/3/library/math.html\n",
        "https://www.gov.br/anac/pt-br/noticias/2014/indice-de-acidentes-aereos-com-fatalidades-cai-15-em-2013\n",
        "\n",
        "\n",
        "https://exame.com/brasil/numero-de-acidentes-aereos-no-brasil-cai-8-5-em-2013/\n",
        "\n",
        "https://www.google.com/amp/s/forbes.com.br/listas/2018/11/os-17-aeroportos-mais-perigosos-do-mundo/%3famp\n",
        "\n",
        "https://www.investe.sp.gov.br/noticia/sao-paulo-tem-a-maior-frota-de-helicopteros-do-mundo/\n",
        "\n",
        "\n",
        "\n",
        "https://www.chamoneaviacao.com.br/jato-turboelice-ou-pistao-saiba-como-escolher-sua-aeronave/\n",
        "\n",
        "\n",
        "https://jovempan.com.br/noticias/brasil/cessna-210-e-terceiro-modelo-de-aviao-que-mais-se-envolve-em-acidentes.html\n",
        "\n",
        "https://www.cnnbrasil.com.br/nacional/metade-das-aeronaves-de-transporte-privado-e-taxi-aereo-estao-impedidas-de-voar/\n",
        "\n",
        "\n",
        "https://www.melhoresdestinos.com.br/aeroportos-rio-janeiro-galeao-santos-dumont.html\n",
        "\n",
        "\n",
        "https://todosabordo.blogosfera.uol.com.br/2019/03/09/aviao-velho-e-mais-perigoso-de-voar-do-que-um-novo/\n",
        "\n",
        "\n",
        "https://olhardigital.com.br/2021/04/09/carros-e-tecnologia/voos-com-o-boeing-737-max-suspensos/\n",
        "\n",
        "\n",
        "https://www.aeroflap.com.br/os-10-aeroportos-mais-movimentados-do-brasil/\n",
        "\n",
        "\n",
        "\n",
        "https://www.revistarural.com.br/2021/04/12/aviacao-agricola-cresceu-316-e-brasil-ja-tem-segunda-maior-frota-mundial/\n",
        "\n",
        "\n",
        "https://www.bbc.com/portuguese/noticias/2014/04/140415_sp_caixa_preta_inventor_hb\n",
        "\n",
        "\n",
        "\n",
        "https://www.poder360.com.br/brasil/brasil-teve-111-acidentes-com-aeronaves-de-pequeno-porte-em-2021/\n",
        "\n",
        "\n",
        "https://www.centralpress.com.br/maio-amarelo-saiba-quais-sao-os-meios-de-transporte-mais-seguros-do-mundo/\n",
        "\n",
        "\n",
        "https://pt.wikipedia.org/wiki/Centro_de_Investiga%C3%A7%C3%A3o_e_Preven%C3%A7%C3%A3o_de_Acidentes_Aeron%C3%A1uticos"
      ]
    }
  ]
}